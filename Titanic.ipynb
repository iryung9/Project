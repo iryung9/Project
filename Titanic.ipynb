{
 "cells": [
  {
   "cell_type": "code",
   "execution_count": 1,
   "metadata": {},
   "outputs": [],
   "source": [
    "import pandas as pd\n",
    "import numpy as np\n",
    "import matplotlib.pyplot as plt\n",
    "import seaborn as sns\n",
    "import missingno as msno\n",
    "import re\n",
    "\n",
    "from sklearn.linear_model import LogisticRegression #로지스틱 회귀 모델\n",
    "from sklearn.tree import DecisionTreeClassifier # 의사결정 나무"
   ]
  },
  {
   "cell_type": "code",
   "execution_count": 2,
   "metadata": {},
   "outputs": [],
   "source": [
    "train=pd.read_csv('train.csv')\n",
    "test=pd.read_csv('test.csv')"
   ]
  },
  {
   "cell_type": "markdown",
   "metadata": {},
   "source": [
    "# 1. 데이터 파악"
   ]
  },
  {
   "cell_type": "code",
   "execution_count": 3,
   "metadata": {
    "scrolled": true
   },
   "outputs": [
    {
     "data": {
      "text/html": [
       "<div>\n",
       "<style scoped>\n",
       "    .dataframe tbody tr th:only-of-type {\n",
       "        vertical-align: middle;\n",
       "    }\n",
       "\n",
       "    .dataframe tbody tr th {\n",
       "        vertical-align: top;\n",
       "    }\n",
       "\n",
       "    .dataframe thead th {\n",
       "        text-align: right;\n",
       "    }\n",
       "</style>\n",
       "<table border=\"1\" class=\"dataframe\">\n",
       "  <thead>\n",
       "    <tr style=\"text-align: right;\">\n",
       "      <th></th>\n",
       "      <th>PassengerId</th>\n",
       "      <th>Survived</th>\n",
       "      <th>Pclass</th>\n",
       "      <th>Name</th>\n",
       "      <th>Sex</th>\n",
       "      <th>Age</th>\n",
       "      <th>SibSp</th>\n",
       "      <th>Parch</th>\n",
       "      <th>Ticket</th>\n",
       "      <th>Fare</th>\n",
       "      <th>Cabin</th>\n",
       "      <th>Embarked</th>\n",
       "    </tr>\n",
       "  </thead>\n",
       "  <tbody>\n",
       "    <tr>\n",
       "      <th>0</th>\n",
       "      <td>1</td>\n",
       "      <td>0</td>\n",
       "      <td>3</td>\n",
       "      <td>Braund, Mr. Owen Harris</td>\n",
       "      <td>male</td>\n",
       "      <td>22.0</td>\n",
       "      <td>1</td>\n",
       "      <td>0</td>\n",
       "      <td>A/5 21171</td>\n",
       "      <td>7.2500</td>\n",
       "      <td>NaN</td>\n",
       "      <td>S</td>\n",
       "    </tr>\n",
       "    <tr>\n",
       "      <th>1</th>\n",
       "      <td>2</td>\n",
       "      <td>1</td>\n",
       "      <td>1</td>\n",
       "      <td>Cumings, Mrs. John Bradley (Florence Briggs Th...</td>\n",
       "      <td>female</td>\n",
       "      <td>38.0</td>\n",
       "      <td>1</td>\n",
       "      <td>0</td>\n",
       "      <td>PC 17599</td>\n",
       "      <td>71.2833</td>\n",
       "      <td>C85</td>\n",
       "      <td>C</td>\n",
       "    </tr>\n",
       "    <tr>\n",
       "      <th>2</th>\n",
       "      <td>3</td>\n",
       "      <td>1</td>\n",
       "      <td>3</td>\n",
       "      <td>Heikkinen, Miss. Laina</td>\n",
       "      <td>female</td>\n",
       "      <td>26.0</td>\n",
       "      <td>0</td>\n",
       "      <td>0</td>\n",
       "      <td>STON/O2. 3101282</td>\n",
       "      <td>7.9250</td>\n",
       "      <td>NaN</td>\n",
       "      <td>S</td>\n",
       "    </tr>\n",
       "    <tr>\n",
       "      <th>3</th>\n",
       "      <td>4</td>\n",
       "      <td>1</td>\n",
       "      <td>1</td>\n",
       "      <td>Futrelle, Mrs. Jacques Heath (Lily May Peel)</td>\n",
       "      <td>female</td>\n",
       "      <td>35.0</td>\n",
       "      <td>1</td>\n",
       "      <td>0</td>\n",
       "      <td>113803</td>\n",
       "      <td>53.1000</td>\n",
       "      <td>C123</td>\n",
       "      <td>S</td>\n",
       "    </tr>\n",
       "    <tr>\n",
       "      <th>4</th>\n",
       "      <td>5</td>\n",
       "      <td>0</td>\n",
       "      <td>3</td>\n",
       "      <td>Allen, Mr. William Henry</td>\n",
       "      <td>male</td>\n",
       "      <td>35.0</td>\n",
       "      <td>0</td>\n",
       "      <td>0</td>\n",
       "      <td>373450</td>\n",
       "      <td>8.0500</td>\n",
       "      <td>NaN</td>\n",
       "      <td>S</td>\n",
       "    </tr>\n",
       "  </tbody>\n",
       "</table>\n",
       "</div>"
      ],
      "text/plain": [
       "   PassengerId  Survived  Pclass  \\\n",
       "0            1         0       3   \n",
       "1            2         1       1   \n",
       "2            3         1       3   \n",
       "3            4         1       1   \n",
       "4            5         0       3   \n",
       "\n",
       "                                                Name     Sex   Age  SibSp  \\\n",
       "0                            Braund, Mr. Owen Harris    male  22.0      1   \n",
       "1  Cumings, Mrs. John Bradley (Florence Briggs Th...  female  38.0      1   \n",
       "2                             Heikkinen, Miss. Laina  female  26.0      0   \n",
       "3       Futrelle, Mrs. Jacques Heath (Lily May Peel)  female  35.0      1   \n",
       "4                           Allen, Mr. William Henry    male  35.0      0   \n",
       "\n",
       "   Parch            Ticket     Fare Cabin Embarked  \n",
       "0      0         A/5 21171   7.2500   NaN        S  \n",
       "1      0          PC 17599  71.2833   C85        C  \n",
       "2      0  STON/O2. 3101282   7.9250   NaN        S  \n",
       "3      0            113803  53.1000  C123        S  \n",
       "4      0            373450   8.0500   NaN        S  "
      ]
     },
     "execution_count": 3,
     "metadata": {},
     "output_type": "execute_result"
    }
   ],
   "source": [
    "train.head()"
   ]
  },
  {
   "cell_type": "markdown",
   "metadata": {},
   "source": [
    "Survived - 0:사망, 1: 생존 <br> \n",
    "Pclass - 등실 등급 <br>\n",
    "SibSp - 함께 탑승한 형제자매, 아내, 남편의 수 <br>\n",
    "Parch - 함께 탑승한 부모, 자식의 수 <br>\n",
    "Cabin - 객실 번호 <br>\n",
    "Embarked - 배에 탑승한 위치(C = Cherbourg, Q = Queenstown, S = Southampton) <br>"
   ]
  },
  {
   "cell_type": "code",
   "execution_count": 4,
   "metadata": {
    "scrolled": true
   },
   "outputs": [
    {
     "name": "stdout",
     "output_type": "stream",
     "text": [
      "<class 'pandas.core.frame.DataFrame'>\n",
      "RangeIndex: 891 entries, 0 to 890\n",
      "Data columns (total 12 columns):\n",
      " #   Column       Non-Null Count  Dtype  \n",
      "---  ------       --------------  -----  \n",
      " 0   PassengerId  891 non-null    int64  \n",
      " 1   Survived     891 non-null    int64  \n",
      " 2   Pclass       891 non-null    int64  \n",
      " 3   Name         891 non-null    object \n",
      " 4   Sex          891 non-null    object \n",
      " 5   Age          714 non-null    float64\n",
      " 6   SibSp        891 non-null    int64  \n",
      " 7   Parch        891 non-null    int64  \n",
      " 8   Ticket       891 non-null    object \n",
      " 9   Fare         891 non-null    float64\n",
      " 10  Cabin        204 non-null    object \n",
      " 11  Embarked     889 non-null    object \n",
      "dtypes: float64(2), int64(5), object(5)\n",
      "memory usage: 83.7+ KB\n"
     ]
    }
   ],
   "source": [
    "#정보 확인\n",
    "train.info()"
   ]
  },
  {
   "cell_type": "code",
   "execution_count": 5,
   "metadata": {},
   "outputs": [
    {
     "name": "stdout",
     "output_type": "stream",
     "text": [
      "<class 'pandas.core.frame.DataFrame'>\n",
      "RangeIndex: 418 entries, 0 to 417\n",
      "Data columns (total 11 columns):\n",
      " #   Column       Non-Null Count  Dtype  \n",
      "---  ------       --------------  -----  \n",
      " 0   PassengerId  418 non-null    int64  \n",
      " 1   Pclass       418 non-null    int64  \n",
      " 2   Name         418 non-null    object \n",
      " 3   Sex          418 non-null    object \n",
      " 4   Age          332 non-null    float64\n",
      " 5   SibSp        418 non-null    int64  \n",
      " 6   Parch        418 non-null    int64  \n",
      " 7   Ticket       418 non-null    object \n",
      " 8   Fare         417 non-null    float64\n",
      " 9   Cabin        91 non-null     object \n",
      " 10  Embarked     418 non-null    object \n",
      "dtypes: float64(2), int64(4), object(5)\n",
      "memory usage: 36.0+ KB\n"
     ]
    }
   ],
   "source": [
    "test.info()"
   ]
  },
  {
   "cell_type": "code",
   "execution_count": 6,
   "metadata": {
    "scrolled": false
   },
   "outputs": [
    {
     "data": {
      "text/plain": [
       "<AxesSubplot:>"
      ]
     },
     "execution_count": 6,
     "metadata": {},
     "output_type": "execute_result"
    },
    {
     "data": {
      "image/png": "[encoded data removed]",
      "text/plain": [
       "<Figure size 1800x720 with 2 Axes>"
      ]
     },
     "metadata": {
      "needs_background": "light"
     },
     "output_type": "display_data"
    }
   ],
   "source": [
    "#결측치 확인\n",
    "msno.matrix(train)"
   ]
  },
  {
   "cell_type": "code",
   "execution_count": 7,
   "metadata": {
    "scrolled": true
   },
   "outputs": [
    {
     "data": {
      "text/html": [
       "<div>\n",
       "<style scoped>\n",
       "    .dataframe tbody tr th:only-of-type {\n",
       "        vertical-align: middle;\n",
       "    }\n",
       "\n",
       "    .dataframe tbody tr th {\n",
       "        vertical-align: top;\n",
       "    }\n",
       "\n",
       "    .dataframe thead th {\n",
       "        text-align: right;\n",
       "    }\n",
       "</style>\n",
       "<table border=\"1\" class=\"dataframe\">\n",
       "  <thead>\n",
       "    <tr style=\"text-align: right;\">\n",
       "      <th></th>\n",
       "      <th>PassengerId</th>\n",
       "      <th>Survived</th>\n",
       "      <th>Pclass</th>\n",
       "      <th>Age</th>\n",
       "      <th>SibSp</th>\n",
       "      <th>Parch</th>\n",
       "      <th>Fare</th>\n",
       "    </tr>\n",
       "  </thead>\n",
       "  <tbody>\n",
       "    <tr>\n",
       "      <th>count</th>\n",
       "      <td>891.000000</td>\n",
       "      <td>891.000000</td>\n",
       "      <td>891.000000</td>\n",
       "      <td>714.000000</td>\n",
       "      <td>891.000000</td>\n",
       "      <td>891.000000</td>\n",
       "      <td>891.000000</td>\n",
       "    </tr>\n",
       "    <tr>\n",
       "      <th>mean</th>\n",
       "      <td>446.000000</td>\n",
       "      <td>0.383838</td>\n",
       "      <td>2.308642</td>\n",
       "      <td>29.699118</td>\n",
       "      <td>0.523008</td>\n",
       "      <td>0.381594</td>\n",
       "      <td>32.204208</td>\n",
       "    </tr>\n",
       "    <tr>\n",
       "      <th>std</th>\n",
       "      <td>257.353842</td>\n",
       "      <td>0.486592</td>\n",
       "      <td>0.836071</td>\n",
       "      <td>14.526497</td>\n",
       "      <td>1.102743</td>\n",
       "      <td>0.806057</td>\n",
       "      <td>49.693429</td>\n",
       "    </tr>\n",
       "    <tr>\n",
       "      <th>min</th>\n",
       "      <td>1.000000</td>\n",
       "      <td>0.000000</td>\n",
       "      <td>1.000000</td>\n",
       "      <td>0.420000</td>\n",
       "      <td>0.000000</td>\n",
       "      <td>0.000000</td>\n",
       "      <td>0.000000</td>\n",
       "    </tr>\n",
       "    <tr>\n",
       "      <th>25%</th>\n",
       "      <td>223.500000</td>\n",
       "      <td>0.000000</td>\n",
       "      <td>2.000000</td>\n",
       "      <td>20.125000</td>\n",
       "      <td>0.000000</td>\n",
       "      <td>0.000000</td>\n",
       "      <td>7.910400</td>\n",
       "    </tr>\n",
       "    <tr>\n",
       "      <th>50%</th>\n",
       "      <td>446.000000</td>\n",
       "      <td>0.000000</td>\n",
       "      <td>3.000000</td>\n",
       "      <td>28.000000</td>\n",
       "      <td>0.000000</td>\n",
       "      <td>0.000000</td>\n",
       "      <td>14.454200</td>\n",
       "    </tr>\n",
       "    <tr>\n",
       "      <th>75%</th>\n",
       "      <td>668.500000</td>\n",
       "      <td>1.000000</td>\n",
       "      <td>3.000000</td>\n",
       "      <td>38.000000</td>\n",
       "      <td>1.000000</td>\n",
       "      <td>0.000000</td>\n",
       "      <td>31.000000</td>\n",
       "    </tr>\n",
       "    <tr>\n",
       "      <th>max</th>\n",
       "      <td>891.000000</td>\n",
       "      <td>1.000000</td>\n",
       "      <td>3.000000</td>\n",
       "      <td>80.000000</td>\n",
       "      <td>8.000000</td>\n",
       "      <td>6.000000</td>\n",
       "      <td>512.329200</td>\n",
       "    </tr>\n",
       "  </tbody>\n",
       "</table>\n",
       "</div>"
      ],
      "text/plain": [
       "       PassengerId    Survived      Pclass         Age       SibSp  \\\n",
       "count   891.000000  891.000000  891.000000  714.000000  891.000000   \n",
       "mean    446.000000    0.383838    2.308642   29.699118    0.523008   \n",
       "std     257.353842    0.486592    0.836071   14.526497    1.102743   \n",
       "min       1.000000    0.000000    1.000000    0.420000    0.000000   \n",
       "25%     223.500000    0.000000    2.000000   20.125000    0.000000   \n",
       "50%     446.000000    0.000000    3.000000   28.000000    0.000000   \n",
       "75%     668.500000    1.000000    3.000000   38.000000    1.000000   \n",
       "max     891.000000    1.000000    3.000000   80.000000    8.000000   \n",
       "\n",
       "            Parch        Fare  \n",
       "count  891.000000  891.000000  \n",
       "mean     0.381594   32.204208  \n",
       "std      0.806057   49.693429  \n",
       "min      0.000000    0.000000  \n",
       "25%      0.000000    7.910400  \n",
       "50%      0.000000   14.454200  \n",
       "75%      0.000000   31.000000  \n",
       "max      6.000000  512.329200  "
      ]
     },
     "execution_count": 7,
     "metadata": {},
     "output_type": "execute_result"
    }
   ],
   "source": [
    "#데이터셋 분포 양상\n",
    "train.describe()"
   ]
  },
  {
   "cell_type": "code",
   "execution_count": 8,
   "metadata": {
    "scrolled": true
   },
   "outputs": [
    {
     "data": {
      "text/plain": [
       "(array([577.,   0.,   0.,   0.,   0.,   0.,   0.,   0.,   0., 314.]),\n",
       " array([0. , 0.1, 0.2, 0.3, 0.4, 0.5, 0.6, 0.7, 0.8, 0.9, 1. ]),\n",
       " <BarContainer object of 10 artists>)"
      ]
     },
     "execution_count": 8,
     "metadata": {},
     "output_type": "execute_result"
    },
    {
     "data": {
      "image/png": "[encoded data removed]",
      "text/plain": [
       "<Figure size 1152x864 with 7 Axes>"
      ]
     },
     "metadata": {
      "needs_background": "light"
     },
     "output_type": "display_data"
    }
   ],
   "source": [
    "plt.figure(figsize=[16,12])\n",
    "\n",
    "plt.subplot(241)\n",
    "plt.hist(x=train['Survived'])\n",
    "\n",
    "plt.subplot(242)\n",
    "plt.hist(x=train['Pclass'])\n",
    "\n",
    "plt.subplot(243)\n",
    "plt.hist(x=train['Age'])\n",
    "\n",
    "plt.subplot(244)\n",
    "plt.hist(x=train['SibSp'])\n",
    "\n",
    "plt.subplot(245)\n",
    "plt.hist(x=train['Parch'])\n",
    "\n",
    "plt.subplot(246)\n",
    "plt.hist(x=train['Fare'])\n",
    "\n",
    "plt.subplot(247)\n",
    "plt.hist(x=train['Sex'])"
   ]
  },
  {
   "cell_type": "markdown",
   "metadata": {},
   "source": [
    "1. 60%의 승객이 사망\n",
    "2. 절반 이상이 3등급 등실\n",
    "3. 청,장년층에 승객 분포\n",
    "4. 함께 탑승한 형제자매, 아내, 남편의 수가 적은 편\n",
    "5. 함께 탑승한 부모, 자식의 수가 적은 편\n",
    "- 그러나 부모-자식의 승객보다는 부부,형제관계의 승객이 많다.\n",
    "6. 저가의 요금을 지불한 승객이 많다\n",
    "7. 남성 승객이 여성 승객보다 많다"
   ]
  },
  {
   "cell_type": "code",
   "execution_count": 9,
   "metadata": {
    "scrolled": false
   },
   "outputs": [
    {
     "data": {
      "text/plain": [
       "<matplotlib.legend.Legend at 0x18d22897fa0>"
      ]
     },
     "execution_count": 9,
     "metadata": {},
     "output_type": "execute_result"
    },
    {
     "data": {
      "image/png": "[encoded data removed]",
      "text/plain": [
       "<Figure size 1152x864 with 6 Axes>"
      ]
     },
     "metadata": {
      "needs_background": "light"
     },
     "output_type": "display_data"
    }
   ],
   "source": [
    "plt.figure(figsize=[16,12])\n",
    "\n",
    "plt.subplot(231)\n",
    "plt.hist(x=[train[train['Survived']==1]['Pclass'],train[train['Survived']==0]['Pclass']],\n",
    "         stacked=True,label=['Survived','Dead'])\n",
    "plt.legend()\n",
    "\n",
    "plt.subplot(232)\n",
    "plt.hist(x=[train[train['Survived']==1]['Age'],train[train['Survived']==0]['Age']],\n",
    "         stacked=True,label=['Survived','Dead'])\n",
    "plt.legend()\n",
    "\n",
    "plt.subplot(233)\n",
    "plt.hist(x=[train[train['Survived']==1]['SibSp'],train[train['Survived']==0]['SibSp']],\n",
    "         stacked=True,label=['Survived','Dead'])\n",
    "plt.legend()\n",
    "\n",
    "plt.subplot(234)\n",
    "plt.hist(x=[train[train['Survived']==1]['Parch'],train[train['Survived']==0]['Parch']],\n",
    "         stacked=True,label=['Survived','Dead'])\n",
    "plt.legend()\n",
    "\n",
    "plt.subplot(235)\n",
    "plt.hist(x=[train[train['Survived']==1]['Fare'],train[train['Survived']==0]['Fare']],\n",
    "         stacked=True,label=['Survived','Dead'])\n",
    "plt.legend()\n",
    "\n",
    "plt.subplot(236)\n",
    "plt.hist(x=[train[train['Survived']==1]['Sex'],train[train['Survived']==0]['Sex']],\n",
    "         stacked=True,label=['Survived','Dead'])\n",
    "plt.legend()"
   ]
  },
  {
   "cell_type": "markdown",
   "metadata": {},
   "source": [
    "1. 1,2등석은 생존률이 비슷하나 3등석은 사망률이 월등히 높음\n",
    "2. 청,장년층의 사망률이 높음. 80대와 10대 미만의 아이들은 생존률이 높은 것으로 보아 노약자 구조에 우선한 것으로 생각됨\n",
    "3. 본인 외 가족과 동반해 온 사람들의 분포를 살펴보면 혼자 탑승한 승객은 사망률이 높음. 그러나 동반인이 있는 경우 그 수에 관계 없이 절반의 확률로 생존함\n",
    "4. 요금을 많이 지불한 승객이 높은 확률로 생존함\n",
    "5. 여성이 남성보다 많이 생존함"
   ]
  },
  {
   "cell_type": "markdown",
   "metadata": {},
   "source": [
    "# 2. 전처리 및 결측치 처리"
   ]
  },
  {
   "cell_type": "markdown",
   "metadata": {},
   "source": [
    "### 0) 전반적 전처리"
   ]
  },
  {
   "cell_type": "markdown",
   "metadata": {},
   "source": [
    "- train : Age, Fare, Cabin에서 결측치 존재"
   ]
  },
  {
   "cell_type": "code",
   "execution_count": 10,
   "metadata": {
    "scrolled": true
   },
   "outputs": [
    {
     "data": {
      "text/plain": [
       "PassengerId      0\n",
       "Survived         0\n",
       "Pclass           0\n",
       "Name             0\n",
       "Sex              0\n",
       "Age            177\n",
       "SibSp            0\n",
       "Parch            0\n",
       "Ticket           0\n",
       "Fare             0\n",
       "Cabin          687\n",
       "Embarked         2\n",
       "dtype: int64"
      ]
     },
     "execution_count": 10,
     "metadata": {},
     "output_type": "execute_result"
    }
   ],
   "source": [
    "train.isnull().sum()"
   ]
  },
  {
   "cell_type": "markdown",
   "metadata": {},
   "source": [
    "- test : Age, Fare, Cabin에서 결측치 존재"
   ]
  },
  {
   "cell_type": "code",
   "execution_count": 11,
   "metadata": {},
   "outputs": [
    {
     "data": {
      "text/plain": [
       "PassengerId      0\n",
       "Pclass           0\n",
       "Name             0\n",
       "Sex              0\n",
       "Age             86\n",
       "SibSp            0\n",
       "Parch            0\n",
       "Ticket           0\n",
       "Fare             1\n",
       "Cabin          327\n",
       "Embarked         0\n",
       "dtype: int64"
      ]
     },
     "execution_count": 11,
     "metadata": {},
     "output_type": "execute_result"
    }
   ],
   "source": [
    "test.isnull().sum()"
   ]
  },
  {
   "cell_type": "markdown",
   "metadata": {},
   "source": [
    "- 통일된 전처리를 위해 train과 test를 합친다"
   ]
  },
  {
   "cell_type": "code",
   "execution_count": 12,
   "metadata": {
    "scrolled": true
   },
   "outputs": [],
   "source": [
    "df=pd.concat([train,test]).reset_index(drop=True)"
   ]
  },
  {
   "cell_type": "code",
   "execution_count": 13,
   "metadata": {},
   "outputs": [],
   "source": [
    "sex_mapping={'male':1,'female':2}\n",
    "df['Sex']=df['Sex'].map(sex_mapping)"
   ]
  },
  {
   "cell_type": "markdown",
   "metadata": {},
   "source": [
    "- 정규 표현식을 사용해서 자르려고 했는데 concat한 df에서 안됨"
   ]
  },
  {
   "cell_type": "code",
   "execution_count": 14,
   "metadata": {},
   "outputs": [],
   "source": [
    "# for dataset in df:\n",
    "#     dataset['NameTitle']=dataset['Name'].str.extract('([A-Za-z]+)\\.',expand=False)\n",
    "# p=re.compile('([A-Za-z]+)\\.')\n",
    "# df['Nametitle']=p.search(df['Name'])\n",
    "# df['NameTitle']=df['Name'].apply(lambda x: df['Name'].str.extract('([A-Za-z]+)\\.'))"
   ]
  },
  {
   "cell_type": "code",
   "execution_count": 15,
   "metadata": {},
   "outputs": [],
   "source": [
    "df['NameTitle'] = df['Name'].apply(lambda x: x.split(',')[1].strip().split('.')[0])"
   ]
  },
  {
   "cell_type": "code",
   "execution_count": 16,
   "metadata": {
    "scrolled": true
   },
   "outputs": [
    {
     "data": {
      "text/plain": [
       "Mr              757\n",
       "Miss            260\n",
       "Mrs             197\n",
       "Master           61\n",
       "Dr                8\n",
       "Rev               8\n",
       "Col               4\n",
       "Mlle              2\n",
       "Major             2\n",
       "Ms                2\n",
       "Mme               1\n",
       "Capt              1\n",
       "Dona              1\n",
       "Lady              1\n",
       "the Countess      1\n",
       "Don               1\n",
       "Jonkheer          1\n",
       "Sir               1\n",
       "Name: NameTitle, dtype: int64"
      ]
     },
     "execution_count": 16,
     "metadata": {},
     "output_type": "execute_result"
    }
   ],
   "source": [
    "df['NameTitle'].value_counts()\n",
    "# #Q. 왜 df['Nametitle은 안되지?'] - List 형태에서만 가능한거였음"
   ]
  },
  {
   "cell_type": "markdown",
   "metadata": {},
   "source": [
    "- 호칭에 따른 연령 분포 산점도 그래프"
   ]
  },
  {
   "cell_type": "code",
   "execution_count": 17,
   "metadata": {
    "scrolled": true
   },
   "outputs": [
    {
     "data": {
      "text/plain": [
       "<matplotlib.collections.PathCollection at 0x18d229f5d00>"
      ]
     },
     "execution_count": 17,
     "metadata": {},
     "output_type": "execute_result"
    },
    {
     "data": {
      "image/png": "[encoded data removed]",
      "text/plain": [
       "<Figure size 1440x360 with 1 Axes>"
      ]
     },
     "metadata": {
      "needs_background": "light"
     },
     "output_type": "display_data"
    }
   ],
   "source": [
    "plt.figure(figsize=(20,5))\n",
    "plt.scatter(df['NameTitle'],df['Age'])"
   ]
  },
  {
   "cell_type": "code",
   "execution_count": 18,
   "metadata": {
    "scrolled": true
   },
   "outputs": [
    {
     "data": {
      "text/plain": [
       "<matplotlib.collections.PathCollection at 0x18d22a64fd0>"
      ]
     },
     "execution_count": 18,
     "metadata": {},
     "output_type": "execute_result"
    },
    {
     "data": {
      "image/png": "[encoded data removed]",
      "text/plain": [
       "<Figure size 1440x216 with 1 Axes>"
      ]
     },
     "metadata": {
      "needs_background": "light"
     },
     "output_type": "display_data"
    }
   ],
   "source": [
    "plt.figure(figsize=(20,3))\n",
    "plt.scatter(df['NameTitle'],df['Sex'])"
   ]
  },
  {
   "cell_type": "markdown",
   "metadata": {},
   "source": [
    "- Mr(0) : Dr, Rev, Major,Col,Jonkheer, Countess,Sir, Don, Capt, Master\n",
    "- Miss(1) : Mile, Ms, Mme, \n",
    "- Mrs(2) : Lady,Dona"
   ]
  },
  {
   "cell_type": "code",
   "execution_count": 19,
   "metadata": {},
   "outputs": [],
   "source": [
    "title_mapping={\n",
    "'Mr':0,\n",
    "'Miss':1,\n",
    "'Mrs':2,\n",
    "'Master':0,\n",
    "'Dr':3,\n",
    "'Rev':0,\n",
    "'Major':0,\n",
    "'Mlle':1,\n",
    "'Col':0,\n",
    "'Jonkheer':0,\n",
    "'Ms':1,\n",
    "'Mme':1,\n",
    "'the Countess':0,\n",
    "'Sir':0,\n",
    "'Don':0,\n",
    "'Capt':0,\n",
    "'Lady':2,\n",
    "'Dona':2\n",
    "}"
   ]
  },
  {
   "cell_type": "markdown",
   "metadata": {},
   "source": [
    "실패의 흔적들.... ↓"
   ]
  },
  {
   "cell_type": "code",
   "execution_count": 20,
   "metadata": {},
   "outputs": [],
   "source": [
    "# # for dataset in df:\n",
    "# #     dataset['name_num']=dataset['NameTitle'].map(title_mapping)\n",
    "# df=pd.DataFrame({'NameTitle':[\n",
    "#     'Dr', 'Rev', 'Major','Col','Jonkheer', 'Countess','Sir', 'Don', 'Capt', 'Master','Mr',\n",
    "#     'Miss','Mile', 'Ms', 'Mme',\n",
    "#     'Mrs','Lady','Dona'],\n",
    "#     'name_num':[0,0,0,0,0,0,0,0,0,0,0,1,1,1,1,2,2,2]})"
   ]
  },
  {
   "cell_type": "code",
   "execution_count": 21,
   "metadata": {},
   "outputs": [],
   "source": [
    "df['name_num']=df['NameTitle'].map(title_mapping)"
   ]
  },
  {
   "cell_type": "markdown",
   "metadata": {},
   "source": [
    "### 1) Age"
   ]
  },
  {
   "cell_type": "markdown",
   "metadata": {},
   "source": [
    "##### *IDEA : 이름으로 나이를 유추할 수 있지 않을까?"
   ]
  },
  {
   "cell_type": "markdown",
   "metadata": {},
   "source": [
    "- 각 NameTitle가 속한 Age의 중간값으로 결측값을 채움\n",
    "* name_num으로 안하고 NameTitle로 한 이유 : Doctor, Master같은 경우 대표적 3 그룹에 포함시켜 하기엔 그 분포가 상당히 상이하기 때문"
   ]
  },
  {
   "cell_type": "code",
   "execution_count": 22,
   "metadata": {},
   "outputs": [],
   "source": [
    "fill=df.groupby('NameTitle')['Age'].transform('median')\n",
    "df['Age'].fillna(fill,inplace=True)"
   ]
  },
  {
   "cell_type": "code",
   "execution_count": 23,
   "metadata": {
    "scrolled": true
   },
   "outputs": [
    {
     "data": {
      "text/plain": [
       "PassengerId       0\n",
       "Survived        418\n",
       "Pclass            0\n",
       "Name              0\n",
       "Sex               0\n",
       "Age               0\n",
       "SibSp             0\n",
       "Parch             0\n",
       "Ticket            0\n",
       "Fare              1\n",
       "Cabin          1014\n",
       "Embarked          2\n",
       "NameTitle         0\n",
       "name_num          0\n",
       "dtype: int64"
      ]
     },
     "execution_count": 23,
     "metadata": {},
     "output_type": "execute_result"
    }
   ],
   "source": [
    "df.isnull().sum()"
   ]
  },
  {
   "cell_type": "markdown",
   "metadata": {},
   "source": [
    "### 2) Fare"
   ]
  },
  {
   "cell_type": "code",
   "execution_count": 24,
   "metadata": {},
   "outputs": [
    {
     "data": {
      "text/html": [
       "<div>\n",
       "<style scoped>\n",
       "    .dataframe tbody tr th:only-of-type {\n",
       "        vertical-align: middle;\n",
       "    }\n",
       "\n",
       "    .dataframe tbody tr th {\n",
       "        vertical-align: top;\n",
       "    }\n",
       "\n",
       "    .dataframe thead th {\n",
       "        text-align: right;\n",
       "    }\n",
       "</style>\n",
       "<table border=\"1\" class=\"dataframe\">\n",
       "  <thead>\n",
       "    <tr style=\"text-align: right;\">\n",
       "      <th></th>\n",
       "      <th>PassengerId</th>\n",
       "      <th>Survived</th>\n",
       "      <th>Pclass</th>\n",
       "      <th>Name</th>\n",
       "      <th>Sex</th>\n",
       "      <th>Age</th>\n",
       "      <th>SibSp</th>\n",
       "      <th>Parch</th>\n",
       "      <th>Ticket</th>\n",
       "      <th>Fare</th>\n",
       "      <th>Cabin</th>\n",
       "      <th>Embarked</th>\n",
       "      <th>NameTitle</th>\n",
       "      <th>name_num</th>\n",
       "    </tr>\n",
       "  </thead>\n",
       "  <tbody>\n",
       "    <tr>\n",
       "      <th>1043</th>\n",
       "      <td>1044</td>\n",
       "      <td>NaN</td>\n",
       "      <td>3</td>\n",
       "      <td>Storey, Mr. Thomas</td>\n",
       "      <td>1</td>\n",
       "      <td>60.5</td>\n",
       "      <td>0</td>\n",
       "      <td>0</td>\n",
       "      <td>3701</td>\n",
       "      <td>NaN</td>\n",
       "      <td>NaN</td>\n",
       "      <td>S</td>\n",
       "      <td>Mr</td>\n",
       "      <td>0</td>\n",
       "    </tr>\n",
       "  </tbody>\n",
       "</table>\n",
       "</div>"
      ],
      "text/plain": [
       "      PassengerId  Survived  Pclass                Name  Sex   Age  SibSp  \\\n",
       "1043         1044       NaN       3  Storey, Mr. Thomas    1  60.5      0   \n",
       "\n",
       "      Parch Ticket  Fare Cabin Embarked NameTitle  name_num  \n",
       "1043      0   3701   NaN   NaN        S        Mr         0  "
      ]
     },
     "execution_count": 24,
     "metadata": {},
     "output_type": "execute_result"
    }
   ],
   "source": [
    "df[df['Fare'].isnull()]"
   ]
  },
  {
   "cell_type": "code",
   "execution_count": 25,
   "metadata": {
    "scrolled": true
   },
   "outputs": [
    {
     "data": {
      "text/html": [
       "<div>\n",
       "<style scoped>\n",
       "    .dataframe tbody tr th:only-of-type {\n",
       "        vertical-align: middle;\n",
       "    }\n",
       "\n",
       "    .dataframe tbody tr th {\n",
       "        vertical-align: top;\n",
       "    }\n",
       "\n",
       "    .dataframe thead th {\n",
       "        text-align: right;\n",
       "    }\n",
       "</style>\n",
       "<table border=\"1\" class=\"dataframe\">\n",
       "  <thead>\n",
       "    <tr style=\"text-align: right;\">\n",
       "      <th></th>\n",
       "      <th>PassengerId</th>\n",
       "      <th>Survived</th>\n",
       "      <th>Pclass</th>\n",
       "      <th>Sex</th>\n",
       "      <th>Age</th>\n",
       "      <th>SibSp</th>\n",
       "      <th>Parch</th>\n",
       "      <th>Fare</th>\n",
       "      <th>name_num</th>\n",
       "    </tr>\n",
       "  </thead>\n",
       "  <tbody>\n",
       "    <tr>\n",
       "      <th>PassengerId</th>\n",
       "      <td>1.000000</td>\n",
       "      <td>-0.005007</td>\n",
       "      <td>-0.038354</td>\n",
       "      <td>-0.013406</td>\n",
       "      <td>0.024739</td>\n",
       "      <td>-0.055224</td>\n",
       "      <td>0.008942</td>\n",
       "      <td>0.031428</td>\n",
       "      <td>0.006648</td>\n",
       "    </tr>\n",
       "    <tr>\n",
       "      <th>Survived</th>\n",
       "      <td>-0.005007</td>\n",
       "      <td>1.000000</td>\n",
       "      <td>-0.338481</td>\n",
       "      <td>0.543351</td>\n",
       "      <td>-0.071470</td>\n",
       "      <td>-0.035322</td>\n",
       "      <td>0.081629</td>\n",
       "      <td>0.257307</td>\n",
       "      <td>0.496532</td>\n",
       "    </tr>\n",
       "    <tr>\n",
       "      <th>Pclass</th>\n",
       "      <td>-0.038354</td>\n",
       "      <td>-0.338481</td>\n",
       "      <td>1.000000</td>\n",
       "      <td>-0.124617</td>\n",
       "      <td>-0.391818</td>\n",
       "      <td>0.060832</td>\n",
       "      <td>0.018322</td>\n",
       "      <td>-0.558629</td>\n",
       "      <td>-0.190680</td>\n",
       "    </tr>\n",
       "    <tr>\n",
       "      <th>Sex</th>\n",
       "      <td>-0.013406</td>\n",
       "      <td>0.543351</td>\n",
       "      <td>-0.124617</td>\n",
       "      <td>1.000000</td>\n",
       "      <td>-0.060438</td>\n",
       "      <td>0.109609</td>\n",
       "      <td>0.213125</td>\n",
       "      <td>0.185523</td>\n",
       "      <td>0.875297</td>\n",
       "    </tr>\n",
       "    <tr>\n",
       "      <th>Age</th>\n",
       "      <td>0.024739</td>\n",
       "      <td>-0.071470</td>\n",
       "      <td>-0.391818</td>\n",
       "      <td>-0.060438</td>\n",
       "      <td>1.000000</td>\n",
       "      <td>-0.214473</td>\n",
       "      <td>-0.129712</td>\n",
       "      <td>0.180892</td>\n",
       "      <td>0.099114</td>\n",
       "    </tr>\n",
       "    <tr>\n",
       "      <th>SibSp</th>\n",
       "      <td>-0.055224</td>\n",
       "      <td>-0.035322</td>\n",
       "      <td>0.060832</td>\n",
       "      <td>0.109609</td>\n",
       "      <td>-0.214473</td>\n",
       "      <td>1.000000</td>\n",
       "      <td>0.373587</td>\n",
       "      <td>0.160238</td>\n",
       "      <td>0.102467</td>\n",
       "    </tr>\n",
       "    <tr>\n",
       "      <th>Parch</th>\n",
       "      <td>0.008942</td>\n",
       "      <td>0.081629</td>\n",
       "      <td>0.018322</td>\n",
       "      <td>0.213125</td>\n",
       "      <td>-0.129712</td>\n",
       "      <td>0.373587</td>\n",
       "      <td>1.000000</td>\n",
       "      <td>0.221539</td>\n",
       "      <td>0.226988</td>\n",
       "    </tr>\n",
       "    <tr>\n",
       "      <th>Fare</th>\n",
       "      <td>0.031428</td>\n",
       "      <td>0.257307</td>\n",
       "      <td>-0.558629</td>\n",
       "      <td>0.185523</td>\n",
       "      <td>0.180892</td>\n",
       "      <td>0.160238</td>\n",
       "      <td>0.221539</td>\n",
       "      <td>1.000000</td>\n",
       "      <td>0.190953</td>\n",
       "    </tr>\n",
       "    <tr>\n",
       "      <th>name_num</th>\n",
       "      <td>0.006648</td>\n",
       "      <td>0.496532</td>\n",
       "      <td>-0.190680</td>\n",
       "      <td>0.875297</td>\n",
       "      <td>0.099114</td>\n",
       "      <td>0.102467</td>\n",
       "      <td>0.226988</td>\n",
       "      <td>0.190953</td>\n",
       "      <td>1.000000</td>\n",
       "    </tr>\n",
       "  </tbody>\n",
       "</table>\n",
       "</div>"
      ],
      "text/plain": [
       "             PassengerId  Survived    Pclass       Sex       Age     SibSp  \\\n",
       "PassengerId     1.000000 -0.005007 -0.038354 -0.013406  0.024739 -0.055224   \n",
       "Survived       -0.005007  1.000000 -0.338481  0.543351 -0.071470 -0.035322   \n",
       "Pclass         -0.038354 -0.338481  1.000000 -0.124617 -0.391818  0.060832   \n",
       "Sex            -0.013406  0.543351 -0.124617  1.000000 -0.060438  0.109609   \n",
       "Age             0.024739 -0.071470 -0.391818 -0.060438  1.000000 -0.214473   \n",
       "SibSp          -0.055224 -0.035322  0.060832  0.109609 -0.214473  1.000000   \n",
       "Parch           0.008942  0.081629  0.018322  0.213125 -0.129712  0.373587   \n",
       "Fare            0.031428  0.257307 -0.558629  0.185523  0.180892  0.160238   \n",
       "name_num        0.006648  0.496532 -0.190680  0.875297  0.099114  0.102467   \n",
       "\n",
       "                Parch      Fare  name_num  \n",
       "PassengerId  0.008942  0.031428  0.006648  \n",
       "Survived     0.081629  0.257307  0.496532  \n",
       "Pclass       0.018322 -0.558629 -0.190680  \n",
       "Sex          0.213125  0.185523  0.875297  \n",
       "Age         -0.129712  0.180892  0.099114  \n",
       "SibSp        0.373587  0.160238  0.102467  \n",
       "Parch        1.000000  0.221539  0.226988  \n",
       "Fare         0.221539  1.000000  0.190953  \n",
       "name_num     0.226988  0.190953  1.000000  "
      ]
     },
     "execution_count": 25,
     "metadata": {},
     "output_type": "execute_result"
    }
   ],
   "source": [
    "df.corr()"
   ]
  },
  {
   "cell_type": "markdown",
   "metadata": {},
   "source": [
    "##### *IDEA : Fare와 Pclass가 음의 상관관계가 있으므로 Pclass로 결측치를메꾼다"
   ]
  },
  {
   "cell_type": "code",
   "execution_count": 26,
   "metadata": {
    "scrolled": true
   },
   "outputs": [
    {
     "data": {
      "text/plain": [
       "<matplotlib.collections.PathCollection at 0x18d22d6aa60>"
      ]
     },
     "execution_count": 26,
     "metadata": {},
     "output_type": "execute_result"
    },
    {
     "data": {
      "image/png": "[encoded data removed]",
      "text/plain": [
       "<Figure size 432x288 with 1 Axes>"
      ]
     },
     "metadata": {
      "needs_background": "light"
     },
     "output_type": "display_data"
    }
   ],
   "source": [
    "plt.scatter(df['Fare'],df['Pclass'])"
   ]
  },
  {
   "cell_type": "code",
   "execution_count": 27,
   "metadata": {},
   "outputs": [],
   "source": [
    "fill=df.groupby('Pclass')['Fare'].transform('median')\n",
    "df['Fare'].fillna(fill,inplace=True)"
   ]
  },
  {
   "cell_type": "code",
   "execution_count": 28,
   "metadata": {
    "scrolled": true
   },
   "outputs": [
    {
     "data": {
      "text/html": [
       "<div>\n",
       "<style scoped>\n",
       "    .dataframe tbody tr th:only-of-type {\n",
       "        vertical-align: middle;\n",
       "    }\n",
       "\n",
       "    .dataframe tbody tr th {\n",
       "        vertical-align: top;\n",
       "    }\n",
       "\n",
       "    .dataframe thead th {\n",
       "        text-align: right;\n",
       "    }\n",
       "</style>\n",
       "<table border=\"1\" class=\"dataframe\">\n",
       "  <thead>\n",
       "    <tr style=\"text-align: right;\">\n",
       "      <th></th>\n",
       "      <th>PassengerId</th>\n",
       "      <th>Survived</th>\n",
       "      <th>Pclass</th>\n",
       "      <th>Name</th>\n",
       "      <th>Sex</th>\n",
       "      <th>Age</th>\n",
       "      <th>SibSp</th>\n",
       "      <th>Parch</th>\n",
       "      <th>Ticket</th>\n",
       "      <th>Fare</th>\n",
       "      <th>Cabin</th>\n",
       "      <th>Embarked</th>\n",
       "      <th>NameTitle</th>\n",
       "      <th>name_num</th>\n",
       "    </tr>\n",
       "  </thead>\n",
       "  <tbody>\n",
       "    <tr>\n",
       "      <th>1043</th>\n",
       "      <td>1044</td>\n",
       "      <td>NaN</td>\n",
       "      <td>3</td>\n",
       "      <td>Storey, Mr. Thomas</td>\n",
       "      <td>1</td>\n",
       "      <td>60.5</td>\n",
       "      <td>0</td>\n",
       "      <td>0</td>\n",
       "      <td>3701</td>\n",
       "      <td>8.05</td>\n",
       "      <td>NaN</td>\n",
       "      <td>S</td>\n",
       "      <td>Mr</td>\n",
       "      <td>0</td>\n",
       "    </tr>\n",
       "  </tbody>\n",
       "</table>\n",
       "</div>"
      ],
      "text/plain": [
       "      PassengerId  Survived  Pclass                Name  Sex   Age  SibSp  \\\n",
       "1043         1044       NaN       3  Storey, Mr. Thomas    1  60.5      0   \n",
       "\n",
       "      Parch Ticket  Fare Cabin Embarked NameTitle  name_num  \n",
       "1043      0   3701  8.05   NaN        S        Mr         0  "
      ]
     },
     "execution_count": 28,
     "metadata": {},
     "output_type": "execute_result"
    }
   ],
   "source": [
    "df.loc[df.index==1043]"
   ]
  },
  {
   "cell_type": "markdown",
   "metadata": {},
   "source": [
    "- Pclass가 3인 토마스씨는 3등석의 중간값인 약 8.05달러를 지불했을 것으로 추정"
   ]
  },
  {
   "cell_type": "code",
   "execution_count": 29,
   "metadata": {},
   "outputs": [
    {
     "data": {
      "text/plain": [
       "PassengerId       0\n",
       "Survived        418\n",
       "Pclass            0\n",
       "Name              0\n",
       "Sex               0\n",
       "Age               0\n",
       "SibSp             0\n",
       "Parch             0\n",
       "Ticket            0\n",
       "Fare              0\n",
       "Cabin          1014\n",
       "Embarked          2\n",
       "NameTitle         0\n",
       "name_num          0\n",
       "dtype: int64"
      ]
     },
     "execution_count": 29,
     "metadata": {},
     "output_type": "execute_result"
    }
   ],
   "source": [
    "df.isnull().sum()"
   ]
  },
  {
   "cell_type": "code",
   "execution_count": 30,
   "metadata": {
    "scrolled": true
   },
   "outputs": [],
   "source": [
    "# plt.scatter(train['Pclass'],train['Age'])\n",
    "# sns.countplot(data=train,x='Pclass',hue='Age')"
   ]
  },
  {
   "cell_type": "markdown",
   "metadata": {},
   "source": [
    "### 3) Embarked"
   ]
  },
  {
   "cell_type": "code",
   "execution_count": 31,
   "metadata": {},
   "outputs": [],
   "source": [
    "emb_mapping={'S':0,'C':1,'Q':2}\n",
    "df['Embarked']=df['Embarked'].map(emb_mapping)"
   ]
  },
  {
   "cell_type": "code",
   "execution_count": 32,
   "metadata": {},
   "outputs": [
    {
     "name": "stderr",
     "output_type": "stream",
     "text": [
      "C:\\Users\\iryun\\Anaconda3\\lib\\site-packages\\seaborn\\_decorators.py:36: FutureWarning: Pass the following variable as a keyword arg: x. From version 0.12, the only valid positional argument will be `data`, and passing other arguments without an explicit keyword will result in an error or misinterpretation.\n",
      "  warnings.warn(\n"
     ]
    },
    {
     "data": {
      "text/plain": [
       "<AxesSubplot:xlabel='Embarked', ylabel='count'>"
      ]
     },
     "execution_count": 32,
     "metadata": {},
     "output_type": "execute_result"
    },
    {
     "data": {
      "image/png": "[encoded data removed]",
      "text/plain": [
       "<Figure size 432x288 with 1 Axes>"
      ]
     },
     "metadata": {
      "needs_background": "light"
     },
     "output_type": "display_data"
    }
   ],
   "source": [
    "sns.countplot(df['Embarked'])"
   ]
  },
  {
   "cell_type": "code",
   "execution_count": 33,
   "metadata": {},
   "outputs": [
    {
     "data": {
      "text/html": [
       "<div>\n",
       "<style scoped>\n",
       "    .dataframe tbody tr th:only-of-type {\n",
       "        vertical-align: middle;\n",
       "    }\n",
       "\n",
       "    .dataframe tbody tr th {\n",
       "        vertical-align: top;\n",
       "    }\n",
       "\n",
       "    .dataframe thead th {\n",
       "        text-align: right;\n",
       "    }\n",
       "</style>\n",
       "<table border=\"1\" class=\"dataframe\">\n",
       "  <thead>\n",
       "    <tr style=\"text-align: right;\">\n",
       "      <th></th>\n",
       "      <th>PassengerId</th>\n",
       "      <th>Survived</th>\n",
       "      <th>Pclass</th>\n",
       "      <th>Sex</th>\n",
       "      <th>Age</th>\n",
       "      <th>SibSp</th>\n",
       "      <th>Parch</th>\n",
       "      <th>Fare</th>\n",
       "      <th>Embarked</th>\n",
       "      <th>name_num</th>\n",
       "    </tr>\n",
       "  </thead>\n",
       "  <tbody>\n",
       "    <tr>\n",
       "      <th>PassengerId</th>\n",
       "      <td>1.000000</td>\n",
       "      <td>-0.005007</td>\n",
       "      <td>-0.038354</td>\n",
       "      <td>-0.013406</td>\n",
       "      <td>0.024739</td>\n",
       "      <td>-0.055224</td>\n",
       "      <td>0.008942</td>\n",
       "      <td>0.031029</td>\n",
       "      <td>0.039684</td>\n",
       "      <td>0.006648</td>\n",
       "    </tr>\n",
       "    <tr>\n",
       "      <th>Survived</th>\n",
       "      <td>-0.005007</td>\n",
       "      <td>1.000000</td>\n",
       "      <td>-0.338481</td>\n",
       "      <td>0.543351</td>\n",
       "      <td>-0.071470</td>\n",
       "      <td>-0.035322</td>\n",
       "      <td>0.081629</td>\n",
       "      <td>0.257307</td>\n",
       "      <td>0.108669</td>\n",
       "      <td>0.496532</td>\n",
       "    </tr>\n",
       "    <tr>\n",
       "      <th>Pclass</th>\n",
       "      <td>-0.038354</td>\n",
       "      <td>-0.338481</td>\n",
       "      <td>1.000000</td>\n",
       "      <td>-0.124617</td>\n",
       "      <td>-0.391818</td>\n",
       "      <td>0.060832</td>\n",
       "      <td>0.018322</td>\n",
       "      <td>-0.558740</td>\n",
       "      <td>0.037527</td>\n",
       "      <td>-0.190680</td>\n",
       "    </tr>\n",
       "    <tr>\n",
       "      <th>Sex</th>\n",
       "      <td>-0.013406</td>\n",
       "      <td>0.543351</td>\n",
       "      <td>-0.124617</td>\n",
       "      <td>1.000000</td>\n",
       "      <td>-0.060438</td>\n",
       "      <td>0.109609</td>\n",
       "      <td>0.213125</td>\n",
       "      <td>0.185744</td>\n",
       "      <td>0.121868</td>\n",
       "      <td>0.875297</td>\n",
       "    </tr>\n",
       "    <tr>\n",
       "      <th>Age</th>\n",
       "      <td>0.024739</td>\n",
       "      <td>-0.071470</td>\n",
       "      <td>-0.391818</td>\n",
       "      <td>-0.060438</td>\n",
       "      <td>1.000000</td>\n",
       "      <td>-0.214473</td>\n",
       "      <td>-0.129712</td>\n",
       "      <td>0.179610</td>\n",
       "      <td>-0.002274</td>\n",
       "      <td>0.099114</td>\n",
       "    </tr>\n",
       "    <tr>\n",
       "      <th>SibSp</th>\n",
       "      <td>-0.055224</td>\n",
       "      <td>-0.035322</td>\n",
       "      <td>0.060832</td>\n",
       "      <td>0.109609</td>\n",
       "      <td>-0.214473</td>\n",
       "      <td>1.000000</td>\n",
       "      <td>0.373587</td>\n",
       "      <td>0.160388</td>\n",
       "      <td>-0.073937</td>\n",
       "      <td>0.102467</td>\n",
       "    </tr>\n",
       "    <tr>\n",
       "      <th>Parch</th>\n",
       "      <td>0.008942</td>\n",
       "      <td>0.081629</td>\n",
       "      <td>0.018322</td>\n",
       "      <td>0.213125</td>\n",
       "      <td>-0.129712</td>\n",
       "      <td>0.373587</td>\n",
       "      <td>1.000000</td>\n",
       "      <td>0.221668</td>\n",
       "      <td>-0.095975</td>\n",
       "      <td>0.226988</td>\n",
       "    </tr>\n",
       "    <tr>\n",
       "      <th>Fare</th>\n",
       "      <td>0.031029</td>\n",
       "      <td>0.257307</td>\n",
       "      <td>-0.558740</td>\n",
       "      <td>0.185744</td>\n",
       "      <td>0.179610</td>\n",
       "      <td>0.160388</td>\n",
       "      <td>0.221668</td>\n",
       "      <td>1.000000</td>\n",
       "      <td>0.062227</td>\n",
       "      <td>0.191157</td>\n",
       "    </tr>\n",
       "    <tr>\n",
       "      <th>Embarked</th>\n",
       "      <td>0.039684</td>\n",
       "      <td>0.108669</td>\n",
       "      <td>0.037527</td>\n",
       "      <td>0.121868</td>\n",
       "      <td>-0.002274</td>\n",
       "      <td>-0.073937</td>\n",
       "      <td>-0.095975</td>\n",
       "      <td>0.062227</td>\n",
       "      <td>1.000000</td>\n",
       "      <td>0.067044</td>\n",
       "    </tr>\n",
       "    <tr>\n",
       "      <th>name_num</th>\n",
       "      <td>0.006648</td>\n",
       "      <td>0.496532</td>\n",
       "      <td>-0.190680</td>\n",
       "      <td>0.875297</td>\n",
       "      <td>0.099114</td>\n",
       "      <td>0.102467</td>\n",
       "      <td>0.226988</td>\n",
       "      <td>0.191157</td>\n",
       "      <td>0.067044</td>\n",
       "      <td>1.000000</td>\n",
       "    </tr>\n",
       "  </tbody>\n",
       "</table>\n",
       "</div>"
      ],
      "text/plain": [
       "             PassengerId  Survived    Pclass       Sex       Age     SibSp  \\\n",
       "PassengerId     1.000000 -0.005007 -0.038354 -0.013406  0.024739 -0.055224   \n",
       "Survived       -0.005007  1.000000 -0.338481  0.543351 -0.071470 -0.035322   \n",
       "Pclass         -0.038354 -0.338481  1.000000 -0.124617 -0.391818  0.060832   \n",
       "Sex            -0.013406  0.543351 -0.124617  1.000000 -0.060438  0.109609   \n",
       "Age             0.024739 -0.071470 -0.391818 -0.060438  1.000000 -0.214473   \n",
       "SibSp          -0.055224 -0.035322  0.060832  0.109609 -0.214473  1.000000   \n",
       "Parch           0.008942  0.081629  0.018322  0.213125 -0.129712  0.373587   \n",
       "Fare            0.031029  0.257307 -0.558740  0.185744  0.179610  0.160388   \n",
       "Embarked        0.039684  0.108669  0.037527  0.121868 -0.002274 -0.073937   \n",
       "name_num        0.006648  0.496532 -0.190680  0.875297  0.099114  0.102467   \n",
       "\n",
       "                Parch      Fare  Embarked  name_num  \n",
       "PassengerId  0.008942  0.031029  0.039684  0.006648  \n",
       "Survived     0.081629  0.257307  0.108669  0.496532  \n",
       "Pclass       0.018322 -0.558740  0.037527 -0.190680  \n",
       "Sex          0.213125  0.185744  0.121868  0.875297  \n",
       "Age         -0.129712  0.179610 -0.002274  0.099114  \n",
       "SibSp        0.373587  0.160388 -0.073937  0.102467  \n",
       "Parch        1.000000  0.221668 -0.095975  0.226988  \n",
       "Fare         0.221668  1.000000  0.062227  0.191157  \n",
       "Embarked    -0.095975  0.062227  1.000000  0.067044  \n",
       "name_num     0.226988  0.191157  0.067044  1.000000  "
      ]
     },
     "execution_count": 33,
     "metadata": {},
     "output_type": "execute_result"
    }
   ],
   "source": [
    "df.corr()"
   ]
  },
  {
   "cell_type": "markdown",
   "metadata": {},
   "source": [
    "##### *IDEA :Embarked와 상관관계가 높은 것이 없다 -> 결측치를 최빈값인 0으로 넣어준다"
   ]
  },
  {
   "cell_type": "code",
   "execution_count": 34,
   "metadata": {
    "scrolled": true
   },
   "outputs": [
    {
     "data": {
      "text/html": [
       "<div>\n",
       "<style scoped>\n",
       "    .dataframe tbody tr th:only-of-type {\n",
       "        vertical-align: middle;\n",
       "    }\n",
       "\n",
       "    .dataframe tbody tr th {\n",
       "        vertical-align: top;\n",
       "    }\n",
       "\n",
       "    .dataframe thead th {\n",
       "        text-align: right;\n",
       "    }\n",
       "</style>\n",
       "<table border=\"1\" class=\"dataframe\">\n",
       "  <thead>\n",
       "    <tr style=\"text-align: right;\">\n",
       "      <th></th>\n",
       "      <th>PassengerId</th>\n",
       "      <th>Survived</th>\n",
       "      <th>Pclass</th>\n",
       "      <th>Name</th>\n",
       "      <th>Sex</th>\n",
       "      <th>Age</th>\n",
       "      <th>SibSp</th>\n",
       "      <th>Parch</th>\n",
       "      <th>Ticket</th>\n",
       "      <th>Fare</th>\n",
       "      <th>Cabin</th>\n",
       "      <th>Embarked</th>\n",
       "      <th>NameTitle</th>\n",
       "      <th>name_num</th>\n",
       "    </tr>\n",
       "  </thead>\n",
       "  <tbody>\n",
       "    <tr>\n",
       "      <th>61</th>\n",
       "      <td>62</td>\n",
       "      <td>1.0</td>\n",
       "      <td>1</td>\n",
       "      <td>Icard, Miss. Amelie</td>\n",
       "      <td>2</td>\n",
       "      <td>38.0</td>\n",
       "      <td>0</td>\n",
       "      <td>0</td>\n",
       "      <td>113572</td>\n",
       "      <td>80.0</td>\n",
       "      <td>B28</td>\n",
       "      <td>NaN</td>\n",
       "      <td>Miss</td>\n",
       "      <td>1</td>\n",
       "    </tr>\n",
       "    <tr>\n",
       "      <th>829</th>\n",
       "      <td>830</td>\n",
       "      <td>1.0</td>\n",
       "      <td>1</td>\n",
       "      <td>Stone, Mrs. George Nelson (Martha Evelyn)</td>\n",
       "      <td>2</td>\n",
       "      <td>62.0</td>\n",
       "      <td>0</td>\n",
       "      <td>0</td>\n",
       "      <td>113572</td>\n",
       "      <td>80.0</td>\n",
       "      <td>B28</td>\n",
       "      <td>NaN</td>\n",
       "      <td>Mrs</td>\n",
       "      <td>2</td>\n",
       "    </tr>\n",
       "  </tbody>\n",
       "</table>\n",
       "</div>"
      ],
      "text/plain": [
       "     PassengerId  Survived  Pclass                                       Name  \\\n",
       "61            62       1.0       1                        Icard, Miss. Amelie   \n",
       "829          830       1.0       1  Stone, Mrs. George Nelson (Martha Evelyn)   \n",
       "\n",
       "     Sex   Age  SibSp  Parch  Ticket  Fare Cabin  Embarked NameTitle  name_num  \n",
       "61     2  38.0      0      0  113572  80.0   B28       NaN      Miss         1  \n",
       "829    2  62.0      0      0  113572  80.0   B28       NaN       Mrs         2  "
      ]
     },
     "execution_count": 34,
     "metadata": {},
     "output_type": "execute_result"
    }
   ],
   "source": [
    "df[df['Embarked'].isnull()]"
   ]
  },
  {
   "cell_type": "code",
   "execution_count": 35,
   "metadata": {},
   "outputs": [],
   "source": [
    "df['Embarked'].fillna(df['Embarked'].mode()[0],inplace=True)"
   ]
  },
  {
   "cell_type": "code",
   "execution_count": 36,
   "metadata": {},
   "outputs": [
    {
     "data": {
      "text/plain": [
       "PassengerId       0\n",
       "Survived        418\n",
       "Pclass            0\n",
       "Name              0\n",
       "Sex               0\n",
       "Age               0\n",
       "SibSp             0\n",
       "Parch             0\n",
       "Ticket            0\n",
       "Fare              0\n",
       "Cabin          1014\n",
       "Embarked          0\n",
       "NameTitle         0\n",
       "name_num          0\n",
       "dtype: int64"
      ]
     },
     "execution_count": 36,
     "metadata": {},
     "output_type": "execute_result"
    }
   ],
   "source": [
    "df.isnull().sum()"
   ]
  },
  {
   "cell_type": "markdown",
   "metadata": {},
   "source": [
    "### 4) Cabin"
   ]
  },
  {
   "cell_type": "code",
   "execution_count": 37,
   "metadata": {},
   "outputs": [
    {
     "data": {
      "text/html": [
       "<div>\n",
       "<style scoped>\n",
       "    .dataframe tbody tr th:only-of-type {\n",
       "        vertical-align: middle;\n",
       "    }\n",
       "\n",
       "    .dataframe tbody tr th {\n",
       "        vertical-align: top;\n",
       "    }\n",
       "\n",
       "    .dataframe thead th {\n",
       "        text-align: right;\n",
       "    }\n",
       "</style>\n",
       "<table border=\"1\" class=\"dataframe\">\n",
       "  <thead>\n",
       "    <tr style=\"text-align: right;\">\n",
       "      <th></th>\n",
       "      <th>PassengerId</th>\n",
       "      <th>Survived</th>\n",
       "      <th>Pclass</th>\n",
       "      <th>Name</th>\n",
       "      <th>Sex</th>\n",
       "      <th>Age</th>\n",
       "      <th>SibSp</th>\n",
       "      <th>Parch</th>\n",
       "      <th>Ticket</th>\n",
       "      <th>Fare</th>\n",
       "      <th>Cabin</th>\n",
       "      <th>Embarked</th>\n",
       "      <th>NameTitle</th>\n",
       "      <th>name_num</th>\n",
       "    </tr>\n",
       "  </thead>\n",
       "  <tbody>\n",
       "    <tr>\n",
       "      <th>0</th>\n",
       "      <td>1</td>\n",
       "      <td>0.0</td>\n",
       "      <td>3</td>\n",
       "      <td>Braund, Mr. Owen Harris</td>\n",
       "      <td>1</td>\n",
       "      <td>22.0</td>\n",
       "      <td>1</td>\n",
       "      <td>0</td>\n",
       "      <td>A/5 21171</td>\n",
       "      <td>7.2500</td>\n",
       "      <td>NaN</td>\n",
       "      <td>0.0</td>\n",
       "      <td>Mr</td>\n",
       "      <td>0</td>\n",
       "    </tr>\n",
       "    <tr>\n",
       "      <th>1</th>\n",
       "      <td>2</td>\n",
       "      <td>1.0</td>\n",
       "      <td>1</td>\n",
       "      <td>Cumings, Mrs. John Bradley (Florence Briggs Th...</td>\n",
       "      <td>2</td>\n",
       "      <td>38.0</td>\n",
       "      <td>1</td>\n",
       "      <td>0</td>\n",
       "      <td>PC 17599</td>\n",
       "      <td>71.2833</td>\n",
       "      <td>C85</td>\n",
       "      <td>1.0</td>\n",
       "      <td>Mrs</td>\n",
       "      <td>2</td>\n",
       "    </tr>\n",
       "    <tr>\n",
       "      <th>2</th>\n",
       "      <td>3</td>\n",
       "      <td>1.0</td>\n",
       "      <td>3</td>\n",
       "      <td>Heikkinen, Miss. Laina</td>\n",
       "      <td>2</td>\n",
       "      <td>26.0</td>\n",
       "      <td>0</td>\n",
       "      <td>0</td>\n",
       "      <td>STON/O2. 3101282</td>\n",
       "      <td>7.9250</td>\n",
       "      <td>NaN</td>\n",
       "      <td>0.0</td>\n",
       "      <td>Miss</td>\n",
       "      <td>1</td>\n",
       "    </tr>\n",
       "    <tr>\n",
       "      <th>3</th>\n",
       "      <td>4</td>\n",
       "      <td>1.0</td>\n",
       "      <td>1</td>\n",
       "      <td>Futrelle, Mrs. Jacques Heath (Lily May Peel)</td>\n",
       "      <td>2</td>\n",
       "      <td>35.0</td>\n",
       "      <td>1</td>\n",
       "      <td>0</td>\n",
       "      <td>113803</td>\n",
       "      <td>53.1000</td>\n",
       "      <td>C123</td>\n",
       "      <td>0.0</td>\n",
       "      <td>Mrs</td>\n",
       "      <td>2</td>\n",
       "    </tr>\n",
       "    <tr>\n",
       "      <th>4</th>\n",
       "      <td>5</td>\n",
       "      <td>0.0</td>\n",
       "      <td>3</td>\n",
       "      <td>Allen, Mr. William Henry</td>\n",
       "      <td>1</td>\n",
       "      <td>35.0</td>\n",
       "      <td>0</td>\n",
       "      <td>0</td>\n",
       "      <td>373450</td>\n",
       "      <td>8.0500</td>\n",
       "      <td>NaN</td>\n",
       "      <td>0.0</td>\n",
       "      <td>Mr</td>\n",
       "      <td>0</td>\n",
       "    </tr>\n",
       "  </tbody>\n",
       "</table>\n",
       "</div>"
      ],
      "text/plain": [
       "   PassengerId  Survived  Pclass  \\\n",
       "0            1       0.0       3   \n",
       "1            2       1.0       1   \n",
       "2            3       1.0       3   \n",
       "3            4       1.0       1   \n",
       "4            5       0.0       3   \n",
       "\n",
       "                                                Name  Sex   Age  SibSp  Parch  \\\n",
       "0                            Braund, Mr. Owen Harris    1  22.0      1      0   \n",
       "1  Cumings, Mrs. John Bradley (Florence Briggs Th...    2  38.0      1      0   \n",
       "2                             Heikkinen, Miss. Laina    2  26.0      0      0   \n",
       "3       Futrelle, Mrs. Jacques Heath (Lily May Peel)    2  35.0      1      0   \n",
       "4                           Allen, Mr. William Henry    1  35.0      0      0   \n",
       "\n",
       "             Ticket     Fare Cabin  Embarked NameTitle  name_num  \n",
       "0         A/5 21171   7.2500   NaN       0.0        Mr         0  \n",
       "1          PC 17599  71.2833   C85       1.0       Mrs         2  \n",
       "2  STON/O2. 3101282   7.9250   NaN       0.0      Miss         1  \n",
       "3            113803  53.1000  C123       0.0       Mrs         2  \n",
       "4            373450   8.0500   NaN       0.0        Mr         0  "
      ]
     },
     "execution_count": 37,
     "metadata": {},
     "output_type": "execute_result"
    }
   ],
   "source": [
    "df.head()"
   ]
  },
  {
   "cell_type": "code",
   "execution_count": 38,
   "metadata": {
    "scrolled": false
   },
   "outputs": [
    {
     "name": "stderr",
     "output_type": "stream",
     "text": [
      "C:\\Users\\iryun\\Anaconda3\\lib\\site-packages\\seaborn\\_decorators.py:36: FutureWarning: Pass the following variable as a keyword arg: x. From version 0.12, the only valid positional argument will be `data`, and passing other arguments without an explicit keyword will result in an error or misinterpretation.\n",
      "  warnings.warn(\n"
     ]
    },
    {
     "data": {
      "text/plain": [
       "<AxesSubplot:xlabel='Cabin', ylabel='count'>"
      ]
     },
     "execution_count": 38,
     "metadata": {},
     "output_type": "execute_result"
    },
    {
     "data": {
      "image/png": "[encoded data removed]",
      "text/plain": [
       "<Figure size 1440x216 with 1 Axes>"
      ]
     },
     "metadata": {
      "needs_background": "light"
     },
     "output_type": "display_data"
    }
   ],
   "source": [
    "plt.figure(figsize=(20,3))\n",
    "sns.countplot(df['Cabin'])"
   ]
  },
  {
   "cell_type": "markdown",
   "metadata": {},
   "source": [
    "동일 좌석 번호를 여럿이 가진다 - 같은 팀으로 좌석을 예매할 경우 동일 좌석명으로 주는걸까?"
   ]
  },
  {
   "cell_type": "code",
   "execution_count": 39,
   "metadata": {
    "scrolled": true
   },
   "outputs": [
    {
     "data": {
      "text/plain": [
       "C23 C25 C27        6\n",
       "B57 B59 B63 B66    5\n",
       "G6                 5\n",
       "F2                 4\n",
       "D                  4\n",
       "                  ..\n",
       "A21                1\n",
       "A10                1\n",
       "C49                1\n",
       "F E46              1\n",
       "B38                1\n",
       "Name: Cabin, Length: 186, dtype: int64"
      ]
     },
     "execution_count": 39,
     "metadata": {},
     "output_type": "execute_result"
    }
   ],
   "source": [
    "df.Cabin.value_counts()"
   ]
  },
  {
   "cell_type": "code",
   "execution_count": 40,
   "metadata": {},
   "outputs": [],
   "source": [
    "df['Cabin_type']=df['Cabin'].str[:1]"
   ]
  },
  {
   "cell_type": "code",
   "execution_count": 41,
   "metadata": {
    "scrolled": true
   },
   "outputs": [
    {
     "data": {
      "text/plain": [
       "array([nan, 'C', 'E', 'G', 'D', 'A', 'B', 'F', 'T'], dtype=object)"
      ]
     },
     "execution_count": 41,
     "metadata": {},
     "output_type": "execute_result"
    }
   ],
   "source": [
    "df['Cabin_type'].unique()"
   ]
  },
  {
   "cell_type": "code",
   "execution_count": 42,
   "metadata": {},
   "outputs": [],
   "source": [
    "cab_mapping={'C':2, 'E':4, 'G':6, 'D':3, 'A':0, 'B':1, 'F':5, 'T':7}\n",
    "df['Cabin_type_num']=df['Cabin_type'].map(cab_mapping)"
   ]
  },
  {
   "cell_type": "code",
   "execution_count": 43,
   "metadata": {
    "scrolled": true
   },
   "outputs": [
    {
     "name": "stderr",
     "output_type": "stream",
     "text": [
      "C:\\Users\\iryun\\Anaconda3\\lib\\site-packages\\seaborn\\_decorators.py:36: FutureWarning: Pass the following variable as a keyword arg: x. From version 0.12, the only valid positional argument will be `data`, and passing other arguments without an explicit keyword will result in an error or misinterpretation.\n",
      "  warnings.warn(\n"
     ]
    },
    {
     "data": {
      "text/plain": [
       "<AxesSubplot:xlabel='Cabin_type_num', ylabel='count'>"
      ]
     },
     "execution_count": 43,
     "metadata": {},
     "output_type": "execute_result"
    },
    {
     "data": {
      "image/png": "[encoded data removed]",
      "text/plain": [
       "<Figure size 432x288 with 1 Axes>"
      ]
     },
     "metadata": {
      "needs_background": "light"
     },
     "output_type": "display_data"
    }
   ],
   "source": [
    "sns.countplot(df['Cabin_type_num'])"
   ]
  },
  {
   "cell_type": "code",
   "execution_count": 44,
   "metadata": {
    "scrolled": true
   },
   "outputs": [
    {
     "data": {
      "text/html": [
       "<div>\n",
       "<style scoped>\n",
       "    .dataframe tbody tr th:only-of-type {\n",
       "        vertical-align: middle;\n",
       "    }\n",
       "\n",
       "    .dataframe tbody tr th {\n",
       "        vertical-align: top;\n",
       "    }\n",
       "\n",
       "    .dataframe thead th {\n",
       "        text-align: right;\n",
       "    }\n",
       "</style>\n",
       "<table border=\"1\" class=\"dataframe\">\n",
       "  <thead>\n",
       "    <tr style=\"text-align: right;\">\n",
       "      <th></th>\n",
       "      <th>PassengerId</th>\n",
       "      <th>Survived</th>\n",
       "      <th>Pclass</th>\n",
       "      <th>Sex</th>\n",
       "      <th>Age</th>\n",
       "      <th>SibSp</th>\n",
       "      <th>Parch</th>\n",
       "      <th>Fare</th>\n",
       "      <th>Embarked</th>\n",
       "      <th>name_num</th>\n",
       "      <th>Cabin_type_num</th>\n",
       "    </tr>\n",
       "  </thead>\n",
       "  <tbody>\n",
       "    <tr>\n",
       "      <th>PassengerId</th>\n",
       "      <td>1.000000</td>\n",
       "      <td>-0.005007</td>\n",
       "      <td>-0.038354</td>\n",
       "      <td>-0.013406</td>\n",
       "      <td>0.024739</td>\n",
       "      <td>-0.055224</td>\n",
       "      <td>0.008942</td>\n",
       "      <td>0.031029</td>\n",
       "      <td>0.040143</td>\n",
       "      <td>0.006648</td>\n",
       "      <td>-0.061952</td>\n",
       "    </tr>\n",
       "    <tr>\n",
       "      <th>Survived</th>\n",
       "      <td>-0.005007</td>\n",
       "      <td>1.000000</td>\n",
       "      <td>-0.338481</td>\n",
       "      <td>0.543351</td>\n",
       "      <td>-0.071470</td>\n",
       "      <td>-0.035322</td>\n",
       "      <td>0.081629</td>\n",
       "      <td>0.257307</td>\n",
       "      <td>0.106811</td>\n",
       "      <td>0.496532</td>\n",
       "      <td>0.018825</td>\n",
       "    </tr>\n",
       "    <tr>\n",
       "      <th>Pclass</th>\n",
       "      <td>-0.038354</td>\n",
       "      <td>-0.338481</td>\n",
       "      <td>1.000000</td>\n",
       "      <td>-0.124617</td>\n",
       "      <td>-0.391818</td>\n",
       "      <td>0.060832</td>\n",
       "      <td>0.018322</td>\n",
       "      <td>-0.558740</td>\n",
       "      <td>0.038875</td>\n",
       "      <td>-0.190680</td>\n",
       "      <td>0.610843</td>\n",
       "    </tr>\n",
       "    <tr>\n",
       "      <th>Sex</th>\n",
       "      <td>-0.013406</td>\n",
       "      <td>0.543351</td>\n",
       "      <td>-0.124617</td>\n",
       "      <td>1.000000</td>\n",
       "      <td>-0.060438</td>\n",
       "      <td>0.109609</td>\n",
       "      <td>0.213125</td>\n",
       "      <td>0.185744</td>\n",
       "      <td>0.120423</td>\n",
       "      <td>0.875297</td>\n",
       "      <td>0.046212</td>\n",
       "    </tr>\n",
       "    <tr>\n",
       "      <th>Age</th>\n",
       "      <td>0.024739</td>\n",
       "      <td>-0.071470</td>\n",
       "      <td>-0.391818</td>\n",
       "      <td>-0.060438</td>\n",
       "      <td>1.000000</td>\n",
       "      <td>-0.214473</td>\n",
       "      <td>-0.129712</td>\n",
       "      <td>0.179610</td>\n",
       "      <td>-0.003711</td>\n",
       "      <td>0.099114</td>\n",
       "      <td>-0.215456</td>\n",
       "    </tr>\n",
       "    <tr>\n",
       "      <th>SibSp</th>\n",
       "      <td>-0.055224</td>\n",
       "      <td>-0.035322</td>\n",
       "      <td>0.060832</td>\n",
       "      <td>0.109609</td>\n",
       "      <td>-0.214473</td>\n",
       "      <td>1.000000</td>\n",
       "      <td>0.373587</td>\n",
       "      <td>0.160388</td>\n",
       "      <td>-0.073461</td>\n",
       "      <td>0.102467</td>\n",
       "      <td>-0.009289</td>\n",
       "    </tr>\n",
       "    <tr>\n",
       "      <th>Parch</th>\n",
       "      <td>0.008942</td>\n",
       "      <td>0.081629</td>\n",
       "      <td>0.018322</td>\n",
       "      <td>0.213125</td>\n",
       "      <td>-0.129712</td>\n",
       "      <td>0.373587</td>\n",
       "      <td>1.000000</td>\n",
       "      <td>0.221668</td>\n",
       "      <td>-0.095523</td>\n",
       "      <td>0.226988</td>\n",
       "      <td>0.007602</td>\n",
       "    </tr>\n",
       "    <tr>\n",
       "      <th>Fare</th>\n",
       "      <td>0.031029</td>\n",
       "      <td>0.257307</td>\n",
       "      <td>-0.558740</td>\n",
       "      <td>0.185744</td>\n",
       "      <td>0.179610</td>\n",
       "      <td>0.160388</td>\n",
       "      <td>0.221668</td>\n",
       "      <td>1.000000</td>\n",
       "      <td>0.061337</td>\n",
       "      <td>0.191157</td>\n",
       "      <td>-0.297525</td>\n",
       "    </tr>\n",
       "    <tr>\n",
       "      <th>Embarked</th>\n",
       "      <td>0.040143</td>\n",
       "      <td>0.106811</td>\n",
       "      <td>0.038875</td>\n",
       "      <td>0.120423</td>\n",
       "      <td>-0.003711</td>\n",
       "      <td>-0.073461</td>\n",
       "      <td>-0.095523</td>\n",
       "      <td>0.061337</td>\n",
       "      <td>1.000000</td>\n",
       "      <td>0.065749</td>\n",
       "      <td>-0.174626</td>\n",
       "    </tr>\n",
       "    <tr>\n",
       "      <th>name_num</th>\n",
       "      <td>0.006648</td>\n",
       "      <td>0.496532</td>\n",
       "      <td>-0.190680</td>\n",
       "      <td>0.875297</td>\n",
       "      <td>0.099114</td>\n",
       "      <td>0.102467</td>\n",
       "      <td>0.226988</td>\n",
       "      <td>0.191157</td>\n",
       "      <td>0.065749</td>\n",
       "      <td>1.000000</td>\n",
       "      <td>0.013063</td>\n",
       "    </tr>\n",
       "    <tr>\n",
       "      <th>Cabin_type_num</th>\n",
       "      <td>-0.061952</td>\n",
       "      <td>0.018825</td>\n",
       "      <td>0.610843</td>\n",
       "      <td>0.046212</td>\n",
       "      <td>-0.215456</td>\n",
       "      <td>-0.009289</td>\n",
       "      <td>0.007602</td>\n",
       "      <td>-0.297525</td>\n",
       "      <td>-0.174626</td>\n",
       "      <td>0.013063</td>\n",
       "      <td>1.000000</td>\n",
       "    </tr>\n",
       "  </tbody>\n",
       "</table>\n",
       "</div>"
      ],
      "text/plain": [
       "                PassengerId  Survived    Pclass       Sex       Age     SibSp  \\\n",
       "PassengerId        1.000000 -0.005007 -0.038354 -0.013406  0.024739 -0.055224   \n",
       "Survived          -0.005007  1.000000 -0.338481  0.543351 -0.071470 -0.035322   \n",
       "Pclass            -0.038354 -0.338481  1.000000 -0.124617 -0.391818  0.060832   \n",
       "Sex               -0.013406  0.543351 -0.124617  1.000000 -0.060438  0.109609   \n",
       "Age                0.024739 -0.071470 -0.391818 -0.060438  1.000000 -0.214473   \n",
       "SibSp             -0.055224 -0.035322  0.060832  0.109609 -0.214473  1.000000   \n",
       "Parch              0.008942  0.081629  0.018322  0.213125 -0.129712  0.373587   \n",
       "Fare               0.031029  0.257307 -0.558740  0.185744  0.179610  0.160388   \n",
       "Embarked           0.040143  0.106811  0.038875  0.120423 -0.003711 -0.073461   \n",
       "name_num           0.006648  0.496532 -0.190680  0.875297  0.099114  0.102467   \n",
       "Cabin_type_num    -0.061952  0.018825  0.610843  0.046212 -0.215456 -0.009289   \n",
       "\n",
       "                   Parch      Fare  Embarked  name_num  Cabin_type_num  \n",
       "PassengerId     0.008942  0.031029  0.040143  0.006648       -0.061952  \n",
       "Survived        0.081629  0.257307  0.106811  0.496532        0.018825  \n",
       "Pclass          0.018322 -0.558740  0.038875 -0.190680        0.610843  \n",
       "Sex             0.213125  0.185744  0.120423  0.875297        0.046212  \n",
       "Age            -0.129712  0.179610 -0.003711  0.099114       -0.215456  \n",
       "SibSp           0.373587  0.160388 -0.073461  0.102467       -0.009289  \n",
       "Parch           1.000000  0.221668 -0.095523  0.226988        0.007602  \n",
       "Fare            0.221668  1.000000  0.061337  0.191157       -0.297525  \n",
       "Embarked       -0.095523  0.061337  1.000000  0.065749       -0.174626  \n",
       "name_num        0.226988  0.191157  0.065749  1.000000        0.013063  \n",
       "Cabin_type_num  0.007602 -0.297525 -0.174626  0.013063        1.000000  "
      ]
     },
     "execution_count": 44,
     "metadata": {},
     "output_type": "execute_result"
    }
   ],
   "source": [
    "df.corr()"
   ]
  },
  {
   "cell_type": "markdown",
   "metadata": {},
   "source": [
    "- Pclass와 Cabin type num의 상관관계가 약 0.61로 매우 높다"
   ]
  },
  {
   "cell_type": "code",
   "execution_count": 45,
   "metadata": {
    "scrolled": false
   },
   "outputs": [
    {
     "data": {
      "text/plain": [
       "<AxesSubplot:xlabel='Cabin_type_num', ylabel='count'>"
      ]
     },
     "execution_count": 45,
     "metadata": {},
     "output_type": "execute_result"
    },
    {
     "data": {
      "image/png": "[encoded data removed]",
      "text/plain": [
       "<Figure size 432x288 with 1 Axes>"
      ]
     },
     "metadata": {
      "needs_background": "light"
     },
     "output_type": "display_data"
    }
   ],
   "source": [
    "sns.countplot(x='Cabin_type_num',hue='Pclass',data=df)"
   ]
  },
  {
   "cell_type": "markdown",
   "metadata": {},
   "source": [
    "'A':0, 'B':1,'C':2,'D':3,'E':4, 'F':5,'G':6,'T':7\n",
    "-> A,B,C,D,E,T : 1등석 / D,E,F : 2등석 / E,F,G : 3등석"
   ]
  },
  {
   "cell_type": "code",
   "execution_count": 46,
   "metadata": {
    "scrolled": true
   },
   "outputs": [
    {
     "name": "stdout",
     "output_type": "stream",
     "text": [
      "<class 'pandas.core.frame.DataFrame'>\n",
      "RangeIndex: 1309 entries, 0 to 1308\n",
      "Data columns (total 16 columns):\n",
      " #   Column          Non-Null Count  Dtype  \n",
      "---  ------          --------------  -----  \n",
      " 0   PassengerId     1309 non-null   int64  \n",
      " 1   Survived        891 non-null    float64\n",
      " 2   Pclass          1309 non-null   int64  \n",
      " 3   Name            1309 non-null   object \n",
      " 4   Sex             1309 non-null   int64  \n",
      " 5   Age             1309 non-null   float64\n",
      " 6   SibSp           1309 non-null   int64  \n",
      " 7   Parch           1309 non-null   int64  \n",
      " 8   Ticket          1309 non-null   object \n",
      " 9   Fare            1309 non-null   float64\n",
      " 10  Cabin           295 non-null    object \n",
      " 11  Embarked        1309 non-null   float64\n",
      " 12  NameTitle       1309 non-null   object \n",
      " 13  name_num        1309 non-null   int64  \n",
      " 14  Cabin_type      295 non-null    object \n",
      " 15  Cabin_type_num  295 non-null    float64\n",
      "dtypes: float64(5), int64(6), object(5)\n",
      "memory usage: 163.8+ KB\n"
     ]
    }
   ],
   "source": [
    "df.info()"
   ]
  },
  {
   "cell_type": "markdown",
   "metadata": {},
   "source": [
    "1309개 데이터 중 1014개의 결측치 - > 약 77%의 결측치 <br>\n",
    "Pclass와 상관성은 높지만 그것 만으로는 대체하기 어려워 제외한다."
   ]
  },
  {
   "cell_type": "code",
   "execution_count": 47,
   "metadata": {},
   "outputs": [],
   "source": [
    "df=df.drop(columns=[\"Cabin_type\",\"Cabin_type_num\",\"Name\",\"Cabin\"])"
   ]
  },
  {
   "cell_type": "markdown",
   "metadata": {},
   "source": [
    "# 3. EDA"
   ]
  },
  {
   "cell_type": "code",
   "execution_count": 48,
   "metadata": {},
   "outputs": [
    {
     "data": {
      "text/html": [
       "<div>\n",
       "<style scoped>\n",
       "    .dataframe tbody tr th:only-of-type {\n",
       "        vertical-align: middle;\n",
       "    }\n",
       "\n",
       "    .dataframe tbody tr th {\n",
       "        vertical-align: top;\n",
       "    }\n",
       "\n",
       "    .dataframe thead th {\n",
       "        text-align: right;\n",
       "    }\n",
       "</style>\n",
       "<table border=\"1\" class=\"dataframe\">\n",
       "  <thead>\n",
       "    <tr style=\"text-align: right;\">\n",
       "      <th></th>\n",
       "      <th>PassengerId</th>\n",
       "      <th>Survived</th>\n",
       "      <th>Pclass</th>\n",
       "      <th>Sex</th>\n",
       "      <th>Age</th>\n",
       "      <th>SibSp</th>\n",
       "      <th>Parch</th>\n",
       "      <th>Ticket</th>\n",
       "      <th>Fare</th>\n",
       "      <th>Embarked</th>\n",
       "      <th>NameTitle</th>\n",
       "      <th>name_num</th>\n",
       "    </tr>\n",
       "  </thead>\n",
       "  <tbody>\n",
       "    <tr>\n",
       "      <th>0</th>\n",
       "      <td>1</td>\n",
       "      <td>0.0</td>\n",
       "      <td>3</td>\n",
       "      <td>1</td>\n",
       "      <td>22.0</td>\n",
       "      <td>1</td>\n",
       "      <td>0</td>\n",
       "      <td>A/5 21171</td>\n",
       "      <td>7.2500</td>\n",
       "      <td>0.0</td>\n",
       "      <td>Mr</td>\n",
       "      <td>0</td>\n",
       "    </tr>\n",
       "    <tr>\n",
       "      <th>1</th>\n",
       "      <td>2</td>\n",
       "      <td>1.0</td>\n",
       "      <td>1</td>\n",
       "      <td>2</td>\n",
       "      <td>38.0</td>\n",
       "      <td>1</td>\n",
       "      <td>0</td>\n",
       "      <td>PC 17599</td>\n",
       "      <td>71.2833</td>\n",
       "      <td>1.0</td>\n",
       "      <td>Mrs</td>\n",
       "      <td>2</td>\n",
       "    </tr>\n",
       "    <tr>\n",
       "      <th>2</th>\n",
       "      <td>3</td>\n",
       "      <td>1.0</td>\n",
       "      <td>3</td>\n",
       "      <td>2</td>\n",
       "      <td>26.0</td>\n",
       "      <td>0</td>\n",
       "      <td>0</td>\n",
       "      <td>STON/O2. 3101282</td>\n",
       "      <td>7.9250</td>\n",
       "      <td>0.0</td>\n",
       "      <td>Miss</td>\n",
       "      <td>1</td>\n",
       "    </tr>\n",
       "    <tr>\n",
       "      <th>3</th>\n",
       "      <td>4</td>\n",
       "      <td>1.0</td>\n",
       "      <td>1</td>\n",
       "      <td>2</td>\n",
       "      <td>35.0</td>\n",
       "      <td>1</td>\n",
       "      <td>0</td>\n",
       "      <td>113803</td>\n",
       "      <td>53.1000</td>\n",
       "      <td>0.0</td>\n",
       "      <td>Mrs</td>\n",
       "      <td>2</td>\n",
       "    </tr>\n",
       "    <tr>\n",
       "      <th>4</th>\n",
       "      <td>5</td>\n",
       "      <td>0.0</td>\n",
       "      <td>3</td>\n",
       "      <td>1</td>\n",
       "      <td>35.0</td>\n",
       "      <td>0</td>\n",
       "      <td>0</td>\n",
       "      <td>373450</td>\n",
       "      <td>8.0500</td>\n",
       "      <td>0.0</td>\n",
       "      <td>Mr</td>\n",
       "      <td>0</td>\n",
       "    </tr>\n",
       "  </tbody>\n",
       "</table>\n",
       "</div>"
      ],
      "text/plain": [
       "   PassengerId  Survived  Pclass  Sex   Age  SibSp  Parch            Ticket  \\\n",
       "0            1       0.0       3    1  22.0      1      0         A/5 21171   \n",
       "1            2       1.0       1    2  38.0      1      0          PC 17599   \n",
       "2            3       1.0       3    2  26.0      0      0  STON/O2. 3101282   \n",
       "3            4       1.0       1    2  35.0      1      0            113803   \n",
       "4            5       0.0       3    1  35.0      0      0            373450   \n",
       "\n",
       "      Fare  Embarked NameTitle  name_num  \n",
       "0   7.2500       0.0        Mr         0  \n",
       "1  71.2833       1.0       Mrs         2  \n",
       "2   7.9250       0.0      Miss         1  \n",
       "3  53.1000       0.0       Mrs         2  \n",
       "4   8.0500       0.0        Mr         0  "
      ]
     },
     "execution_count": 48,
     "metadata": {},
     "output_type": "execute_result"
    }
   ],
   "source": [
    "df.head()"
   ]
  },
  {
   "cell_type": "markdown",
   "metadata": {},
   "source": [
    "데이터셋 분포 양상"
   ]
  },
  {
   "cell_type": "code",
   "execution_count": 49,
   "metadata": {
    "scrolled": true
   },
   "outputs": [
    {
     "data": {
      "text/html": [
       "<div>\n",
       "<style scoped>\n",
       "    .dataframe tbody tr th:only-of-type {\n",
       "        vertical-align: middle;\n",
       "    }\n",
       "\n",
       "    .dataframe tbody tr th {\n",
       "        vertical-align: top;\n",
       "    }\n",
       "\n",
       "    .dataframe thead th {\n",
       "        text-align: right;\n",
       "    }\n",
       "</style>\n",
       "<table border=\"1\" class=\"dataframe\">\n",
       "  <thead>\n",
       "    <tr style=\"text-align: right;\">\n",
       "      <th></th>\n",
       "      <th>PassengerId</th>\n",
       "      <th>Survived</th>\n",
       "      <th>Pclass</th>\n",
       "      <th>Sex</th>\n",
       "      <th>Age</th>\n",
       "      <th>SibSp</th>\n",
       "      <th>Parch</th>\n",
       "      <th>Fare</th>\n",
       "      <th>Embarked</th>\n",
       "      <th>name_num</th>\n",
       "    </tr>\n",
       "  </thead>\n",
       "  <tbody>\n",
       "    <tr>\n",
       "      <th>count</th>\n",
       "      <td>1309.000000</td>\n",
       "      <td>891.000000</td>\n",
       "      <td>1309.000000</td>\n",
       "      <td>1309.000000</td>\n",
       "      <td>1309.000000</td>\n",
       "      <td>1309.000000</td>\n",
       "      <td>1309.000000</td>\n",
       "      <td>1309.000000</td>\n",
       "      <td>1309.000000</td>\n",
       "      <td>1309.000000</td>\n",
       "    </tr>\n",
       "    <tr>\n",
       "      <th>mean</th>\n",
       "      <td>655.000000</td>\n",
       "      <td>0.383838</td>\n",
       "      <td>2.294882</td>\n",
       "      <td>1.355997</td>\n",
       "      <td>29.432521</td>\n",
       "      <td>0.498854</td>\n",
       "      <td>0.385027</td>\n",
       "      <td>33.276193</td>\n",
       "      <td>0.394194</td>\n",
       "      <td>0.524828</td>\n",
       "    </tr>\n",
       "    <tr>\n",
       "      <th>std</th>\n",
       "      <td>378.020061</td>\n",
       "      <td>0.486592</td>\n",
       "      <td>0.837836</td>\n",
       "      <td>0.478997</td>\n",
       "      <td>13.163767</td>\n",
       "      <td>1.041658</td>\n",
       "      <td>0.865560</td>\n",
       "      <td>51.743584</td>\n",
       "      <td>0.653499</td>\n",
       "      <td>0.768474</td>\n",
       "    </tr>\n",
       "    <tr>\n",
       "      <th>min</th>\n",
       "      <td>1.000000</td>\n",
       "      <td>0.000000</td>\n",
       "      <td>1.000000</td>\n",
       "      <td>1.000000</td>\n",
       "      <td>0.170000</td>\n",
       "      <td>0.000000</td>\n",
       "      <td>0.000000</td>\n",
       "      <td>0.000000</td>\n",
       "      <td>0.000000</td>\n",
       "      <td>0.000000</td>\n",
       "    </tr>\n",
       "    <tr>\n",
       "      <th>25%</th>\n",
       "      <td>328.000000</td>\n",
       "      <td>0.000000</td>\n",
       "      <td>2.000000</td>\n",
       "      <td>1.000000</td>\n",
       "      <td>22.000000</td>\n",
       "      <td>0.000000</td>\n",
       "      <td>0.000000</td>\n",
       "      <td>7.895800</td>\n",
       "      <td>0.000000</td>\n",
       "      <td>0.000000</td>\n",
       "    </tr>\n",
       "    <tr>\n",
       "      <th>50%</th>\n",
       "      <td>655.000000</td>\n",
       "      <td>0.000000</td>\n",
       "      <td>3.000000</td>\n",
       "      <td>1.000000</td>\n",
       "      <td>29.000000</td>\n",
       "      <td>0.000000</td>\n",
       "      <td>0.000000</td>\n",
       "      <td>14.454200</td>\n",
       "      <td>0.000000</td>\n",
       "      <td>0.000000</td>\n",
       "    </tr>\n",
       "    <tr>\n",
       "      <th>75%</th>\n",
       "      <td>982.000000</td>\n",
       "      <td>1.000000</td>\n",
       "      <td>3.000000</td>\n",
       "      <td>2.000000</td>\n",
       "      <td>35.500000</td>\n",
       "      <td>1.000000</td>\n",
       "      <td>0.000000</td>\n",
       "      <td>31.275000</td>\n",
       "      <td>1.000000</td>\n",
       "      <td>1.000000</td>\n",
       "    </tr>\n",
       "    <tr>\n",
       "      <th>max</th>\n",
       "      <td>1309.000000</td>\n",
       "      <td>1.000000</td>\n",
       "      <td>3.000000</td>\n",
       "      <td>2.000000</td>\n",
       "      <td>80.000000</td>\n",
       "      <td>8.000000</td>\n",
       "      <td>9.000000</td>\n",
       "      <td>512.329200</td>\n",
       "      <td>2.000000</td>\n",
       "      <td>3.000000</td>\n",
       "    </tr>\n",
       "  </tbody>\n",
       "</table>\n",
       "</div>"
      ],
      "text/plain": [
       "       PassengerId    Survived       Pclass          Sex          Age  \\\n",
       "count  1309.000000  891.000000  1309.000000  1309.000000  1309.000000   \n",
       "mean    655.000000    0.383838     2.294882     1.355997    29.432521   \n",
       "std     378.020061    0.486592     0.837836     0.478997    13.163767   \n",
       "min       1.000000    0.000000     1.000000     1.000000     0.170000   \n",
       "25%     328.000000    0.000000     2.000000     1.000000    22.000000   \n",
       "50%     655.000000    0.000000     3.000000     1.000000    29.000000   \n",
       "75%     982.000000    1.000000     3.000000     2.000000    35.500000   \n",
       "max    1309.000000    1.000000     3.000000     2.000000    80.000000   \n",
       "\n",
       "             SibSp        Parch         Fare     Embarked     name_num  \n",
       "count  1309.000000  1309.000000  1309.000000  1309.000000  1309.000000  \n",
       "mean      0.498854     0.385027    33.276193     0.394194     0.524828  \n",
       "std       1.041658     0.865560    51.743584     0.653499     0.768474  \n",
       "min       0.000000     0.000000     0.000000     0.000000     0.000000  \n",
       "25%       0.000000     0.000000     7.895800     0.000000     0.000000  \n",
       "50%       0.000000     0.000000    14.454200     0.000000     0.000000  \n",
       "75%       1.000000     0.000000    31.275000     1.000000     1.000000  \n",
       "max       8.000000     9.000000   512.329200     2.000000     3.000000  "
      ]
     },
     "execution_count": 49,
     "metadata": {},
     "output_type": "execute_result"
    }
   ],
   "source": [
    "df.describe()"
   ]
  },
  {
   "cell_type": "code",
   "execution_count": 50,
   "metadata": {
    "scrolled": false
   },
   "outputs": [
    {
     "data": {
      "text/plain": [
       "Text(0.5, 1.0, 'name_num')"
      ]
     },
     "execution_count": 50,
     "metadata": {},
     "output_type": "execute_result"
    },
    {
     "data": {
      "image/png": "[encoded data removed]",
      "text/plain": [
       "<Figure size 1152x1152 with 9 Axes>"
      ]
     },
     "metadata": {
      "needs_background": "light"
     },
     "output_type": "display_data"
    }
   ],
   "source": [
    "plt.figure(figsize=[16,16])\n",
    "\n",
    "plt.subplot(331)\n",
    "plt.hist(x=df['Survived'])\n",
    "plt.title('Survived')\n",
    "\n",
    "plt.subplot(332)\n",
    "plt.hist(x=df['Pclass'])\n",
    "plt.title('Pclass')\n",
    "\n",
    "plt.subplot(333)\n",
    "plt.hist(x=df['Age'])\n",
    "plt.title('Age')\n",
    "\n",
    "plt.subplot(334)\n",
    "plt.hist(x=df['SibSp'])\n",
    "plt.title('SibSp')\n",
    "\n",
    "\n",
    "plt.subplot(335)\n",
    "plt.hist(x=df['Parch'])\n",
    "plt.title('Parch')\n",
    "\n",
    "\n",
    "plt.subplot(336)\n",
    "plt.hist(x=df['Fare'])\n",
    "plt.title('Fare')\n",
    "\n",
    "\n",
    "plt.subplot(337)\n",
    "plt.hist(x=df['Sex'])\n",
    "plt.title('Sex')\n",
    "\n",
    "\n",
    "plt.subplot(338)\n",
    "plt.hist(x=df['Embarked'])\n",
    "plt.title('Embarked')\n",
    "\n",
    "\n",
    "plt.subplot(339)\n",
    "plt.hist(x=df['name_num'])\n",
    "plt.title('name_num')"
   ]
  },
  {
   "cell_type": "code",
   "execution_count": 51,
   "metadata": {
    "scrolled": false
   },
   "outputs": [
    {
     "data": {
      "text/plain": [
       "Text(0.5, 1.0, 'name_num')"
      ]
     },
     "execution_count": 51,
     "metadata": {},
     "output_type": "execute_result"
    },
    {
     "data": {
      "image/png": "[encoded data removed]",
      "text/plain": [
       "<Figure size 1152x864 with 8 Axes>"
      ]
     },
     "metadata": {
      "needs_background": "light"
     },
     "output_type": "display_data"
    }
   ],
   "source": [
    "plt.figure(figsize=[16,12])\n",
    "\n",
    "plt.subplot(241)\n",
    "plt.hist(x=[df[df['Survived']==1]['Pclass'],df[df['Survived']==0]['Pclass']],\n",
    "         stacked=True,label=['Survived','Dead'])\n",
    "plt.legend()\n",
    "plt.title('Pclass')\n",
    "\n",
    "plt.subplot(242)\n",
    "plt.hist(x=[df[df['Survived']==1]['Age'],df[df['Survived']==0]['Age']],\n",
    "         stacked=True,label=['Survived','Dead'])\n",
    "plt.legend()\n",
    "plt.title('Age')\n",
    "\n",
    "\n",
    "plt.subplot(243)\n",
    "plt.hist(x=[df[df['Survived']==1]['SibSp'],df[df['Survived']==0]['SibSp']],\n",
    "         stacked=True,label=['Survived','Dead'])\n",
    "plt.legend()\n",
    "plt.title('SibSp')\n",
    "\n",
    "\n",
    "plt.subplot(244)\n",
    "plt.hist(x=[df[df['Survived']==1]['Parch'],df[df['Survived']==0]['Parch']],\n",
    "         stacked=True,label=['Survived','Dead'])\n",
    "plt.legend()\n",
    "plt.title('Parch')\n",
    "\n",
    "\n",
    "plt.subplot(245)\n",
    "plt.hist(x=[df[df['Survived']==1]['Fare'],df[df['Survived']==0]['Fare']],\n",
    "         stacked=True,label=['Survived','Dead'])\n",
    "plt.legend()\n",
    "plt.title('Fare')\n",
    "\n",
    "\n",
    "plt.subplot(246)\n",
    "plt.hist(x=[df[df['Survived']==1]['Sex'],df[df['Survived']==0]['Sex']],\n",
    "         stacked=True,label=['Survived','Dead'])\n",
    "plt.legend()\n",
    "plt.title('Sex')\n",
    "\n",
    "\n",
    "plt.subplot(247)\n",
    "plt.hist(x=[df[df['Survived']==1]['Embarked'],df[df['Survived']==0]['Embarked']],\n",
    "         stacked=True,label=['Survived','Dead'])\n",
    "plt.legend()\n",
    "plt.title('Embarked')\n",
    "\n",
    "\n",
    "plt.subplot(248)\n",
    "plt.hist(x=[df[df['Survived']==1]['name_num'],df[df['Survived']==0]['name_num']],\n",
    "         stacked=True,label=['Survived','Dead'])\n",
    "plt.legend()\n",
    "plt.title('name_num')"
   ]
  },
  {
   "cell_type": "code",
   "execution_count": 52,
   "metadata": {},
   "outputs": [
    {
     "data": {
      "text/plain": [
       "<matplotlib.collections.PathCollection at 0x18d24e936a0>"
      ]
     },
     "execution_count": 52,
     "metadata": {},
     "output_type": "execute_result"
    },
    {
     "data": {
      "image/png": "[encoded data removed]",
      "text/plain": [
       "<Figure size 432x288 with 1 Axes>"
      ]
     },
     "metadata": {
      "needs_background": "light"
     },
     "output_type": "display_data"
    }
   ],
   "source": [
    "plt.scatter(df['Pclass'],df['Age'])"
   ]
  },
  {
   "cell_type": "code",
   "execution_count": 53,
   "metadata": {
    "scrolled": false
   },
   "outputs": [
    {
     "data": {
      "text/plain": [
       "<matplotlib.legend.Legend at 0x18d24ecbee0>"
      ]
     },
     "execution_count": 53,
     "metadata": {},
     "output_type": "execute_result"
    },
    {
     "data": {
      "image/png": "[encoded data removed]",
      "text/plain": [
       "<Figure size 432x288 with 1 Axes>"
      ]
     },
     "metadata": {
      "needs_background": "light"
     },
     "output_type": "display_data"
    }
   ],
   "source": [
    "plt.hist(x=[df[df['Pclass']==1]['Age'],df[df['Pclass']==2]['Age'],df[df['Pclass']==3]['Age']],\n",
    "         stacked=True,label=['1','2','3'])\n",
    "plt.legend()"
   ]
  },
  {
   "cell_type": "markdown",
   "metadata": {},
   "source": [
    "20대 미만은 1등석의 비율이 매우 적다 노년층일수록 1등석의 비율이 높다"
   ]
  },
  {
   "cell_type": "code",
   "execution_count": 54,
   "metadata": {
    "scrolled": false
   },
   "outputs": [
    {
     "data": {
      "text/plain": [
       "<matplotlib.collections.PathCollection at 0x18d253b2250>"
      ]
     },
     "execution_count": 54,
     "metadata": {},
     "output_type": "execute_result"
    },
    {
     "data": {
      "image/png": "[encoded data removed]",
      "text/plain": [
       "<Figure size 432x288 with 1 Axes>"
      ]
     },
     "metadata": {
      "needs_background": "light"
     },
     "output_type": "display_data"
    }
   ],
   "source": [
    "plt.scatter(df['SibSp'],df['Age'])"
   ]
  },
  {
   "cell_type": "markdown",
   "metadata": {},
   "source": [
    "많은 사람과 동반해서 온 사람들일수록 고령자가 적다"
   ]
  },
  {
   "cell_type": "code",
   "execution_count": 55,
   "metadata": {
    "scrolled": false
   },
   "outputs": [
    {
     "data": {
      "text/plain": [
       "<matplotlib.legend.Legend at 0x18d253d6f70>"
      ]
     },
     "execution_count": 55,
     "metadata": {},
     "output_type": "execute_result"
    },
    {
     "data": {
      "image/png": "[encoded data removed]",
      "text/plain": [
       "<Figure size 432x288 with 1 Axes>"
      ]
     },
     "metadata": {
      "needs_background": "light"
     },
     "output_type": "display_data"
    }
   ],
   "source": [
    "plt.figsize=(30,20)\n",
    "plt.hist(x=[df[df['SibSp']==0]['Age'],df[df['SibSp']==1]['Age'],df[df['SibSp']==2]['Age'],\n",
    "         df[df['SibSp']==3]['Age'],df[df['SibSp']==4]['Age'],df[df['SibSp']==5]['Age']],label=['0','1','2','3','4','5'])\n",
    "plt.legend()"
   ]
  },
  {
   "cell_type": "markdown",
   "metadata": {},
   "source": [
    "혼자 온 사람들은 20대 이상이 많으며 20대 미만의 사람들은 동반인이 많은 편.<br>\n",
    "동반인이 있는 경우 2인1쌍으로 온 사람이 많다."
   ]
  },
  {
   "cell_type": "markdown",
   "metadata": {},
   "source": [
    "# 4. 이상치 탐색"
   ]
  },
  {
   "cell_type": "code",
   "execution_count": 56,
   "metadata": {
    "scrolled": false
   },
   "outputs": [
    {
     "data": {
      "text/plain": [
       "Index(['PassengerId', 'Survived', 'Pclass', 'Sex', 'Age', 'SibSp', 'Parch',\n",
       "       'Ticket', 'Fare', 'Embarked', 'NameTitle', 'name_num'],\n",
       "      dtype='object')"
      ]
     },
     "execution_count": 56,
     "metadata": {},
     "output_type": "execute_result"
    }
   ],
   "source": [
    "df.columns"
   ]
  },
  {
   "cell_type": "code",
   "execution_count": 57,
   "metadata": {},
   "outputs": [],
   "source": [
    "df_train=df.loc[0:890]\n",
    "df_test=df.loc[891:1309]"
   ]
  },
  {
   "cell_type": "code",
   "execution_count": 58,
   "metadata": {
    "scrolled": true
   },
   "outputs": [
    {
     "data": {
      "text/html": [
       "<div>\n",
       "<style scoped>\n",
       "    .dataframe tbody tr th:only-of-type {\n",
       "        vertical-align: middle;\n",
       "    }\n",
       "\n",
       "    .dataframe tbody tr th {\n",
       "        vertical-align: top;\n",
       "    }\n",
       "\n",
       "    .dataframe thead th {\n",
       "        text-align: right;\n",
       "    }\n",
       "</style>\n",
       "<table border=\"1\" class=\"dataframe\">\n",
       "  <thead>\n",
       "    <tr style=\"text-align: right;\">\n",
       "      <th></th>\n",
       "      <th>PassengerId</th>\n",
       "      <th>Survived</th>\n",
       "      <th>Pclass</th>\n",
       "      <th>Sex</th>\n",
       "      <th>Age</th>\n",
       "      <th>SibSp</th>\n",
       "      <th>Parch</th>\n",
       "      <th>Ticket</th>\n",
       "      <th>Fare</th>\n",
       "      <th>Embarked</th>\n",
       "      <th>NameTitle</th>\n",
       "      <th>name_num</th>\n",
       "    </tr>\n",
       "  </thead>\n",
       "  <tbody>\n",
       "    <tr>\n",
       "      <th>886</th>\n",
       "      <td>887</td>\n",
       "      <td>0.0</td>\n",
       "      <td>2</td>\n",
       "      <td>1</td>\n",
       "      <td>27.0</td>\n",
       "      <td>0</td>\n",
       "      <td>0</td>\n",
       "      <td>211536</td>\n",
       "      <td>13.00</td>\n",
       "      <td>0.0</td>\n",
       "      <td>Rev</td>\n",
       "      <td>0</td>\n",
       "    </tr>\n",
       "    <tr>\n",
       "      <th>887</th>\n",
       "      <td>888</td>\n",
       "      <td>1.0</td>\n",
       "      <td>1</td>\n",
       "      <td>2</td>\n",
       "      <td>19.0</td>\n",
       "      <td>0</td>\n",
       "      <td>0</td>\n",
       "      <td>112053</td>\n",
       "      <td>30.00</td>\n",
       "      <td>0.0</td>\n",
       "      <td>Miss</td>\n",
       "      <td>1</td>\n",
       "    </tr>\n",
       "    <tr>\n",
       "      <th>888</th>\n",
       "      <td>889</td>\n",
       "      <td>0.0</td>\n",
       "      <td>3</td>\n",
       "      <td>2</td>\n",
       "      <td>22.0</td>\n",
       "      <td>1</td>\n",
       "      <td>2</td>\n",
       "      <td>W./C. 6607</td>\n",
       "      <td>23.45</td>\n",
       "      <td>0.0</td>\n",
       "      <td>Miss</td>\n",
       "      <td>1</td>\n",
       "    </tr>\n",
       "    <tr>\n",
       "      <th>889</th>\n",
       "      <td>890</td>\n",
       "      <td>1.0</td>\n",
       "      <td>1</td>\n",
       "      <td>1</td>\n",
       "      <td>26.0</td>\n",
       "      <td>0</td>\n",
       "      <td>0</td>\n",
       "      <td>111369</td>\n",
       "      <td>30.00</td>\n",
       "      <td>1.0</td>\n",
       "      <td>Mr</td>\n",
       "      <td>0</td>\n",
       "    </tr>\n",
       "    <tr>\n",
       "      <th>890</th>\n",
       "      <td>891</td>\n",
       "      <td>0.0</td>\n",
       "      <td>3</td>\n",
       "      <td>1</td>\n",
       "      <td>32.0</td>\n",
       "      <td>0</td>\n",
       "      <td>0</td>\n",
       "      <td>370376</td>\n",
       "      <td>7.75</td>\n",
       "      <td>2.0</td>\n",
       "      <td>Mr</td>\n",
       "      <td>0</td>\n",
       "    </tr>\n",
       "  </tbody>\n",
       "</table>\n",
       "</div>"
      ],
      "text/plain": [
       "     PassengerId  Survived  Pclass  Sex   Age  SibSp  Parch      Ticket  \\\n",
       "886          887       0.0       2    1  27.0      0      0      211536   \n",
       "887          888       1.0       1    2  19.0      0      0      112053   \n",
       "888          889       0.0       3    2  22.0      1      2  W./C. 6607   \n",
       "889          890       1.0       1    1  26.0      0      0      111369   \n",
       "890          891       0.0       3    1  32.0      0      0      370376   \n",
       "\n",
       "      Fare  Embarked NameTitle  name_num  \n",
       "886  13.00       0.0       Rev         0  \n",
       "887  30.00       0.0      Miss         1  \n",
       "888  23.45       0.0      Miss         1  \n",
       "889  30.00       1.0        Mr         0  \n",
       "890   7.75       2.0        Mr         0  "
      ]
     },
     "execution_count": 58,
     "metadata": {},
     "output_type": "execute_result"
    }
   ],
   "source": [
    "df_train.tail()"
   ]
  },
  {
   "cell_type": "code",
   "execution_count": 59,
   "metadata": {},
   "outputs": [
    {
     "data": {
      "text/html": [
       "<div>\n",
       "<style scoped>\n",
       "    .dataframe tbody tr th:only-of-type {\n",
       "        vertical-align: middle;\n",
       "    }\n",
       "\n",
       "    .dataframe tbody tr th {\n",
       "        vertical-align: top;\n",
       "    }\n",
       "\n",
       "    .dataframe thead th {\n",
       "        text-align: right;\n",
       "    }\n",
       "</style>\n",
       "<table border=\"1\" class=\"dataframe\">\n",
       "  <thead>\n",
       "    <tr style=\"text-align: right;\">\n",
       "      <th></th>\n",
       "      <th>PassengerId</th>\n",
       "      <th>Survived</th>\n",
       "      <th>Pclass</th>\n",
       "      <th>Sex</th>\n",
       "      <th>Age</th>\n",
       "      <th>SibSp</th>\n",
       "      <th>Parch</th>\n",
       "      <th>Ticket</th>\n",
       "      <th>Fare</th>\n",
       "      <th>Embarked</th>\n",
       "      <th>NameTitle</th>\n",
       "      <th>name_num</th>\n",
       "    </tr>\n",
       "  </thead>\n",
       "  <tbody>\n",
       "    <tr>\n",
       "      <th>891</th>\n",
       "      <td>892</td>\n",
       "      <td>NaN</td>\n",
       "      <td>3</td>\n",
       "      <td>1</td>\n",
       "      <td>34.5</td>\n",
       "      <td>0</td>\n",
       "      <td>0</td>\n",
       "      <td>330911</td>\n",
       "      <td>7.8292</td>\n",
       "      <td>2.0</td>\n",
       "      <td>Mr</td>\n",
       "      <td>0</td>\n",
       "    </tr>\n",
       "    <tr>\n",
       "      <th>892</th>\n",
       "      <td>893</td>\n",
       "      <td>NaN</td>\n",
       "      <td>3</td>\n",
       "      <td>2</td>\n",
       "      <td>47.0</td>\n",
       "      <td>1</td>\n",
       "      <td>0</td>\n",
       "      <td>363272</td>\n",
       "      <td>7.0000</td>\n",
       "      <td>0.0</td>\n",
       "      <td>Mrs</td>\n",
       "      <td>2</td>\n",
       "    </tr>\n",
       "    <tr>\n",
       "      <th>893</th>\n",
       "      <td>894</td>\n",
       "      <td>NaN</td>\n",
       "      <td>2</td>\n",
       "      <td>1</td>\n",
       "      <td>62.0</td>\n",
       "      <td>0</td>\n",
       "      <td>0</td>\n",
       "      <td>240276</td>\n",
       "      <td>9.6875</td>\n",
       "      <td>2.0</td>\n",
       "      <td>Mr</td>\n",
       "      <td>0</td>\n",
       "    </tr>\n",
       "    <tr>\n",
       "      <th>894</th>\n",
       "      <td>895</td>\n",
       "      <td>NaN</td>\n",
       "      <td>3</td>\n",
       "      <td>1</td>\n",
       "      <td>27.0</td>\n",
       "      <td>0</td>\n",
       "      <td>0</td>\n",
       "      <td>315154</td>\n",
       "      <td>8.6625</td>\n",
       "      <td>0.0</td>\n",
       "      <td>Mr</td>\n",
       "      <td>0</td>\n",
       "    </tr>\n",
       "    <tr>\n",
       "      <th>895</th>\n",
       "      <td>896</td>\n",
       "      <td>NaN</td>\n",
       "      <td>3</td>\n",
       "      <td>2</td>\n",
       "      <td>22.0</td>\n",
       "      <td>1</td>\n",
       "      <td>1</td>\n",
       "      <td>3101298</td>\n",
       "      <td>12.2875</td>\n",
       "      <td>0.0</td>\n",
       "      <td>Mrs</td>\n",
       "      <td>2</td>\n",
       "    </tr>\n",
       "  </tbody>\n",
       "</table>\n",
       "</div>"
      ],
      "text/plain": [
       "     PassengerId  Survived  Pclass  Sex   Age  SibSp  Parch   Ticket     Fare  \\\n",
       "891          892       NaN       3    1  34.5      0      0   330911   7.8292   \n",
       "892          893       NaN       3    2  47.0      1      0   363272   7.0000   \n",
       "893          894       NaN       2    1  62.0      0      0   240276   9.6875   \n",
       "894          895       NaN       3    1  27.0      0      0   315154   8.6625   \n",
       "895          896       NaN       3    2  22.0      1      1  3101298  12.2875   \n",
       "\n",
       "     Embarked NameTitle  name_num  \n",
       "891       2.0        Mr         0  \n",
       "892       0.0       Mrs         2  \n",
       "893       2.0        Mr         0  \n",
       "894       0.0        Mr         0  \n",
       "895       0.0       Mrs         2  "
      ]
     },
     "execution_count": 59,
     "metadata": {},
     "output_type": "execute_result"
    }
   ],
   "source": [
    "df_test.head()"
   ]
  },
  {
   "cell_type": "code",
   "execution_count": 60,
   "metadata": {
    "scrolled": false
   },
   "outputs": [
    {
     "data": {
      "image/png": "[encoded data removed]",
      "text/plain": [
       "<Figure size 1440x360 with 1 Axes>"
      ]
     },
     "metadata": {
      "needs_background": "light"
     },
     "output_type": "display_data"
    }
   ],
   "source": [
    "plt.figure(figsize=(20,5))\n",
    "boxplot=df_train.boxplot(column=['Embarked', 'Parch','Pclass', 'Sex','SibSp', 'Survived', 'name_num'],vert=0)\n",
    "#Fare, Age는 스케일이 너무 달라서 따로 뺌"
   ]
  },
  {
   "cell_type": "code",
   "execution_count": 61,
   "metadata": {},
   "outputs": [
    {
     "data": {
      "image/png": "[encoded data removed]",
      "text/plain": [
       "<Figure size 1440x360 with 1 Axes>"
      ]
     },
     "metadata": {
      "needs_background": "light"
     },
     "output_type": "display_data"
    }
   ],
   "source": [
    "plt.figure(figsize=(20,5))\n",
    "boxplot=df_test.boxplot(column=['Embarked', 'Parch','Pclass', 'Sex','SibSp', 'Survived', 'name_num'],vert=0)"
   ]
  },
  {
   "cell_type": "code",
   "execution_count": 62,
   "metadata": {
    "scrolled": false
   },
   "outputs": [
    {
     "data": {
      "image/png": "[encoded data removed]",
      "text/plain": [
       "<Figure size 1440x360 with 1 Axes>"
      ]
     },
     "metadata": {
      "needs_background": "light"
     },
     "output_type": "display_data"
    }
   ],
   "source": [
    "plt.figure(figsize=(20,5))\n",
    "boxplot=df_train.boxplot(column=['Fare','Age'],vert=0)"
   ]
  },
  {
   "cell_type": "code",
   "execution_count": 63,
   "metadata": {
    "scrolled": false
   },
   "outputs": [
    {
     "data": {
      "image/png": "[encoded data removed]",
      "text/plain": [
       "<Figure size 1440x360 with 1 Axes>"
      ]
     },
     "metadata": {
      "needs_background": "light"
     },
     "output_type": "display_data"
    }
   ],
   "source": [
    "plt.figure(figsize=(20,5))\n",
    "boxplot=df_test.boxplot(column=['Fare','Age'],vert=0)"
   ]
  },
  {
   "cell_type": "markdown",
   "metadata": {},
   "source": [
    "500 이상 Fare가 각각 있는데 어떻게 하지.."
   ]
  },
  {
   "cell_type": "code",
   "execution_count": 64,
   "metadata": {
    "scrolled": true
   },
   "outputs": [
    {
     "data": {
      "text/html": [
       "<div>\n",
       "<style scoped>\n",
       "    .dataframe tbody tr th:only-of-type {\n",
       "        vertical-align: middle;\n",
       "    }\n",
       "\n",
       "    .dataframe tbody tr th {\n",
       "        vertical-align: top;\n",
       "    }\n",
       "\n",
       "    .dataframe thead th {\n",
       "        text-align: right;\n",
       "    }\n",
       "</style>\n",
       "<table border=\"1\" class=\"dataframe\">\n",
       "  <thead>\n",
       "    <tr style=\"text-align: right;\">\n",
       "      <th>Parch</th>\n",
       "      <th>0</th>\n",
       "      <th>1</th>\n",
       "      <th>2</th>\n",
       "      <th>3</th>\n",
       "      <th>4</th>\n",
       "      <th>5</th>\n",
       "      <th>6</th>\n",
       "      <th>9</th>\n",
       "    </tr>\n",
       "    <tr>\n",
       "      <th>SibSp</th>\n",
       "      <th></th>\n",
       "      <th></th>\n",
       "      <th></th>\n",
       "      <th></th>\n",
       "      <th></th>\n",
       "      <th></th>\n",
       "      <th></th>\n",
       "      <th></th>\n",
       "    </tr>\n",
       "  </thead>\n",
       "  <tbody>\n",
       "    <tr>\n",
       "      <th>0</th>\n",
       "      <td>790</td>\n",
       "      <td>52</td>\n",
       "      <td>43</td>\n",
       "      <td>2</td>\n",
       "      <td>2</td>\n",
       "      <td>2</td>\n",
       "      <td>0</td>\n",
       "      <td>0</td>\n",
       "    </tr>\n",
       "    <tr>\n",
       "      <th>1</th>\n",
       "      <td>183</td>\n",
       "      <td>90</td>\n",
       "      <td>29</td>\n",
       "      <td>5</td>\n",
       "      <td>4</td>\n",
       "      <td>4</td>\n",
       "      <td>2</td>\n",
       "      <td>2</td>\n",
       "    </tr>\n",
       "    <tr>\n",
       "      <th>2</th>\n",
       "      <td>26</td>\n",
       "      <td>9</td>\n",
       "      <td>6</td>\n",
       "      <td>1</td>\n",
       "      <td>0</td>\n",
       "      <td>0</td>\n",
       "      <td>0</td>\n",
       "      <td>0</td>\n",
       "    </tr>\n",
       "    <tr>\n",
       "      <th>3</th>\n",
       "      <td>3</td>\n",
       "      <td>9</td>\n",
       "      <td>8</td>\n",
       "      <td>0</td>\n",
       "      <td>0</td>\n",
       "      <td>0</td>\n",
       "      <td>0</td>\n",
       "      <td>0</td>\n",
       "    </tr>\n",
       "    <tr>\n",
       "      <th>4</th>\n",
       "      <td>0</td>\n",
       "      <td>10</td>\n",
       "      <td>12</td>\n",
       "      <td>0</td>\n",
       "      <td>0</td>\n",
       "      <td>0</td>\n",
       "      <td>0</td>\n",
       "      <td>0</td>\n",
       "    </tr>\n",
       "    <tr>\n",
       "      <th>5</th>\n",
       "      <td>0</td>\n",
       "      <td>0</td>\n",
       "      <td>6</td>\n",
       "      <td>0</td>\n",
       "      <td>0</td>\n",
       "      <td>0</td>\n",
       "      <td>0</td>\n",
       "      <td>0</td>\n",
       "    </tr>\n",
       "    <tr>\n",
       "      <th>8</th>\n",
       "      <td>0</td>\n",
       "      <td>0</td>\n",
       "      <td>9</td>\n",
       "      <td>0</td>\n",
       "      <td>0</td>\n",
       "      <td>0</td>\n",
       "      <td>0</td>\n",
       "      <td>0</td>\n",
       "    </tr>\n",
       "  </tbody>\n",
       "</table>\n",
       "</div>"
      ],
      "text/plain": [
       "Parch    0   1   2  3  4  5  6  9\n",
       "SibSp                            \n",
       "0      790  52  43  2  2  2  0  0\n",
       "1      183  90  29  5  4  4  2  2\n",
       "2       26   9   6  1  0  0  0  0\n",
       "3        3   9   8  0  0  0  0  0\n",
       "4        0  10  12  0  0  0  0  0\n",
       "5        0   0   6  0  0  0  0  0\n",
       "8        0   0   9  0  0  0  0  0"
      ]
     },
     "execution_count": 64,
     "metadata": {},
     "output_type": "execute_result"
    }
   ],
   "source": [
    "pd.crosstab(df.SibSp,df.Parch)"
   ]
  },
  {
   "cell_type": "code",
   "execution_count": 65,
   "metadata": {
    "scrolled": false
   },
   "outputs": [
    {
     "data": {
      "image/png": "[encoded data removed]",
      "text/plain": [
       "<Figure size 1080x720 with 2 Axes>"
      ]
     },
     "metadata": {
      "needs_background": "light"
     },
     "output_type": "display_data"
    }
   ],
   "source": [
    "plt.figure(figsize=(15,10))\n",
    "sns.heatmap(df.drop('PassengerId',axis=1).corr(),annot=True,cmap='PuBu')\n",
    "plt.show()"
   ]
  },
  {
   "cell_type": "markdown",
   "metadata": {},
   "source": [
    "Fare-Pclass, Sex-name_num, Sex-Survived 의 상관관계가 높다 (0.5 이상)<br>\n",
    "Parch-Sibsp 상관관계가 존재한다 (0.37)"
   ]
  },
  {
   "cell_type": "markdown",
   "metadata": {},
   "source": [
    "# 5. 더미변수화 및 스케일링"
   ]
  },
  {
   "cell_type": "code",
   "execution_count": 66,
   "metadata": {},
   "outputs": [
    {
     "data": {
      "text/html": [
       "<div>\n",
       "<style scoped>\n",
       "    .dataframe tbody tr th:only-of-type {\n",
       "        vertical-align: middle;\n",
       "    }\n",
       "\n",
       "    .dataframe tbody tr th {\n",
       "        vertical-align: top;\n",
       "    }\n",
       "\n",
       "    .dataframe thead th {\n",
       "        text-align: right;\n",
       "    }\n",
       "</style>\n",
       "<table border=\"1\" class=\"dataframe\">\n",
       "  <thead>\n",
       "    <tr style=\"text-align: right;\">\n",
       "      <th></th>\n",
       "      <th>PassengerId</th>\n",
       "      <th>Survived</th>\n",
       "      <th>Pclass</th>\n",
       "      <th>Sex</th>\n",
       "      <th>Age</th>\n",
       "      <th>SibSp</th>\n",
       "      <th>Parch</th>\n",
       "      <th>Ticket</th>\n",
       "      <th>Fare</th>\n",
       "      <th>Embarked</th>\n",
       "      <th>NameTitle</th>\n",
       "      <th>name_num</th>\n",
       "    </tr>\n",
       "  </thead>\n",
       "  <tbody>\n",
       "    <tr>\n",
       "      <th>0</th>\n",
       "      <td>1</td>\n",
       "      <td>0.0</td>\n",
       "      <td>3</td>\n",
       "      <td>1</td>\n",
       "      <td>22.0</td>\n",
       "      <td>1</td>\n",
       "      <td>0</td>\n",
       "      <td>A/5 21171</td>\n",
       "      <td>7.2500</td>\n",
       "      <td>0.0</td>\n",
       "      <td>Mr</td>\n",
       "      <td>0</td>\n",
       "    </tr>\n",
       "    <tr>\n",
       "      <th>1</th>\n",
       "      <td>2</td>\n",
       "      <td>1.0</td>\n",
       "      <td>1</td>\n",
       "      <td>2</td>\n",
       "      <td>38.0</td>\n",
       "      <td>1</td>\n",
       "      <td>0</td>\n",
       "      <td>PC 17599</td>\n",
       "      <td>71.2833</td>\n",
       "      <td>1.0</td>\n",
       "      <td>Mrs</td>\n",
       "      <td>2</td>\n",
       "    </tr>\n",
       "    <tr>\n",
       "      <th>2</th>\n",
       "      <td>3</td>\n",
       "      <td>1.0</td>\n",
       "      <td>3</td>\n",
       "      <td>2</td>\n",
       "      <td>26.0</td>\n",
       "      <td>0</td>\n",
       "      <td>0</td>\n",
       "      <td>STON/O2. 3101282</td>\n",
       "      <td>7.9250</td>\n",
       "      <td>0.0</td>\n",
       "      <td>Miss</td>\n",
       "      <td>1</td>\n",
       "    </tr>\n",
       "    <tr>\n",
       "      <th>3</th>\n",
       "      <td>4</td>\n",
       "      <td>1.0</td>\n",
       "      <td>1</td>\n",
       "      <td>2</td>\n",
       "      <td>35.0</td>\n",
       "      <td>1</td>\n",
       "      <td>0</td>\n",
       "      <td>113803</td>\n",
       "      <td>53.1000</td>\n",
       "      <td>0.0</td>\n",
       "      <td>Mrs</td>\n",
       "      <td>2</td>\n",
       "    </tr>\n",
       "    <tr>\n",
       "      <th>4</th>\n",
       "      <td>5</td>\n",
       "      <td>0.0</td>\n",
       "      <td>3</td>\n",
       "      <td>1</td>\n",
       "      <td>35.0</td>\n",
       "      <td>0</td>\n",
       "      <td>0</td>\n",
       "      <td>373450</td>\n",
       "      <td>8.0500</td>\n",
       "      <td>0.0</td>\n",
       "      <td>Mr</td>\n",
       "      <td>0</td>\n",
       "    </tr>\n",
       "  </tbody>\n",
       "</table>\n",
       "</div>"
      ],
      "text/plain": [
       "   PassengerId  Survived  Pclass  Sex   Age  SibSp  Parch            Ticket  \\\n",
       "0            1       0.0       3    1  22.0      1      0         A/5 21171   \n",
       "1            2       1.0       1    2  38.0      1      0          PC 17599   \n",
       "2            3       1.0       3    2  26.0      0      0  STON/O2. 3101282   \n",
       "3            4       1.0       1    2  35.0      1      0            113803   \n",
       "4            5       0.0       3    1  35.0      0      0            373450   \n",
       "\n",
       "      Fare  Embarked NameTitle  name_num  \n",
       "0   7.2500       0.0        Mr         0  \n",
       "1  71.2833       1.0       Mrs         2  \n",
       "2   7.9250       0.0      Miss         1  \n",
       "3  53.1000       0.0       Mrs         2  \n",
       "4   8.0500       0.0        Mr         0  "
      ]
     },
     "execution_count": 66,
     "metadata": {},
     "output_type": "execute_result"
    }
   ],
   "source": [
    "df.head()"
   ]
  },
  {
   "cell_type": "markdown",
   "metadata": {},
   "source": [
    "더미변수화 필요 : Embarked, Sex, name_num, Pclass <br>\n",
    "제거 변수 : Ticket, NameTitle, PassengerId <br>\n",
    "스케일링 필요 : Fare, Age"
   ]
  },
  {
   "cell_type": "code",
   "execution_count": 67,
   "metadata": {},
   "outputs": [],
   "source": [
    "df_dummy=pd.get_dummies(data=df,columns=[ 'Embarked', 'Sex', 'name_num', 'Pclass']).drop(['Ticket', 'NameTitle', 'PassengerId'],axis=1)"
   ]
  },
  {
   "cell_type": "code",
   "execution_count": 68,
   "metadata": {},
   "outputs": [
    {
     "data": {
      "text/html": [
       "<div>\n",
       "<style scoped>\n",
       "    .dataframe tbody tr th:only-of-type {\n",
       "        vertical-align: middle;\n",
       "    }\n",
       "\n",
       "    .dataframe tbody tr th {\n",
       "        vertical-align: top;\n",
       "    }\n",
       "\n",
       "    .dataframe thead th {\n",
       "        text-align: right;\n",
       "    }\n",
       "</style>\n",
       "<table border=\"1\" class=\"dataframe\">\n",
       "  <thead>\n",
       "    <tr style=\"text-align: right;\">\n",
       "      <th></th>\n",
       "      <th>Survived</th>\n",
       "      <th>Age</th>\n",
       "      <th>SibSp</th>\n",
       "      <th>Parch</th>\n",
       "      <th>Fare</th>\n",
       "      <th>Embarked_0.0</th>\n",
       "      <th>Embarked_1.0</th>\n",
       "      <th>Embarked_2.0</th>\n",
       "      <th>Sex_1</th>\n",
       "      <th>Sex_2</th>\n",
       "      <th>name_num_0</th>\n",
       "      <th>name_num_1</th>\n",
       "      <th>name_num_2</th>\n",
       "      <th>name_num_3</th>\n",
       "      <th>Pclass_1</th>\n",
       "      <th>Pclass_2</th>\n",
       "      <th>Pclass_3</th>\n",
       "    </tr>\n",
       "  </thead>\n",
       "  <tbody>\n",
       "    <tr>\n",
       "      <th>0</th>\n",
       "      <td>0.0</td>\n",
       "      <td>22.0</td>\n",
       "      <td>1</td>\n",
       "      <td>0</td>\n",
       "      <td>7.2500</td>\n",
       "      <td>1</td>\n",
       "      <td>0</td>\n",
       "      <td>0</td>\n",
       "      <td>1</td>\n",
       "      <td>0</td>\n",
       "      <td>1</td>\n",
       "      <td>0</td>\n",
       "      <td>0</td>\n",
       "      <td>0</td>\n",
       "      <td>0</td>\n",
       "      <td>0</td>\n",
       "      <td>1</td>\n",
       "    </tr>\n",
       "    <tr>\n",
       "      <th>1</th>\n",
       "      <td>1.0</td>\n",
       "      <td>38.0</td>\n",
       "      <td>1</td>\n",
       "      <td>0</td>\n",
       "      <td>71.2833</td>\n",
       "      <td>0</td>\n",
       "      <td>1</td>\n",
       "      <td>0</td>\n",
       "      <td>0</td>\n",
       "      <td>1</td>\n",
       "      <td>0</td>\n",
       "      <td>0</td>\n",
       "      <td>1</td>\n",
       "      <td>0</td>\n",
       "      <td>1</td>\n",
       "      <td>0</td>\n",
       "      <td>0</td>\n",
       "    </tr>\n",
       "    <tr>\n",
       "      <th>2</th>\n",
       "      <td>1.0</td>\n",
       "      <td>26.0</td>\n",
       "      <td>0</td>\n",
       "      <td>0</td>\n",
       "      <td>7.9250</td>\n",
       "      <td>1</td>\n",
       "      <td>0</td>\n",
       "      <td>0</td>\n",
       "      <td>0</td>\n",
       "      <td>1</td>\n",
       "      <td>0</td>\n",
       "      <td>1</td>\n",
       "      <td>0</td>\n",
       "      <td>0</td>\n",
       "      <td>0</td>\n",
       "      <td>0</td>\n",
       "      <td>1</td>\n",
       "    </tr>\n",
       "    <tr>\n",
       "      <th>3</th>\n",
       "      <td>1.0</td>\n",
       "      <td>35.0</td>\n",
       "      <td>1</td>\n",
       "      <td>0</td>\n",
       "      <td>53.1000</td>\n",
       "      <td>1</td>\n",
       "      <td>0</td>\n",
       "      <td>0</td>\n",
       "      <td>0</td>\n",
       "      <td>1</td>\n",
       "      <td>0</td>\n",
       "      <td>0</td>\n",
       "      <td>1</td>\n",
       "      <td>0</td>\n",
       "      <td>1</td>\n",
       "      <td>0</td>\n",
       "      <td>0</td>\n",
       "    </tr>\n",
       "    <tr>\n",
       "      <th>4</th>\n",
       "      <td>0.0</td>\n",
       "      <td>35.0</td>\n",
       "      <td>0</td>\n",
       "      <td>0</td>\n",
       "      <td>8.0500</td>\n",
       "      <td>1</td>\n",
       "      <td>0</td>\n",
       "      <td>0</td>\n",
       "      <td>1</td>\n",
       "      <td>0</td>\n",
       "      <td>1</td>\n",
       "      <td>0</td>\n",
       "      <td>0</td>\n",
       "      <td>0</td>\n",
       "      <td>0</td>\n",
       "      <td>0</td>\n",
       "      <td>1</td>\n",
       "    </tr>\n",
       "  </tbody>\n",
       "</table>\n",
       "</div>"
      ],
      "text/plain": [
       "   Survived   Age  SibSp  Parch     Fare  Embarked_0.0  Embarked_1.0  \\\n",
       "0       0.0  22.0      1      0   7.2500             1             0   \n",
       "1       1.0  38.0      1      0  71.2833             0             1   \n",
       "2       1.0  26.0      0      0   7.9250             1             0   \n",
       "3       1.0  35.0      1      0  53.1000             1             0   \n",
       "4       0.0  35.0      0      0   8.0500             1             0   \n",
       "\n",
       "   Embarked_2.0  Sex_1  Sex_2  name_num_0  name_num_1  name_num_2  name_num_3  \\\n",
       "0             0      1      0           1           0           0           0   \n",
       "1             0      0      1           0           0           1           0   \n",
       "2             0      0      1           0           1           0           0   \n",
       "3             0      0      1           0           0           1           0   \n",
       "4             0      1      0           1           0           0           0   \n",
       "\n",
       "   Pclass_1  Pclass_2  Pclass_3  \n",
       "0         0         0         1  \n",
       "1         1         0         0  \n",
       "2         0         0         1  \n",
       "3         1         0         0  \n",
       "4         0         0         1  "
      ]
     },
     "execution_count": 68,
     "metadata": {},
     "output_type": "execute_result"
    }
   ],
   "source": [
    "df_dummy.head()"
   ]
  },
  {
   "cell_type": "code",
   "execution_count": 69,
   "metadata": {},
   "outputs": [],
   "source": [
    "from sklearn.preprocessing import RobustScaler\n",
    "\n",
    "scale=RobustScaler().fit(df_dummy[['Age','Fare']])\n",
    "df_dummy[['Age','Fare']]=scale.transform(df_dummy[['Age','Fare']])"
   ]
  },
  {
   "cell_type": "code",
   "execution_count": 70,
   "metadata": {
    "scrolled": true
   },
   "outputs": [
    {
     "data": {
      "text/html": [
       "<div>\n",
       "<style scoped>\n",
       "    .dataframe tbody tr th:only-of-type {\n",
       "        vertical-align: middle;\n",
       "    }\n",
       "\n",
       "    .dataframe tbody tr th {\n",
       "        vertical-align: top;\n",
       "    }\n",
       "\n",
       "    .dataframe thead th {\n",
       "        text-align: right;\n",
       "    }\n",
       "</style>\n",
       "<table border=\"1\" class=\"dataframe\">\n",
       "  <thead>\n",
       "    <tr style=\"text-align: right;\">\n",
       "      <th></th>\n",
       "      <th>Survived</th>\n",
       "      <th>Age</th>\n",
       "      <th>SibSp</th>\n",
       "      <th>Parch</th>\n",
       "      <th>Fare</th>\n",
       "      <th>Embarked_0.0</th>\n",
       "      <th>Embarked_1.0</th>\n",
       "      <th>Embarked_2.0</th>\n",
       "      <th>Sex_1</th>\n",
       "      <th>Sex_2</th>\n",
       "      <th>name_num_0</th>\n",
       "      <th>name_num_1</th>\n",
       "      <th>name_num_2</th>\n",
       "      <th>name_num_3</th>\n",
       "      <th>Pclass_1</th>\n",
       "      <th>Pclass_2</th>\n",
       "      <th>Pclass_3</th>\n",
       "    </tr>\n",
       "  </thead>\n",
       "  <tbody>\n",
       "    <tr>\n",
       "      <th>0</th>\n",
       "      <td>0.0</td>\n",
       "      <td>-0.518519</td>\n",
       "      <td>1</td>\n",
       "      <td>0</td>\n",
       "      <td>-0.308146</td>\n",
       "      <td>1</td>\n",
       "      <td>0</td>\n",
       "      <td>0</td>\n",
       "      <td>1</td>\n",
       "      <td>0</td>\n",
       "      <td>1</td>\n",
       "      <td>0</td>\n",
       "      <td>0</td>\n",
       "      <td>0</td>\n",
       "      <td>0</td>\n",
       "      <td>0</td>\n",
       "      <td>1</td>\n",
       "    </tr>\n",
       "    <tr>\n",
       "      <th>1</th>\n",
       "      <td>1.0</td>\n",
       "      <td>0.666667</td>\n",
       "      <td>1</td>\n",
       "      <td>0</td>\n",
       "      <td>2.430755</td>\n",
       "      <td>0</td>\n",
       "      <td>1</td>\n",
       "      <td>0</td>\n",
       "      <td>0</td>\n",
       "      <td>1</td>\n",
       "      <td>0</td>\n",
       "      <td>0</td>\n",
       "      <td>1</td>\n",
       "      <td>0</td>\n",
       "      <td>1</td>\n",
       "      <td>0</td>\n",
       "      <td>0</td>\n",
       "    </tr>\n",
       "    <tr>\n",
       "      <th>2</th>\n",
       "      <td>1.0</td>\n",
       "      <td>-0.222222</td>\n",
       "      <td>0</td>\n",
       "      <td>0</td>\n",
       "      <td>-0.279274</td>\n",
       "      <td>1</td>\n",
       "      <td>0</td>\n",
       "      <td>0</td>\n",
       "      <td>0</td>\n",
       "      <td>1</td>\n",
       "      <td>0</td>\n",
       "      <td>1</td>\n",
       "      <td>0</td>\n",
       "      <td>0</td>\n",
       "      <td>0</td>\n",
       "      <td>0</td>\n",
       "      <td>1</td>\n",
       "    </tr>\n",
       "    <tr>\n",
       "      <th>3</th>\n",
       "      <td>1.0</td>\n",
       "      <td>0.444444</td>\n",
       "      <td>1</td>\n",
       "      <td>0</td>\n",
       "      <td>1.652999</td>\n",
       "      <td>1</td>\n",
       "      <td>0</td>\n",
       "      <td>0</td>\n",
       "      <td>0</td>\n",
       "      <td>1</td>\n",
       "      <td>0</td>\n",
       "      <td>0</td>\n",
       "      <td>1</td>\n",
       "      <td>0</td>\n",
       "      <td>1</td>\n",
       "      <td>0</td>\n",
       "      <td>0</td>\n",
       "    </tr>\n",
       "    <tr>\n",
       "      <th>4</th>\n",
       "      <td>0.0</td>\n",
       "      <td>0.444444</td>\n",
       "      <td>0</td>\n",
       "      <td>0</td>\n",
       "      <td>-0.273927</td>\n",
       "      <td>1</td>\n",
       "      <td>0</td>\n",
       "      <td>0</td>\n",
       "      <td>1</td>\n",
       "      <td>0</td>\n",
       "      <td>1</td>\n",
       "      <td>0</td>\n",
       "      <td>0</td>\n",
       "      <td>0</td>\n",
       "      <td>0</td>\n",
       "      <td>0</td>\n",
       "      <td>1</td>\n",
       "    </tr>\n",
       "  </tbody>\n",
       "</table>\n",
       "</div>"
      ],
      "text/plain": [
       "   Survived       Age  SibSp  Parch      Fare  Embarked_0.0  Embarked_1.0  \\\n",
       "0       0.0 -0.518519      1      0 -0.308146             1             0   \n",
       "1       1.0  0.666667      1      0  2.430755             0             1   \n",
       "2       1.0 -0.222222      0      0 -0.279274             1             0   \n",
       "3       1.0  0.444444      1      0  1.652999             1             0   \n",
       "4       0.0  0.444444      0      0 -0.273927             1             0   \n",
       "\n",
       "   Embarked_2.0  Sex_1  Sex_2  name_num_0  name_num_1  name_num_2  name_num_3  \\\n",
       "0             0      1      0           1           0           0           0   \n",
       "1             0      0      1           0           0           1           0   \n",
       "2             0      0      1           0           1           0           0   \n",
       "3             0      0      1           0           0           1           0   \n",
       "4             0      1      0           1           0           0           0   \n",
       "\n",
       "   Pclass_1  Pclass_2  Pclass_3  \n",
       "0         0         0         1  \n",
       "1         1         0         0  \n",
       "2         0         0         1  \n",
       "3         1         0         0  \n",
       "4         0         0         1  "
      ]
     },
     "execution_count": 70,
     "metadata": {},
     "output_type": "execute_result"
    }
   ],
   "source": [
    "df_scaler=df_dummy\n",
    "df_scaler.head()"
   ]
  },
  {
   "cell_type": "markdown",
   "metadata": {},
   "source": [
    "- 앞서 보았듯, 동반인의 수와 생존 여부가 어느 정도 관계가 있는 것으로 보임\n",
    "- 따라서 동반인의 총 합을 나타내는 변수(Family)를 추가한다"
   ]
  },
  {
   "cell_type": "code",
   "execution_count": 71,
   "metadata": {},
   "outputs": [],
   "source": [
    "df_scaler['Family']=df_scaler['Parch']+df_scaler['SibSp']"
   ]
  },
  {
   "cell_type": "code",
   "execution_count": 72,
   "metadata": {},
   "outputs": [
    {
     "data": {
      "text/html": [
       "<div>\n",
       "<style scoped>\n",
       "    .dataframe tbody tr th:only-of-type {\n",
       "        vertical-align: middle;\n",
       "    }\n",
       "\n",
       "    .dataframe tbody tr th {\n",
       "        vertical-align: top;\n",
       "    }\n",
       "\n",
       "    .dataframe thead th {\n",
       "        text-align: right;\n",
       "    }\n",
       "</style>\n",
       "<table border=\"1\" class=\"dataframe\">\n",
       "  <thead>\n",
       "    <tr style=\"text-align: right;\">\n",
       "      <th></th>\n",
       "      <th>Survived</th>\n",
       "      <th>Age</th>\n",
       "      <th>SibSp</th>\n",
       "      <th>Parch</th>\n",
       "      <th>Fare</th>\n",
       "      <th>Embarked_0.0</th>\n",
       "      <th>Embarked_1.0</th>\n",
       "      <th>Embarked_2.0</th>\n",
       "      <th>Sex_1</th>\n",
       "      <th>Sex_2</th>\n",
       "      <th>name_num_0</th>\n",
       "      <th>name_num_1</th>\n",
       "      <th>name_num_2</th>\n",
       "      <th>name_num_3</th>\n",
       "      <th>Pclass_1</th>\n",
       "      <th>Pclass_2</th>\n",
       "      <th>Pclass_3</th>\n",
       "      <th>Family</th>\n",
       "    </tr>\n",
       "  </thead>\n",
       "  <tbody>\n",
       "    <tr>\n",
       "      <th>1304</th>\n",
       "      <td>NaN</td>\n",
       "      <td>0.000000</td>\n",
       "      <td>0</td>\n",
       "      <td>0</td>\n",
       "      <td>-0.273927</td>\n",
       "      <td>1</td>\n",
       "      <td>0</td>\n",
       "      <td>0</td>\n",
       "      <td>1</td>\n",
       "      <td>0</td>\n",
       "      <td>1</td>\n",
       "      <td>0</td>\n",
       "      <td>0</td>\n",
       "      <td>0</td>\n",
       "      <td>0</td>\n",
       "      <td>0</td>\n",
       "      <td>1</td>\n",
       "      <td>0</td>\n",
       "    </tr>\n",
       "    <tr>\n",
       "      <th>1305</th>\n",
       "      <td>NaN</td>\n",
       "      <td>0.740741</td>\n",
       "      <td>0</td>\n",
       "      <td>0</td>\n",
       "      <td>4.039736</td>\n",
       "      <td>0</td>\n",
       "      <td>1</td>\n",
       "      <td>0</td>\n",
       "      <td>0</td>\n",
       "      <td>1</td>\n",
       "      <td>0</td>\n",
       "      <td>0</td>\n",
       "      <td>1</td>\n",
       "      <td>0</td>\n",
       "      <td>1</td>\n",
       "      <td>0</td>\n",
       "      <td>0</td>\n",
       "      <td>0</td>\n",
       "    </tr>\n",
       "    <tr>\n",
       "      <th>1306</th>\n",
       "      <td>NaN</td>\n",
       "      <td>0.703704</td>\n",
       "      <td>0</td>\n",
       "      <td>0</td>\n",
       "      <td>-0.308146</td>\n",
       "      <td>1</td>\n",
       "      <td>0</td>\n",
       "      <td>0</td>\n",
       "      <td>1</td>\n",
       "      <td>0</td>\n",
       "      <td>1</td>\n",
       "      <td>0</td>\n",
       "      <td>0</td>\n",
       "      <td>0</td>\n",
       "      <td>0</td>\n",
       "      <td>0</td>\n",
       "      <td>1</td>\n",
       "      <td>0</td>\n",
       "    </tr>\n",
       "    <tr>\n",
       "      <th>1307</th>\n",
       "      <td>NaN</td>\n",
       "      <td>0.000000</td>\n",
       "      <td>0</td>\n",
       "      <td>0</td>\n",
       "      <td>-0.273927</td>\n",
       "      <td>1</td>\n",
       "      <td>0</td>\n",
       "      <td>0</td>\n",
       "      <td>1</td>\n",
       "      <td>0</td>\n",
       "      <td>1</td>\n",
       "      <td>0</td>\n",
       "      <td>0</td>\n",
       "      <td>0</td>\n",
       "      <td>0</td>\n",
       "      <td>0</td>\n",
       "      <td>1</td>\n",
       "      <td>0</td>\n",
       "    </tr>\n",
       "    <tr>\n",
       "      <th>1308</th>\n",
       "      <td>NaN</td>\n",
       "      <td>-1.851852</td>\n",
       "      <td>1</td>\n",
       "      <td>1</td>\n",
       "      <td>0.338083</td>\n",
       "      <td>0</td>\n",
       "      <td>1</td>\n",
       "      <td>0</td>\n",
       "      <td>1</td>\n",
       "      <td>0</td>\n",
       "      <td>1</td>\n",
       "      <td>0</td>\n",
       "      <td>0</td>\n",
       "      <td>0</td>\n",
       "      <td>0</td>\n",
       "      <td>0</td>\n",
       "      <td>1</td>\n",
       "      <td>2</td>\n",
       "    </tr>\n",
       "  </tbody>\n",
       "</table>\n",
       "</div>"
      ],
      "text/plain": [
       "      Survived       Age  SibSp  Parch      Fare  Embarked_0.0  Embarked_1.0  \\\n",
       "1304       NaN  0.000000      0      0 -0.273927             1             0   \n",
       "1305       NaN  0.740741      0      0  4.039736             0             1   \n",
       "1306       NaN  0.703704      0      0 -0.308146             1             0   \n",
       "1307       NaN  0.000000      0      0 -0.273927             1             0   \n",
       "1308       NaN -1.851852      1      1  0.338083             0             1   \n",
       "\n",
       "      Embarked_2.0  Sex_1  Sex_2  name_num_0  name_num_1  name_num_2  \\\n",
       "1304             0      1      0           1           0           0   \n",
       "1305             0      0      1           0           0           1   \n",
       "1306             0      1      0           1           0           0   \n",
       "1307             0      1      0           1           0           0   \n",
       "1308             0      1      0           1           0           0   \n",
       "\n",
       "      name_num_3  Pclass_1  Pclass_2  Pclass_3  Family  \n",
       "1304           0         0         0         1       0  \n",
       "1305           0         1         0         0       0  \n",
       "1306           0         0         0         1       0  \n",
       "1307           0         0         0         1       0  \n",
       "1308           0         0         0         1       2  "
      ]
     },
     "execution_count": 72,
     "metadata": {},
     "output_type": "execute_result"
    }
   ],
   "source": [
    "df_scaler.tail()"
   ]
  },
  {
   "cell_type": "code",
   "execution_count": 73,
   "metadata": {},
   "outputs": [],
   "source": [
    "df_train=df_scaler.loc[0:890]\n",
    "df_test=df_scaler.loc[891:1309]"
   ]
  },
  {
   "cell_type": "code",
   "execution_count": 74,
   "metadata": {
    "scrolled": true
   },
   "outputs": [
    {
     "data": {
      "text/html": [
       "<div>\n",
       "<style scoped>\n",
       "    .dataframe tbody tr th:only-of-type {\n",
       "        vertical-align: middle;\n",
       "    }\n",
       "\n",
       "    .dataframe tbody tr th {\n",
       "        vertical-align: top;\n",
       "    }\n",
       "\n",
       "    .dataframe thead th {\n",
       "        text-align: right;\n",
       "    }\n",
       "</style>\n",
       "<table border=\"1\" class=\"dataframe\">\n",
       "  <thead>\n",
       "    <tr style=\"text-align: right;\">\n",
       "      <th></th>\n",
       "      <th>Survived</th>\n",
       "      <th>Age</th>\n",
       "      <th>SibSp</th>\n",
       "      <th>Parch</th>\n",
       "      <th>Fare</th>\n",
       "      <th>Embarked_0.0</th>\n",
       "      <th>Embarked_1.0</th>\n",
       "      <th>Embarked_2.0</th>\n",
       "      <th>Sex_1</th>\n",
       "      <th>Sex_2</th>\n",
       "      <th>name_num_0</th>\n",
       "      <th>name_num_1</th>\n",
       "      <th>name_num_2</th>\n",
       "      <th>name_num_3</th>\n",
       "      <th>Pclass_1</th>\n",
       "      <th>Pclass_2</th>\n",
       "      <th>Pclass_3</th>\n",
       "      <th>Family</th>\n",
       "    </tr>\n",
       "  </thead>\n",
       "  <tbody>\n",
       "    <tr>\n",
       "      <th>0</th>\n",
       "      <td>0.0</td>\n",
       "      <td>-0.518519</td>\n",
       "      <td>1</td>\n",
       "      <td>0</td>\n",
       "      <td>-0.308146</td>\n",
       "      <td>1</td>\n",
       "      <td>0</td>\n",
       "      <td>0</td>\n",
       "      <td>1</td>\n",
       "      <td>0</td>\n",
       "      <td>1</td>\n",
       "      <td>0</td>\n",
       "      <td>0</td>\n",
       "      <td>0</td>\n",
       "      <td>0</td>\n",
       "      <td>0</td>\n",
       "      <td>1</td>\n",
       "      <td>1</td>\n",
       "    </tr>\n",
       "    <tr>\n",
       "      <th>1</th>\n",
       "      <td>1.0</td>\n",
       "      <td>0.666667</td>\n",
       "      <td>1</td>\n",
       "      <td>0</td>\n",
       "      <td>2.430755</td>\n",
       "      <td>0</td>\n",
       "      <td>1</td>\n",
       "      <td>0</td>\n",
       "      <td>0</td>\n",
       "      <td>1</td>\n",
       "      <td>0</td>\n",
       "      <td>0</td>\n",
       "      <td>1</td>\n",
       "      <td>0</td>\n",
       "      <td>1</td>\n",
       "      <td>0</td>\n",
       "      <td>0</td>\n",
       "      <td>1</td>\n",
       "    </tr>\n",
       "    <tr>\n",
       "      <th>2</th>\n",
       "      <td>1.0</td>\n",
       "      <td>-0.222222</td>\n",
       "      <td>0</td>\n",
       "      <td>0</td>\n",
       "      <td>-0.279274</td>\n",
       "      <td>1</td>\n",
       "      <td>0</td>\n",
       "      <td>0</td>\n",
       "      <td>0</td>\n",
       "      <td>1</td>\n",
       "      <td>0</td>\n",
       "      <td>1</td>\n",
       "      <td>0</td>\n",
       "      <td>0</td>\n",
       "      <td>0</td>\n",
       "      <td>0</td>\n",
       "      <td>1</td>\n",
       "      <td>0</td>\n",
       "    </tr>\n",
       "    <tr>\n",
       "      <th>3</th>\n",
       "      <td>1.0</td>\n",
       "      <td>0.444444</td>\n",
       "      <td>1</td>\n",
       "      <td>0</td>\n",
       "      <td>1.652999</td>\n",
       "      <td>1</td>\n",
       "      <td>0</td>\n",
       "      <td>0</td>\n",
       "      <td>0</td>\n",
       "      <td>1</td>\n",
       "      <td>0</td>\n",
       "      <td>0</td>\n",
       "      <td>1</td>\n",
       "      <td>0</td>\n",
       "      <td>1</td>\n",
       "      <td>0</td>\n",
       "      <td>0</td>\n",
       "      <td>1</td>\n",
       "    </tr>\n",
       "    <tr>\n",
       "      <th>4</th>\n",
       "      <td>0.0</td>\n",
       "      <td>0.444444</td>\n",
       "      <td>0</td>\n",
       "      <td>0</td>\n",
       "      <td>-0.273927</td>\n",
       "      <td>1</td>\n",
       "      <td>0</td>\n",
       "      <td>0</td>\n",
       "      <td>1</td>\n",
       "      <td>0</td>\n",
       "      <td>1</td>\n",
       "      <td>0</td>\n",
       "      <td>0</td>\n",
       "      <td>0</td>\n",
       "      <td>0</td>\n",
       "      <td>0</td>\n",
       "      <td>1</td>\n",
       "      <td>0</td>\n",
       "    </tr>\n",
       "  </tbody>\n",
       "</table>\n",
       "</div>"
      ],
      "text/plain": [
       "   Survived       Age  SibSp  Parch      Fare  Embarked_0.0  Embarked_1.0  \\\n",
       "0       0.0 -0.518519      1      0 -0.308146             1             0   \n",
       "1       1.0  0.666667      1      0  2.430755             0             1   \n",
       "2       1.0 -0.222222      0      0 -0.279274             1             0   \n",
       "3       1.0  0.444444      1      0  1.652999             1             0   \n",
       "4       0.0  0.444444      0      0 -0.273927             1             0   \n",
       "\n",
       "   Embarked_2.0  Sex_1  Sex_2  name_num_0  name_num_1  name_num_2  name_num_3  \\\n",
       "0             0      1      0           1           0           0           0   \n",
       "1             0      0      1           0           0           1           0   \n",
       "2             0      0      1           0           1           0           0   \n",
       "3             0      0      1           0           0           1           0   \n",
       "4             0      1      0           1           0           0           0   \n",
       "\n",
       "   Pclass_1  Pclass_2  Pclass_3  Family  \n",
       "0         0         0         1       1  \n",
       "1         1         0         0       1  \n",
       "2         0         0         1       0  \n",
       "3         1         0         0       1  \n",
       "4         0         0         1       0  "
      ]
     },
     "execution_count": 74,
     "metadata": {},
     "output_type": "execute_result"
    }
   ],
   "source": [
    "df_train.head()"
   ]
  },
  {
   "cell_type": "code",
   "execution_count": 75,
   "metadata": {},
   "outputs": [
    {
     "data": {
      "text/html": [
       "<div>\n",
       "<style scoped>\n",
       "    .dataframe tbody tr th:only-of-type {\n",
       "        vertical-align: middle;\n",
       "    }\n",
       "\n",
       "    .dataframe tbody tr th {\n",
       "        vertical-align: top;\n",
       "    }\n",
       "\n",
       "    .dataframe thead th {\n",
       "        text-align: right;\n",
       "    }\n",
       "</style>\n",
       "<table border=\"1\" class=\"dataframe\">\n",
       "  <thead>\n",
       "    <tr style=\"text-align: right;\">\n",
       "      <th></th>\n",
       "      <th>Survived</th>\n",
       "      <th>Age</th>\n",
       "      <th>SibSp</th>\n",
       "      <th>Parch</th>\n",
       "      <th>Fare</th>\n",
       "      <th>Embarked_0.0</th>\n",
       "      <th>Embarked_1.0</th>\n",
       "      <th>Embarked_2.0</th>\n",
       "      <th>Sex_1</th>\n",
       "      <th>Sex_2</th>\n",
       "      <th>name_num_0</th>\n",
       "      <th>name_num_1</th>\n",
       "      <th>name_num_2</th>\n",
       "      <th>name_num_3</th>\n",
       "      <th>Pclass_1</th>\n",
       "      <th>Pclass_2</th>\n",
       "      <th>Pclass_3</th>\n",
       "      <th>Family</th>\n",
       "    </tr>\n",
       "  </thead>\n",
       "  <tbody>\n",
       "    <tr>\n",
       "      <th>891</th>\n",
       "      <td>NaN</td>\n",
       "      <td>0.407407</td>\n",
       "      <td>0</td>\n",
       "      <td>0</td>\n",
       "      <td>-0.283372</td>\n",
       "      <td>0</td>\n",
       "      <td>0</td>\n",
       "      <td>1</td>\n",
       "      <td>1</td>\n",
       "      <td>0</td>\n",
       "      <td>1</td>\n",
       "      <td>0</td>\n",
       "      <td>0</td>\n",
       "      <td>0</td>\n",
       "      <td>0</td>\n",
       "      <td>0</td>\n",
       "      <td>1</td>\n",
       "      <td>0</td>\n",
       "    </tr>\n",
       "    <tr>\n",
       "      <th>892</th>\n",
       "      <td>NaN</td>\n",
       "      <td>1.333333</td>\n",
       "      <td>1</td>\n",
       "      <td>0</td>\n",
       "      <td>-0.318839</td>\n",
       "      <td>1</td>\n",
       "      <td>0</td>\n",
       "      <td>0</td>\n",
       "      <td>0</td>\n",
       "      <td>1</td>\n",
       "      <td>0</td>\n",
       "      <td>0</td>\n",
       "      <td>1</td>\n",
       "      <td>0</td>\n",
       "      <td>0</td>\n",
       "      <td>0</td>\n",
       "      <td>1</td>\n",
       "      <td>1</td>\n",
       "    </tr>\n",
       "    <tr>\n",
       "      <th>893</th>\n",
       "      <td>NaN</td>\n",
       "      <td>2.444444</td>\n",
       "      <td>0</td>\n",
       "      <td>0</td>\n",
       "      <td>-0.203886</td>\n",
       "      <td>0</td>\n",
       "      <td>0</td>\n",
       "      <td>1</td>\n",
       "      <td>1</td>\n",
       "      <td>0</td>\n",
       "      <td>1</td>\n",
       "      <td>0</td>\n",
       "      <td>0</td>\n",
       "      <td>0</td>\n",
       "      <td>0</td>\n",
       "      <td>1</td>\n",
       "      <td>0</td>\n",
       "      <td>0</td>\n",
       "    </tr>\n",
       "    <tr>\n",
       "      <th>894</th>\n",
       "      <td>NaN</td>\n",
       "      <td>-0.148148</td>\n",
       "      <td>0</td>\n",
       "      <td>0</td>\n",
       "      <td>-0.247729</td>\n",
       "      <td>1</td>\n",
       "      <td>0</td>\n",
       "      <td>0</td>\n",
       "      <td>1</td>\n",
       "      <td>0</td>\n",
       "      <td>1</td>\n",
       "      <td>0</td>\n",
       "      <td>0</td>\n",
       "      <td>0</td>\n",
       "      <td>0</td>\n",
       "      <td>0</td>\n",
       "      <td>1</td>\n",
       "      <td>0</td>\n",
       "    </tr>\n",
       "    <tr>\n",
       "      <th>895</th>\n",
       "      <td>NaN</td>\n",
       "      <td>-0.518519</td>\n",
       "      <td>1</td>\n",
       "      <td>1</td>\n",
       "      <td>-0.092676</td>\n",
       "      <td>1</td>\n",
       "      <td>0</td>\n",
       "      <td>0</td>\n",
       "      <td>0</td>\n",
       "      <td>1</td>\n",
       "      <td>0</td>\n",
       "      <td>0</td>\n",
       "      <td>1</td>\n",
       "      <td>0</td>\n",
       "      <td>0</td>\n",
       "      <td>0</td>\n",
       "      <td>1</td>\n",
       "      <td>2</td>\n",
       "    </tr>\n",
       "  </tbody>\n",
       "</table>\n",
       "</div>"
      ],
      "text/plain": [
       "     Survived       Age  SibSp  Parch      Fare  Embarked_0.0  Embarked_1.0  \\\n",
       "891       NaN  0.407407      0      0 -0.283372             0             0   \n",
       "892       NaN  1.333333      1      0 -0.318839             1             0   \n",
       "893       NaN  2.444444      0      0 -0.203886             0             0   \n",
       "894       NaN -0.148148      0      0 -0.247729             1             0   \n",
       "895       NaN -0.518519      1      1 -0.092676             1             0   \n",
       "\n",
       "     Embarked_2.0  Sex_1  Sex_2  name_num_0  name_num_1  name_num_2  \\\n",
       "891             1      1      0           1           0           0   \n",
       "892             0      0      1           0           0           1   \n",
       "893             1      1      0           1           0           0   \n",
       "894             0      1      0           1           0           0   \n",
       "895             0      0      1           0           0           1   \n",
       "\n",
       "     name_num_3  Pclass_1  Pclass_2  Pclass_3  Family  \n",
       "891           0         0         0         1       0  \n",
       "892           0         0         0         1       1  \n",
       "893           0         0         1         0       0  \n",
       "894           0         0         0         1       0  \n",
       "895           0         0         0         1       2  "
      ]
     },
     "execution_count": 75,
     "metadata": {},
     "output_type": "execute_result"
    }
   ],
   "source": [
    "df_test.head()"
   ]
  },
  {
   "cell_type": "markdown",
   "metadata": {},
   "source": [
    "# 6. 모델 설계 및 학습"
   ]
  },
  {
   "cell_type": "code",
   "execution_count": 76,
   "metadata": {},
   "outputs": [],
   "source": [
    "train_y=df_train['Survived']\n",
    "train_x=df_train.drop('Survived',axis=1)\n",
    "test_x=df_test.drop('Survived',axis=1)"
   ]
  },
  {
   "cell_type": "code",
   "execution_count": 77,
   "metadata": {},
   "outputs": [],
   "source": [
    "from sklearn.linear_model import LogisticRegression\n",
    "from sklearn.svm import SVC\n",
    "from sklearn.neighbors import KNeighborsClassifier\n",
    "from sklearn.ensemble import RandomForestClassifier\n",
    "from sklearn.naive_bayes import GaussianNB\n",
    "\n",
    "from sklearn.utils import shuffle"
   ]
  },
  {
   "cell_type": "code",
   "execution_count": 78,
   "metadata": {},
   "outputs": [],
   "source": [
    "train_x,train_y=shuffle(train_x,train_y,random_state=5)"
   ]
  },
  {
   "cell_type": "code",
   "execution_count": 79,
   "metadata": {},
   "outputs": [],
   "source": [
    "def train_and_test(model):\n",
    "    model.fit(train_x,train_y)\n",
    "    prediction = model.predict(test_x).astype(int)\n",
    "    accuracy = round(model.score(train_x,train_y) * 100, 2)\n",
    "    print(\"Accuracy : \", accuracy, \"%\")\n",
    "    return prediction"
   ]
  },
  {
   "cell_type": "code",
   "execution_count": 80,
   "metadata": {
    "scrolled": false
   },
   "outputs": [
    {
     "name": "stdout",
     "output_type": "stream",
     "text": [
      "Accuracy :  81.03 %\n",
      "Accuracy :  83.95 %\n",
      "Accuracy :  85.97 %\n",
      "Accuracy :  97.76 %\n",
      "Accuracy :  78.45 %\n"
     ]
    }
   ],
   "source": [
    "# Logistic Regression\n",
    "log_pred = train_and_test(LogisticRegression())\n",
    "# SVM\n",
    "svm_pred = train_and_test(SVC())\n",
    "#kNN\n",
    "knn_pred_4 = train_and_test(KNeighborsClassifier(n_neighbors = 4))\n",
    "# Random Forest\n",
    "rf_pred = train_and_test(RandomForestClassifier(n_estimators=100))\n",
    "# Navie Bayes\n",
    "nb_pred = train_and_test(GaussianNB())"
   ]
  },
  {
   "cell_type": "markdown",
   "metadata": {},
   "source": [
    "첫 제출 <br>\n",
    "Accuracy :  81.14 % - 75.771%<br>\n",
    "Accuracy :  84.06 % - 76.156%<br>\n",
    "Accuracy :  86.42 % - 70.267%<br>\n",
    "Accuracy :  97.76 % - 74.117%<br>\n",
    "Accuracy :  78.68 % - 74.617% <br>\n",
    "\n",
    "- 이상치 제거 필요\n",
    "- 이렇게 내가 만든 모델들의 정보 어떻게 봄?"
   ]
  },
  {
   "cell_type": "code",
   "execution_count": 81,
   "metadata": {},
   "outputs": [],
   "source": [
    "submission = pd.DataFrame({\"PassengerId\": test[\"PassengerId\"],\"Survived\": rf_pred})\n",
    "submission.to_csv('submission_rf.csv', index=False)"
   ]
  },
  {
   "cell_type": "code",
   "execution_count": 82,
   "metadata": {},
   "outputs": [],
   "source": [
    "submission = pd.DataFrame({\"PassengerId\": test[\"PassengerId\"],\"Survived\": log_pred})\n",
    "submission.to_csv('submission_log.csv', index=False)"
   ]
  },
  {
   "cell_type": "code",
   "execution_count": 83,
   "metadata": {},
   "outputs": [],
   "source": [
    "submission = pd.DataFrame({\"PassengerId\": test[\"PassengerId\"],\"Survived\": svm_pred})\n",
    "submission.to_csv('submission_svm.csv', index=False)"
   ]
  },
  {
   "cell_type": "code",
   "execution_count": 84,
   "metadata": {},
   "outputs": [],
   "source": [
    "submission = pd.DataFrame({\"PassengerId\": test[\"PassengerId\"],\"Survived\": knn_pred_4})\n",
    "submission.to_csv('submission_knn.csv', index=False)"
   ]
  },
  {
   "cell_type": "code",
   "execution_count": 85,
   "metadata": {},
   "outputs": [],
   "source": [
    "submission = pd.DataFrame({\"PassengerId\": test[\"PassengerId\"],\"Survived\": nb_pred})\n",
    "submission.to_csv('submission_nb.csv', index=False)"
   ]
  },
  {
   "cell_type": "code",
   "execution_count": 87,
   "metadata": {
    "scrolled": false
   },
   "outputs": [
    {
     "data": {
      "text/html": [
       "<style  type=\"text/css\" >\n",
       "</style><table id=\"T_50cbcddc_491d_11eb_a301_ccb0da7bbe2e\" ><thead>    <tr>        <th class=\"blank level0\" ></th>        <th class=\"col_heading level0 col0\" >Description</th>        <th class=\"col_heading level0 col1\" >Value</th>    </tr></thead><tbody>\n",
       "                <tr>\n",
       "                        <th id=\"T_50cbcddc_491d_11eb_a301_ccb0da7bbe2elevel0_row0\" class=\"row_heading level0 row0\" >0</th>\n",
       "                        <td id=\"T_50cbcddc_491d_11eb_a301_ccb0da7bbe2erow0_col0\" class=\"data row0 col0\" >session_id</td>\n",
       "                        <td id=\"T_50cbcddc_491d_11eb_a301_ccb0da7bbe2erow0_col1\" class=\"data row0 col1\" >6472</td>\n",
       "            </tr>\n",
       "            <tr>\n",
       "                        <th id=\"T_50cbcddc_491d_11eb_a301_ccb0da7bbe2elevel0_row1\" class=\"row_heading level0 row1\" >1</th>\n",
       "                        <td id=\"T_50cbcddc_491d_11eb_a301_ccb0da7bbe2erow1_col0\" class=\"data row1 col0\" >Target</td>\n",
       "                        <td id=\"T_50cbcddc_491d_11eb_a301_ccb0da7bbe2erow1_col1\" class=\"data row1 col1\" >Survived</td>\n",
       "            </tr>\n",
       "            <tr>\n",
       "                        <th id=\"T_50cbcddc_491d_11eb_a301_ccb0da7bbe2elevel0_row2\" class=\"row_heading level0 row2\" >2</th>\n",
       "                        <td id=\"T_50cbcddc_491d_11eb_a301_ccb0da7bbe2erow2_col0\" class=\"data row2 col0\" >Target Type</td>\n",
       "                        <td id=\"T_50cbcddc_491d_11eb_a301_ccb0da7bbe2erow2_col1\" class=\"data row2 col1\" >Binary</td>\n",
       "            </tr>\n",
       "            <tr>\n",
       "                        <th id=\"T_50cbcddc_491d_11eb_a301_ccb0da7bbe2elevel0_row3\" class=\"row_heading level0 row3\" >3</th>\n",
       "                        <td id=\"T_50cbcddc_491d_11eb_a301_ccb0da7bbe2erow3_col0\" class=\"data row3 col0\" >Label Encoded</td>\n",
       "                        <td id=\"T_50cbcddc_491d_11eb_a301_ccb0da7bbe2erow3_col1\" class=\"data row3 col1\" >0.0: 0, 1.0: 1</td>\n",
       "            </tr>\n",
       "            <tr>\n",
       "                        <th id=\"T_50cbcddc_491d_11eb_a301_ccb0da7bbe2elevel0_row4\" class=\"row_heading level0 row4\" >4</th>\n",
       "                        <td id=\"T_50cbcddc_491d_11eb_a301_ccb0da7bbe2erow4_col0\" class=\"data row4 col0\" >Original Data</td>\n",
       "                        <td id=\"T_50cbcddc_491d_11eb_a301_ccb0da7bbe2erow4_col1\" class=\"data row4 col1\" >(891, 18)</td>\n",
       "            </tr>\n",
       "            <tr>\n",
       "                        <th id=\"T_50cbcddc_491d_11eb_a301_ccb0da7bbe2elevel0_row5\" class=\"row_heading level0 row5\" >5</th>\n",
       "                        <td id=\"T_50cbcddc_491d_11eb_a301_ccb0da7bbe2erow5_col0\" class=\"data row5 col0\" >Missing Values</td>\n",
       "                        <td id=\"T_50cbcddc_491d_11eb_a301_ccb0da7bbe2erow5_col1\" class=\"data row5 col1\" >False</td>\n",
       "            </tr>\n",
       "            <tr>\n",
       "                        <th id=\"T_50cbcddc_491d_11eb_a301_ccb0da7bbe2elevel0_row6\" class=\"row_heading level0 row6\" >6</th>\n",
       "                        <td id=\"T_50cbcddc_491d_11eb_a301_ccb0da7bbe2erow6_col0\" class=\"data row6 col0\" >Numeric Features</td>\n",
       "                        <td id=\"T_50cbcddc_491d_11eb_a301_ccb0da7bbe2erow6_col1\" class=\"data row6 col1\" >14</td>\n",
       "            </tr>\n",
       "            <tr>\n",
       "                        <th id=\"T_50cbcddc_491d_11eb_a301_ccb0da7bbe2elevel0_row7\" class=\"row_heading level0 row7\" >7</th>\n",
       "                        <td id=\"T_50cbcddc_491d_11eb_a301_ccb0da7bbe2erow7_col0\" class=\"data row7 col0\" >Categorical Features</td>\n",
       "                        <td id=\"T_50cbcddc_491d_11eb_a301_ccb0da7bbe2erow7_col1\" class=\"data row7 col1\" >3</td>\n",
       "            </tr>\n",
       "            <tr>\n",
       "                        <th id=\"T_50cbcddc_491d_11eb_a301_ccb0da7bbe2elevel0_row8\" class=\"row_heading level0 row8\" >8</th>\n",
       "                        <td id=\"T_50cbcddc_491d_11eb_a301_ccb0da7bbe2erow8_col0\" class=\"data row8 col0\" >Ordinal Features</td>\n",
       "                        <td id=\"T_50cbcddc_491d_11eb_a301_ccb0da7bbe2erow8_col1\" class=\"data row8 col1\" >False</td>\n",
       "            </tr>\n",
       "            <tr>\n",
       "                        <th id=\"T_50cbcddc_491d_11eb_a301_ccb0da7bbe2elevel0_row9\" class=\"row_heading level0 row9\" >9</th>\n",
       "                        <td id=\"T_50cbcddc_491d_11eb_a301_ccb0da7bbe2erow9_col0\" class=\"data row9 col0\" >High Cardinality Features</td>\n",
       "                        <td id=\"T_50cbcddc_491d_11eb_a301_ccb0da7bbe2erow9_col1\" class=\"data row9 col1\" >False</td>\n",
       "            </tr>\n",
       "            <tr>\n",
       "                        <th id=\"T_50cbcddc_491d_11eb_a301_ccb0da7bbe2elevel0_row10\" class=\"row_heading level0 row10\" >10</th>\n",
       "                        <td id=\"T_50cbcddc_491d_11eb_a301_ccb0da7bbe2erow10_col0\" class=\"data row10 col0\" >High Cardinality Method</td>\n",
       "                        <td id=\"T_50cbcddc_491d_11eb_a301_ccb0da7bbe2erow10_col1\" class=\"data row10 col1\" >None</td>\n",
       "            </tr>\n",
       "            <tr>\n",
       "                        <th id=\"T_50cbcddc_491d_11eb_a301_ccb0da7bbe2elevel0_row11\" class=\"row_heading level0 row11\" >11</th>\n",
       "                        <td id=\"T_50cbcddc_491d_11eb_a301_ccb0da7bbe2erow11_col0\" class=\"data row11 col0\" >Transformed Train Set</td>\n",
       "                        <td id=\"T_50cbcddc_491d_11eb_a301_ccb0da7bbe2erow11_col1\" class=\"data row11 col1\" >(623, 35)</td>\n",
       "            </tr>\n",
       "            <tr>\n",
       "                        <th id=\"T_50cbcddc_491d_11eb_a301_ccb0da7bbe2elevel0_row12\" class=\"row_heading level0 row12\" >12</th>\n",
       "                        <td id=\"T_50cbcddc_491d_11eb_a301_ccb0da7bbe2erow12_col0\" class=\"data row12 col0\" >Transformed Test Set</td>\n",
       "                        <td id=\"T_50cbcddc_491d_11eb_a301_ccb0da7bbe2erow12_col1\" class=\"data row12 col1\" >(268, 35)</td>\n",
       "            </tr>\n",
       "            <tr>\n",
       "                        <th id=\"T_50cbcddc_491d_11eb_a301_ccb0da7bbe2elevel0_row13\" class=\"row_heading level0 row13\" >13</th>\n",
       "                        <td id=\"T_50cbcddc_491d_11eb_a301_ccb0da7bbe2erow13_col0\" class=\"data row13 col0\" >Shuffle Train-Test</td>\n",
       "                        <td id=\"T_50cbcddc_491d_11eb_a301_ccb0da7bbe2erow13_col1\" class=\"data row13 col1\" >True</td>\n",
       "            </tr>\n",
       "            <tr>\n",
       "                        <th id=\"T_50cbcddc_491d_11eb_a301_ccb0da7bbe2elevel0_row14\" class=\"row_heading level0 row14\" >14</th>\n",
       "                        <td id=\"T_50cbcddc_491d_11eb_a301_ccb0da7bbe2erow14_col0\" class=\"data row14 col0\" >Stratify Train-Test</td>\n",
       "                        <td id=\"T_50cbcddc_491d_11eb_a301_ccb0da7bbe2erow14_col1\" class=\"data row14 col1\" >False</td>\n",
       "            </tr>\n",
       "            <tr>\n",
       "                        <th id=\"T_50cbcddc_491d_11eb_a301_ccb0da7bbe2elevel0_row15\" class=\"row_heading level0 row15\" >15</th>\n",
       "                        <td id=\"T_50cbcddc_491d_11eb_a301_ccb0da7bbe2erow15_col0\" class=\"data row15 col0\" >Fold Generator</td>\n",
       "                        <td id=\"T_50cbcddc_491d_11eb_a301_ccb0da7bbe2erow15_col1\" class=\"data row15 col1\" >StratifiedKFold</td>\n",
       "            </tr>\n",
       "            <tr>\n",
       "                        <th id=\"T_50cbcddc_491d_11eb_a301_ccb0da7bbe2elevel0_row16\" class=\"row_heading level0 row16\" >16</th>\n",
       "                        <td id=\"T_50cbcddc_491d_11eb_a301_ccb0da7bbe2erow16_col0\" class=\"data row16 col0\" >Fold Number</td>\n",
       "                        <td id=\"T_50cbcddc_491d_11eb_a301_ccb0da7bbe2erow16_col1\" class=\"data row16 col1\" >10</td>\n",
       "            </tr>\n",
       "            <tr>\n",
       "                        <th id=\"T_50cbcddc_491d_11eb_a301_ccb0da7bbe2elevel0_row17\" class=\"row_heading level0 row17\" >17</th>\n",
       "                        <td id=\"T_50cbcddc_491d_11eb_a301_ccb0da7bbe2erow17_col0\" class=\"data row17 col0\" >CPU Jobs</td>\n",
       "                        <td id=\"T_50cbcddc_491d_11eb_a301_ccb0da7bbe2erow17_col1\" class=\"data row17 col1\" >-1</td>\n",
       "            </tr>\n",
       "            <tr>\n",
       "                        <th id=\"T_50cbcddc_491d_11eb_a301_ccb0da7bbe2elevel0_row18\" class=\"row_heading level0 row18\" >18</th>\n",
       "                        <td id=\"T_50cbcddc_491d_11eb_a301_ccb0da7bbe2erow18_col0\" class=\"data row18 col0\" >Use GPU</td>\n",
       "                        <td id=\"T_50cbcddc_491d_11eb_a301_ccb0da7bbe2erow18_col1\" class=\"data row18 col1\" >False</td>\n",
       "            </tr>\n",
       "            <tr>\n",
       "                        <th id=\"T_50cbcddc_491d_11eb_a301_ccb0da7bbe2elevel0_row19\" class=\"row_heading level0 row19\" >19</th>\n",
       "                        <td id=\"T_50cbcddc_491d_11eb_a301_ccb0da7bbe2erow19_col0\" class=\"data row19 col0\" >Log Experiment</td>\n",
       "                        <td id=\"T_50cbcddc_491d_11eb_a301_ccb0da7bbe2erow19_col1\" class=\"data row19 col1\" >False</td>\n",
       "            </tr>\n",
       "            <tr>\n",
       "                        <th id=\"T_50cbcddc_491d_11eb_a301_ccb0da7bbe2elevel0_row20\" class=\"row_heading level0 row20\" >20</th>\n",
       "                        <td id=\"T_50cbcddc_491d_11eb_a301_ccb0da7bbe2erow20_col0\" class=\"data row20 col0\" >Experiment Name</td>\n",
       "                        <td id=\"T_50cbcddc_491d_11eb_a301_ccb0da7bbe2erow20_col1\" class=\"data row20 col1\" >clf-default-name</td>\n",
       "            </tr>\n",
       "            <tr>\n",
       "                        <th id=\"T_50cbcddc_491d_11eb_a301_ccb0da7bbe2elevel0_row21\" class=\"row_heading level0 row21\" >21</th>\n",
       "                        <td id=\"T_50cbcddc_491d_11eb_a301_ccb0da7bbe2erow21_col0\" class=\"data row21 col0\" >USI</td>\n",
       "                        <td id=\"T_50cbcddc_491d_11eb_a301_ccb0da7bbe2erow21_col1\" class=\"data row21 col1\" >623d</td>\n",
       "            </tr>\n",
       "            <tr>\n",
       "                        <th id=\"T_50cbcddc_491d_11eb_a301_ccb0da7bbe2elevel0_row22\" class=\"row_heading level0 row22\" >22</th>\n",
       "                        <td id=\"T_50cbcddc_491d_11eb_a301_ccb0da7bbe2erow22_col0\" class=\"data row22 col0\" >Imputation Type</td>\n",
       "                        <td id=\"T_50cbcddc_491d_11eb_a301_ccb0da7bbe2erow22_col1\" class=\"data row22 col1\" >simple</td>\n",
       "            </tr>\n",
       "            <tr>\n",
       "                        <th id=\"T_50cbcddc_491d_11eb_a301_ccb0da7bbe2elevel0_row23\" class=\"row_heading level0 row23\" >23</th>\n",
       "                        <td id=\"T_50cbcddc_491d_11eb_a301_ccb0da7bbe2erow23_col0\" class=\"data row23 col0\" >Iterative Imputation Iteration</td>\n",
       "                        <td id=\"T_50cbcddc_491d_11eb_a301_ccb0da7bbe2erow23_col1\" class=\"data row23 col1\" >None</td>\n",
       "            </tr>\n",
       "            <tr>\n",
       "                        <th id=\"T_50cbcddc_491d_11eb_a301_ccb0da7bbe2elevel0_row24\" class=\"row_heading level0 row24\" >24</th>\n",
       "                        <td id=\"T_50cbcddc_491d_11eb_a301_ccb0da7bbe2erow24_col0\" class=\"data row24 col0\" >Numeric Imputer</td>\n",
       "                        <td id=\"T_50cbcddc_491d_11eb_a301_ccb0da7bbe2erow24_col1\" class=\"data row24 col1\" >mean</td>\n",
       "            </tr>\n",
       "            <tr>\n",
       "                        <th id=\"T_50cbcddc_491d_11eb_a301_ccb0da7bbe2elevel0_row25\" class=\"row_heading level0 row25\" >25</th>\n",
       "                        <td id=\"T_50cbcddc_491d_11eb_a301_ccb0da7bbe2erow25_col0\" class=\"data row25 col0\" >Iterative Imputation Numeric Model</td>\n",
       "                        <td id=\"T_50cbcddc_491d_11eb_a301_ccb0da7bbe2erow25_col1\" class=\"data row25 col1\" >None</td>\n",
       "            </tr>\n",
       "            <tr>\n",
       "                        <th id=\"T_50cbcddc_491d_11eb_a301_ccb0da7bbe2elevel0_row26\" class=\"row_heading level0 row26\" >26</th>\n",
       "                        <td id=\"T_50cbcddc_491d_11eb_a301_ccb0da7bbe2erow26_col0\" class=\"data row26 col0\" >Categorical Imputer</td>\n",
       "                        <td id=\"T_50cbcddc_491d_11eb_a301_ccb0da7bbe2erow26_col1\" class=\"data row26 col1\" >constant</td>\n",
       "            </tr>\n",
       "            <tr>\n",
       "                        <th id=\"T_50cbcddc_491d_11eb_a301_ccb0da7bbe2elevel0_row27\" class=\"row_heading level0 row27\" >27</th>\n",
       "                        <td id=\"T_50cbcddc_491d_11eb_a301_ccb0da7bbe2erow27_col0\" class=\"data row27 col0\" >Iterative Imputation Categorical Model</td>\n",
       "                        <td id=\"T_50cbcddc_491d_11eb_a301_ccb0da7bbe2erow27_col1\" class=\"data row27 col1\" >None</td>\n",
       "            </tr>\n",
       "            <tr>\n",
       "                        <th id=\"T_50cbcddc_491d_11eb_a301_ccb0da7bbe2elevel0_row28\" class=\"row_heading level0 row28\" >28</th>\n",
       "                        <td id=\"T_50cbcddc_491d_11eb_a301_ccb0da7bbe2erow28_col0\" class=\"data row28 col0\" >Unknown Categoricals Handling</td>\n",
       "                        <td id=\"T_50cbcddc_491d_11eb_a301_ccb0da7bbe2erow28_col1\" class=\"data row28 col1\" >least_frequent</td>\n",
       "            </tr>\n",
       "            <tr>\n",
       "                        <th id=\"T_50cbcddc_491d_11eb_a301_ccb0da7bbe2elevel0_row29\" class=\"row_heading level0 row29\" >29</th>\n",
       "                        <td id=\"T_50cbcddc_491d_11eb_a301_ccb0da7bbe2erow29_col0\" class=\"data row29 col0\" >Normalize</td>\n",
       "                        <td id=\"T_50cbcddc_491d_11eb_a301_ccb0da7bbe2erow29_col1\" class=\"data row29 col1\" >False</td>\n",
       "            </tr>\n",
       "            <tr>\n",
       "                        <th id=\"T_50cbcddc_491d_11eb_a301_ccb0da7bbe2elevel0_row30\" class=\"row_heading level0 row30\" >30</th>\n",
       "                        <td id=\"T_50cbcddc_491d_11eb_a301_ccb0da7bbe2erow30_col0\" class=\"data row30 col0\" >Normalize Method</td>\n",
       "                        <td id=\"T_50cbcddc_491d_11eb_a301_ccb0da7bbe2erow30_col1\" class=\"data row30 col1\" >None</td>\n",
       "            </tr>\n",
       "            <tr>\n",
       "                        <th id=\"T_50cbcddc_491d_11eb_a301_ccb0da7bbe2elevel0_row31\" class=\"row_heading level0 row31\" >31</th>\n",
       "                        <td id=\"T_50cbcddc_491d_11eb_a301_ccb0da7bbe2erow31_col0\" class=\"data row31 col0\" >Transformation</td>\n",
       "                        <td id=\"T_50cbcddc_491d_11eb_a301_ccb0da7bbe2erow31_col1\" class=\"data row31 col1\" >False</td>\n",
       "            </tr>\n",
       "            <tr>\n",
       "                        <th id=\"T_50cbcddc_491d_11eb_a301_ccb0da7bbe2elevel0_row32\" class=\"row_heading level0 row32\" >32</th>\n",
       "                        <td id=\"T_50cbcddc_491d_11eb_a301_ccb0da7bbe2erow32_col0\" class=\"data row32 col0\" >Transformation Method</td>\n",
       "                        <td id=\"T_50cbcddc_491d_11eb_a301_ccb0da7bbe2erow32_col1\" class=\"data row32 col1\" >None</td>\n",
       "            </tr>\n",
       "            <tr>\n",
       "                        <th id=\"T_50cbcddc_491d_11eb_a301_ccb0da7bbe2elevel0_row33\" class=\"row_heading level0 row33\" >33</th>\n",
       "                        <td id=\"T_50cbcddc_491d_11eb_a301_ccb0da7bbe2erow33_col0\" class=\"data row33 col0\" >PCA</td>\n",
       "                        <td id=\"T_50cbcddc_491d_11eb_a301_ccb0da7bbe2erow33_col1\" class=\"data row33 col1\" >False</td>\n",
       "            </tr>\n",
       "            <tr>\n",
       "                        <th id=\"T_50cbcddc_491d_11eb_a301_ccb0da7bbe2elevel0_row34\" class=\"row_heading level0 row34\" >34</th>\n",
       "                        <td id=\"T_50cbcddc_491d_11eb_a301_ccb0da7bbe2erow34_col0\" class=\"data row34 col0\" >PCA Method</td>\n",
       "                        <td id=\"T_50cbcddc_491d_11eb_a301_ccb0da7bbe2erow34_col1\" class=\"data row34 col1\" >None</td>\n",
       "            </tr>\n",
       "            <tr>\n",
       "                        <th id=\"T_50cbcddc_491d_11eb_a301_ccb0da7bbe2elevel0_row35\" class=\"row_heading level0 row35\" >35</th>\n",
       "                        <td id=\"T_50cbcddc_491d_11eb_a301_ccb0da7bbe2erow35_col0\" class=\"data row35 col0\" >PCA Components</td>\n",
       "                        <td id=\"T_50cbcddc_491d_11eb_a301_ccb0da7bbe2erow35_col1\" class=\"data row35 col1\" >None</td>\n",
       "            </tr>\n",
       "            <tr>\n",
       "                        <th id=\"T_50cbcddc_491d_11eb_a301_ccb0da7bbe2elevel0_row36\" class=\"row_heading level0 row36\" >36</th>\n",
       "                        <td id=\"T_50cbcddc_491d_11eb_a301_ccb0da7bbe2erow36_col0\" class=\"data row36 col0\" >Ignore Low Variance</td>\n",
       "                        <td id=\"T_50cbcddc_491d_11eb_a301_ccb0da7bbe2erow36_col1\" class=\"data row36 col1\" >False</td>\n",
       "            </tr>\n",
       "            <tr>\n",
       "                        <th id=\"T_50cbcddc_491d_11eb_a301_ccb0da7bbe2elevel0_row37\" class=\"row_heading level0 row37\" >37</th>\n",
       "                        <td id=\"T_50cbcddc_491d_11eb_a301_ccb0da7bbe2erow37_col0\" class=\"data row37 col0\" >Combine Rare Levels</td>\n",
       "                        <td id=\"T_50cbcddc_491d_11eb_a301_ccb0da7bbe2erow37_col1\" class=\"data row37 col1\" >False</td>\n",
       "            </tr>\n",
       "            <tr>\n",
       "                        <th id=\"T_50cbcddc_491d_11eb_a301_ccb0da7bbe2elevel0_row38\" class=\"row_heading level0 row38\" >38</th>\n",
       "                        <td id=\"T_50cbcddc_491d_11eb_a301_ccb0da7bbe2erow38_col0\" class=\"data row38 col0\" >Rare Level Threshold</td>\n",
       "                        <td id=\"T_50cbcddc_491d_11eb_a301_ccb0da7bbe2erow38_col1\" class=\"data row38 col1\" >None</td>\n",
       "            </tr>\n",
       "            <tr>\n",
       "                        <th id=\"T_50cbcddc_491d_11eb_a301_ccb0da7bbe2elevel0_row39\" class=\"row_heading level0 row39\" >39</th>\n",
       "                        <td id=\"T_50cbcddc_491d_11eb_a301_ccb0da7bbe2erow39_col0\" class=\"data row39 col0\" >Numeric Binning</td>\n",
       "                        <td id=\"T_50cbcddc_491d_11eb_a301_ccb0da7bbe2erow39_col1\" class=\"data row39 col1\" >False</td>\n",
       "            </tr>\n",
       "            <tr>\n",
       "                        <th id=\"T_50cbcddc_491d_11eb_a301_ccb0da7bbe2elevel0_row40\" class=\"row_heading level0 row40\" >40</th>\n",
       "                        <td id=\"T_50cbcddc_491d_11eb_a301_ccb0da7bbe2erow40_col0\" class=\"data row40 col0\" >Remove Outliers</td>\n",
       "                        <td id=\"T_50cbcddc_491d_11eb_a301_ccb0da7bbe2erow40_col1\" class=\"data row40 col1\" >False</td>\n",
       "            </tr>\n",
       "            <tr>\n",
       "                        <th id=\"T_50cbcddc_491d_11eb_a301_ccb0da7bbe2elevel0_row41\" class=\"row_heading level0 row41\" >41</th>\n",
       "                        <td id=\"T_50cbcddc_491d_11eb_a301_ccb0da7bbe2erow41_col0\" class=\"data row41 col0\" >Outliers Threshold</td>\n",
       "                        <td id=\"T_50cbcddc_491d_11eb_a301_ccb0da7bbe2erow41_col1\" class=\"data row41 col1\" >None</td>\n",
       "            </tr>\n",
       "            <tr>\n",
       "                        <th id=\"T_50cbcddc_491d_11eb_a301_ccb0da7bbe2elevel0_row42\" class=\"row_heading level0 row42\" >42</th>\n",
       "                        <td id=\"T_50cbcddc_491d_11eb_a301_ccb0da7bbe2erow42_col0\" class=\"data row42 col0\" >Remove Multicollinearity</td>\n",
       "                        <td id=\"T_50cbcddc_491d_11eb_a301_ccb0da7bbe2erow42_col1\" class=\"data row42 col1\" >False</td>\n",
       "            </tr>\n",
       "            <tr>\n",
       "                        <th id=\"T_50cbcddc_491d_11eb_a301_ccb0da7bbe2elevel0_row43\" class=\"row_heading level0 row43\" >43</th>\n",
       "                        <td id=\"T_50cbcddc_491d_11eb_a301_ccb0da7bbe2erow43_col0\" class=\"data row43 col0\" >Multicollinearity Threshold</td>\n",
       "                        <td id=\"T_50cbcddc_491d_11eb_a301_ccb0da7bbe2erow43_col1\" class=\"data row43 col1\" >None</td>\n",
       "            </tr>\n",
       "            <tr>\n",
       "                        <th id=\"T_50cbcddc_491d_11eb_a301_ccb0da7bbe2elevel0_row44\" class=\"row_heading level0 row44\" >44</th>\n",
       "                        <td id=\"T_50cbcddc_491d_11eb_a301_ccb0da7bbe2erow44_col0\" class=\"data row44 col0\" >Clustering</td>\n",
       "                        <td id=\"T_50cbcddc_491d_11eb_a301_ccb0da7bbe2erow44_col1\" class=\"data row44 col1\" >False</td>\n",
       "            </tr>\n",
       "            <tr>\n",
       "                        <th id=\"T_50cbcddc_491d_11eb_a301_ccb0da7bbe2elevel0_row45\" class=\"row_heading level0 row45\" >45</th>\n",
       "                        <td id=\"T_50cbcddc_491d_11eb_a301_ccb0da7bbe2erow45_col0\" class=\"data row45 col0\" >Clustering Iteration</td>\n",
       "                        <td id=\"T_50cbcddc_491d_11eb_a301_ccb0da7bbe2erow45_col1\" class=\"data row45 col1\" >None</td>\n",
       "            </tr>\n",
       "            <tr>\n",
       "                        <th id=\"T_50cbcddc_491d_11eb_a301_ccb0da7bbe2elevel0_row46\" class=\"row_heading level0 row46\" >46</th>\n",
       "                        <td id=\"T_50cbcddc_491d_11eb_a301_ccb0da7bbe2erow46_col0\" class=\"data row46 col0\" >Polynomial Features</td>\n",
       "                        <td id=\"T_50cbcddc_491d_11eb_a301_ccb0da7bbe2erow46_col1\" class=\"data row46 col1\" >False</td>\n",
       "            </tr>\n",
       "            <tr>\n",
       "                        <th id=\"T_50cbcddc_491d_11eb_a301_ccb0da7bbe2elevel0_row47\" class=\"row_heading level0 row47\" >47</th>\n",
       "                        <td id=\"T_50cbcddc_491d_11eb_a301_ccb0da7bbe2erow47_col0\" class=\"data row47 col0\" >Polynomial Degree</td>\n",
       "                        <td id=\"T_50cbcddc_491d_11eb_a301_ccb0da7bbe2erow47_col1\" class=\"data row47 col1\" >None</td>\n",
       "            </tr>\n",
       "            <tr>\n",
       "                        <th id=\"T_50cbcddc_491d_11eb_a301_ccb0da7bbe2elevel0_row48\" class=\"row_heading level0 row48\" >48</th>\n",
       "                        <td id=\"T_50cbcddc_491d_11eb_a301_ccb0da7bbe2erow48_col0\" class=\"data row48 col0\" >Trignometry Features</td>\n",
       "                        <td id=\"T_50cbcddc_491d_11eb_a301_ccb0da7bbe2erow48_col1\" class=\"data row48 col1\" >False</td>\n",
       "            </tr>\n",
       "            <tr>\n",
       "                        <th id=\"T_50cbcddc_491d_11eb_a301_ccb0da7bbe2elevel0_row49\" class=\"row_heading level0 row49\" >49</th>\n",
       "                        <td id=\"T_50cbcddc_491d_11eb_a301_ccb0da7bbe2erow49_col0\" class=\"data row49 col0\" >Polynomial Threshold</td>\n",
       "                        <td id=\"T_50cbcddc_491d_11eb_a301_ccb0da7bbe2erow49_col1\" class=\"data row49 col1\" >None</td>\n",
       "            </tr>\n",
       "            <tr>\n",
       "                        <th id=\"T_50cbcddc_491d_11eb_a301_ccb0da7bbe2elevel0_row50\" class=\"row_heading level0 row50\" >50</th>\n",
       "                        <td id=\"T_50cbcddc_491d_11eb_a301_ccb0da7bbe2erow50_col0\" class=\"data row50 col0\" >Group Features</td>\n",
       "                        <td id=\"T_50cbcddc_491d_11eb_a301_ccb0da7bbe2erow50_col1\" class=\"data row50 col1\" >False</td>\n",
       "            </tr>\n",
       "            <tr>\n",
       "                        <th id=\"T_50cbcddc_491d_11eb_a301_ccb0da7bbe2elevel0_row51\" class=\"row_heading level0 row51\" >51</th>\n",
       "                        <td id=\"T_50cbcddc_491d_11eb_a301_ccb0da7bbe2erow51_col0\" class=\"data row51 col0\" >Feature Selection</td>\n",
       "                        <td id=\"T_50cbcddc_491d_11eb_a301_ccb0da7bbe2erow51_col1\" class=\"data row51 col1\" >False</td>\n",
       "            </tr>\n",
       "            <tr>\n",
       "                        <th id=\"T_50cbcddc_491d_11eb_a301_ccb0da7bbe2elevel0_row52\" class=\"row_heading level0 row52\" >52</th>\n",
       "                        <td id=\"T_50cbcddc_491d_11eb_a301_ccb0da7bbe2erow52_col0\" class=\"data row52 col0\" >Features Selection Threshold</td>\n",
       "                        <td id=\"T_50cbcddc_491d_11eb_a301_ccb0da7bbe2erow52_col1\" class=\"data row52 col1\" >None</td>\n",
       "            </tr>\n",
       "            <tr>\n",
       "                        <th id=\"T_50cbcddc_491d_11eb_a301_ccb0da7bbe2elevel0_row53\" class=\"row_heading level0 row53\" >53</th>\n",
       "                        <td id=\"T_50cbcddc_491d_11eb_a301_ccb0da7bbe2erow53_col0\" class=\"data row53 col0\" >Feature Interaction</td>\n",
       "                        <td id=\"T_50cbcddc_491d_11eb_a301_ccb0da7bbe2erow53_col1\" class=\"data row53 col1\" >False</td>\n",
       "            </tr>\n",
       "            <tr>\n",
       "                        <th id=\"T_50cbcddc_491d_11eb_a301_ccb0da7bbe2elevel0_row54\" class=\"row_heading level0 row54\" >54</th>\n",
       "                        <td id=\"T_50cbcddc_491d_11eb_a301_ccb0da7bbe2erow54_col0\" class=\"data row54 col0\" >Feature Ratio</td>\n",
       "                        <td id=\"T_50cbcddc_491d_11eb_a301_ccb0da7bbe2erow54_col1\" class=\"data row54 col1\" >False</td>\n",
       "            </tr>\n",
       "            <tr>\n",
       "                        <th id=\"T_50cbcddc_491d_11eb_a301_ccb0da7bbe2elevel0_row55\" class=\"row_heading level0 row55\" >55</th>\n",
       "                        <td id=\"T_50cbcddc_491d_11eb_a301_ccb0da7bbe2erow55_col0\" class=\"data row55 col0\" >Interaction Threshold</td>\n",
       "                        <td id=\"T_50cbcddc_491d_11eb_a301_ccb0da7bbe2erow55_col1\" class=\"data row55 col1\" >None</td>\n",
       "            </tr>\n",
       "            <tr>\n",
       "                        <th id=\"T_50cbcddc_491d_11eb_a301_ccb0da7bbe2elevel0_row56\" class=\"row_heading level0 row56\" >56</th>\n",
       "                        <td id=\"T_50cbcddc_491d_11eb_a301_ccb0da7bbe2erow56_col0\" class=\"data row56 col0\" >Fix Imbalance</td>\n",
       "                        <td id=\"T_50cbcddc_491d_11eb_a301_ccb0da7bbe2erow56_col1\" class=\"data row56 col1\" >False</td>\n",
       "            </tr>\n",
       "            <tr>\n",
       "                        <th id=\"T_50cbcddc_491d_11eb_a301_ccb0da7bbe2elevel0_row57\" class=\"row_heading level0 row57\" >57</th>\n",
       "                        <td id=\"T_50cbcddc_491d_11eb_a301_ccb0da7bbe2erow57_col0\" class=\"data row57 col0\" >Fix Imbalance Method</td>\n",
       "                        <td id=\"T_50cbcddc_491d_11eb_a301_ccb0da7bbe2erow57_col1\" class=\"data row57 col1\" >SMOTE</td>\n",
       "            </tr>\n",
       "    </tbody></table>"
      ],
      "text/plain": [
       "<pandas.io.formats.style.Styler at 0x18d2abc62e0>"
      ]
     },
     "metadata": {},
     "output_type": "display_data"
    }
   ],
   "source": [
    "import pycaret\n",
    "from pycaret.classification import *\n",
    "exp1 = setup(df_train, target = 'Survived')"
   ]
  },
  {
   "cell_type": "code",
   "execution_count": 88,
   "metadata": {
    "scrolled": true
   },
   "outputs": [
    {
     "data": {
      "text/html": [
       "<style  type=\"text/css\" >\n",
       "    #T_917bc844_491d_11eb_aa62_ccb0da7bbe2e th {\n",
       "          text-align: left;\n",
       "    }#T_917bc844_491d_11eb_aa62_ccb0da7bbe2erow0_col0,#T_917bc844_491d_11eb_aa62_ccb0da7bbe2erow0_col1,#T_917bc844_491d_11eb_aa62_ccb0da7bbe2erow0_col3,#T_917bc844_491d_11eb_aa62_ccb0da7bbe2erow0_col4,#T_917bc844_491d_11eb_aa62_ccb0da7bbe2erow0_col5,#T_917bc844_491d_11eb_aa62_ccb0da7bbe2erow0_col6,#T_917bc844_491d_11eb_aa62_ccb0da7bbe2erow0_col7,#T_917bc844_491d_11eb_aa62_ccb0da7bbe2erow1_col0,#T_917bc844_491d_11eb_aa62_ccb0da7bbe2erow1_col2,#T_917bc844_491d_11eb_aa62_ccb0da7bbe2erow1_col3,#T_917bc844_491d_11eb_aa62_ccb0da7bbe2erow2_col0,#T_917bc844_491d_11eb_aa62_ccb0da7bbe2erow2_col1,#T_917bc844_491d_11eb_aa62_ccb0da7bbe2erow2_col2,#T_917bc844_491d_11eb_aa62_ccb0da7bbe2erow2_col3,#T_917bc844_491d_11eb_aa62_ccb0da7bbe2erow2_col4,#T_917bc844_491d_11eb_aa62_ccb0da7bbe2erow2_col5,#T_917bc844_491d_11eb_aa62_ccb0da7bbe2erow2_col6,#T_917bc844_491d_11eb_aa62_ccb0da7bbe2erow2_col7,#T_917bc844_491d_11eb_aa62_ccb0da7bbe2erow3_col0,#T_917bc844_491d_11eb_aa62_ccb0da7bbe2erow3_col1,#T_917bc844_491d_11eb_aa62_ccb0da7bbe2erow3_col2,#T_917bc844_491d_11eb_aa62_ccb0da7bbe2erow3_col3,#T_917bc844_491d_11eb_aa62_ccb0da7bbe2erow3_col4,#T_917bc844_491d_11eb_aa62_ccb0da7bbe2erow3_col5,#T_917bc844_491d_11eb_aa62_ccb0da7bbe2erow3_col6,#T_917bc844_491d_11eb_aa62_ccb0da7bbe2erow3_col7,#T_917bc844_491d_11eb_aa62_ccb0da7bbe2erow4_col0,#T_917bc844_491d_11eb_aa62_ccb0da7bbe2erow4_col1,#T_917bc844_491d_11eb_aa62_ccb0da7bbe2erow4_col2,#T_917bc844_491d_11eb_aa62_ccb0da7bbe2erow4_col3,#T_917bc844_491d_11eb_aa62_ccb0da7bbe2erow4_col4,#T_917bc844_491d_11eb_aa62_ccb0da7bbe2erow4_col5,#T_917bc844_491d_11eb_aa62_ccb0da7bbe2erow4_col6,#T_917bc844_491d_11eb_aa62_ccb0da7bbe2erow4_col7,#T_917bc844_491d_11eb_aa62_ccb0da7bbe2erow5_col0,#T_917bc844_491d_11eb_aa62_ccb0da7bbe2erow5_col1,#T_917bc844_491d_11eb_aa62_ccb0da7bbe2erow5_col2,#T_917bc844_491d_11eb_aa62_ccb0da7bbe2erow5_col3,#T_917bc844_491d_11eb_aa62_ccb0da7bbe2erow5_col4,#T_917bc844_491d_11eb_aa62_ccb0da7bbe2erow5_col5,#T_917bc844_491d_11eb_aa62_ccb0da7bbe2erow5_col6,#T_917bc844_491d_11eb_aa62_ccb0da7bbe2erow5_col7,#T_917bc844_491d_11eb_aa62_ccb0da7bbe2erow6_col0,#T_917bc844_491d_11eb_aa62_ccb0da7bbe2erow6_col1,#T_917bc844_491d_11eb_aa62_ccb0da7bbe2erow6_col2,#T_917bc844_491d_11eb_aa62_ccb0da7bbe2erow6_col3,#T_917bc844_491d_11eb_aa62_ccb0da7bbe2erow6_col4,#T_917bc844_491d_11eb_aa62_ccb0da7bbe2erow6_col5,#T_917bc844_491d_11eb_aa62_ccb0da7bbe2erow6_col6,#T_917bc844_491d_11eb_aa62_ccb0da7bbe2erow6_col7,#T_917bc844_491d_11eb_aa62_ccb0da7bbe2erow7_col0,#T_917bc844_491d_11eb_aa62_ccb0da7bbe2erow7_col1,#T_917bc844_491d_11eb_aa62_ccb0da7bbe2erow7_col2,#T_917bc844_491d_11eb_aa62_ccb0da7bbe2erow7_col3,#T_917bc844_491d_11eb_aa62_ccb0da7bbe2erow7_col4,#T_917bc844_491d_11eb_aa62_ccb0da7bbe2erow7_col5,#T_917bc844_491d_11eb_aa62_ccb0da7bbe2erow7_col6,#T_917bc844_491d_11eb_aa62_ccb0da7bbe2erow7_col7,#T_917bc844_491d_11eb_aa62_ccb0da7bbe2erow8_col0,#T_917bc844_491d_11eb_aa62_ccb0da7bbe2erow8_col1,#T_917bc844_491d_11eb_aa62_ccb0da7bbe2erow8_col2,#T_917bc844_491d_11eb_aa62_ccb0da7bbe2erow8_col3,#T_917bc844_491d_11eb_aa62_ccb0da7bbe2erow8_col4,#T_917bc844_491d_11eb_aa62_ccb0da7bbe2erow8_col5,#T_917bc844_491d_11eb_aa62_ccb0da7bbe2erow8_col6,#T_917bc844_491d_11eb_aa62_ccb0da7bbe2erow8_col7,#T_917bc844_491d_11eb_aa62_ccb0da7bbe2erow9_col0,#T_917bc844_491d_11eb_aa62_ccb0da7bbe2erow9_col1,#T_917bc844_491d_11eb_aa62_ccb0da7bbe2erow9_col2,#T_917bc844_491d_11eb_aa62_ccb0da7bbe2erow9_col3,#T_917bc844_491d_11eb_aa62_ccb0da7bbe2erow9_col4,#T_917bc844_491d_11eb_aa62_ccb0da7bbe2erow9_col5,#T_917bc844_491d_11eb_aa62_ccb0da7bbe2erow9_col6,#T_917bc844_491d_11eb_aa62_ccb0da7bbe2erow9_col7,#T_917bc844_491d_11eb_aa62_ccb0da7bbe2erow10_col0,#T_917bc844_491d_11eb_aa62_ccb0da7bbe2erow10_col1,#T_917bc844_491d_11eb_aa62_ccb0da7bbe2erow10_col2,#T_917bc844_491d_11eb_aa62_ccb0da7bbe2erow10_col3,#T_917bc844_491d_11eb_aa62_ccb0da7bbe2erow10_col4,#T_917bc844_491d_11eb_aa62_ccb0da7bbe2erow10_col5,#T_917bc844_491d_11eb_aa62_ccb0da7bbe2erow10_col6,#T_917bc844_491d_11eb_aa62_ccb0da7bbe2erow10_col7,#T_917bc844_491d_11eb_aa62_ccb0da7bbe2erow11_col0,#T_917bc844_491d_11eb_aa62_ccb0da7bbe2erow11_col1,#T_917bc844_491d_11eb_aa62_ccb0da7bbe2erow11_col2,#T_917bc844_491d_11eb_aa62_ccb0da7bbe2erow11_col4,#T_917bc844_491d_11eb_aa62_ccb0da7bbe2erow11_col5,#T_917bc844_491d_11eb_aa62_ccb0da7bbe2erow11_col6,#T_917bc844_491d_11eb_aa62_ccb0da7bbe2erow11_col7,#T_917bc844_491d_11eb_aa62_ccb0da7bbe2erow12_col0,#T_917bc844_491d_11eb_aa62_ccb0da7bbe2erow12_col1,#T_917bc844_491d_11eb_aa62_ccb0da7bbe2erow12_col2,#T_917bc844_491d_11eb_aa62_ccb0da7bbe2erow12_col3,#T_917bc844_491d_11eb_aa62_ccb0da7bbe2erow12_col4,#T_917bc844_491d_11eb_aa62_ccb0da7bbe2erow12_col5,#T_917bc844_491d_11eb_aa62_ccb0da7bbe2erow12_col6,#T_917bc844_491d_11eb_aa62_ccb0da7bbe2erow12_col7,#T_917bc844_491d_11eb_aa62_ccb0da7bbe2erow13_col0,#T_917bc844_491d_11eb_aa62_ccb0da7bbe2erow13_col1,#T_917bc844_491d_11eb_aa62_ccb0da7bbe2erow13_col2,#T_917bc844_491d_11eb_aa62_ccb0da7bbe2erow13_col3,#T_917bc844_491d_11eb_aa62_ccb0da7bbe2erow13_col4,#T_917bc844_491d_11eb_aa62_ccb0da7bbe2erow13_col5,#T_917bc844_491d_11eb_aa62_ccb0da7bbe2erow13_col6,#T_917bc844_491d_11eb_aa62_ccb0da7bbe2erow13_col7,#T_917bc844_491d_11eb_aa62_ccb0da7bbe2erow14_col0,#T_917bc844_491d_11eb_aa62_ccb0da7bbe2erow14_col1,#T_917bc844_491d_11eb_aa62_ccb0da7bbe2erow14_col2,#T_917bc844_491d_11eb_aa62_ccb0da7bbe2erow14_col3,#T_917bc844_491d_11eb_aa62_ccb0da7bbe2erow14_col4,#T_917bc844_491d_11eb_aa62_ccb0da7bbe2erow14_col5,#T_917bc844_491d_11eb_aa62_ccb0da7bbe2erow14_col6,#T_917bc844_491d_11eb_aa62_ccb0da7bbe2erow14_col7{\n",
       "            text-align:  left;\n",
       "            text-align:  left;\n",
       "        }#T_917bc844_491d_11eb_aa62_ccb0da7bbe2erow0_col2,#T_917bc844_491d_11eb_aa62_ccb0da7bbe2erow1_col1,#T_917bc844_491d_11eb_aa62_ccb0da7bbe2erow1_col4,#T_917bc844_491d_11eb_aa62_ccb0da7bbe2erow1_col5,#T_917bc844_491d_11eb_aa62_ccb0da7bbe2erow1_col6,#T_917bc844_491d_11eb_aa62_ccb0da7bbe2erow1_col7,#T_917bc844_491d_11eb_aa62_ccb0da7bbe2erow11_col3{\n",
       "            text-align:  left;\n",
       "            text-align:  left;\n",
       "            background-color:  yellow;\n",
       "        }#T_917bc844_491d_11eb_aa62_ccb0da7bbe2erow0_col8,#T_917bc844_491d_11eb_aa62_ccb0da7bbe2erow1_col8,#T_917bc844_491d_11eb_aa62_ccb0da7bbe2erow2_col8,#T_917bc844_491d_11eb_aa62_ccb0da7bbe2erow3_col8,#T_917bc844_491d_11eb_aa62_ccb0da7bbe2erow4_col8,#T_917bc844_491d_11eb_aa62_ccb0da7bbe2erow5_col8,#T_917bc844_491d_11eb_aa62_ccb0da7bbe2erow6_col8,#T_917bc844_491d_11eb_aa62_ccb0da7bbe2erow7_col8,#T_917bc844_491d_11eb_aa62_ccb0da7bbe2erow8_col8,#T_917bc844_491d_11eb_aa62_ccb0da7bbe2erow9_col8,#T_917bc844_491d_11eb_aa62_ccb0da7bbe2erow10_col8,#T_917bc844_491d_11eb_aa62_ccb0da7bbe2erow12_col8,#T_917bc844_491d_11eb_aa62_ccb0da7bbe2erow13_col8,#T_917bc844_491d_11eb_aa62_ccb0da7bbe2erow14_col8{\n",
       "            text-align:  left;\n",
       "            text-align:  left;\n",
       "            background-color:  lightgrey;\n",
       "        }#T_917bc844_491d_11eb_aa62_ccb0da7bbe2erow11_col8{\n",
       "            text-align:  left;\n",
       "            text-align:  left;\n",
       "            background-color:  yellow;\n",
       "            background-color:  lightgrey;\n",
       "        }</style><table id=\"T_917bc844_491d_11eb_aa62_ccb0da7bbe2e\" ><thead>    <tr>        <th class=\"blank level0\" ></th>        <th class=\"col_heading level0 col0\" >Model</th>        <th class=\"col_heading level0 col1\" >Accuracy</th>        <th class=\"col_heading level0 col2\" >AUC</th>        <th class=\"col_heading level0 col3\" >Recall</th>        <th class=\"col_heading level0 col4\" >Prec.</th>        <th class=\"col_heading level0 col5\" >F1</th>        <th class=\"col_heading level0 col6\" >Kappa</th>        <th class=\"col_heading level0 col7\" >MCC</th>        <th class=\"col_heading level0 col8\" >TT (Sec)</th>    </tr></thead><tbody>\n",
       "                <tr>\n",
       "                        <th id=\"T_917bc844_491d_11eb_aa62_ccb0da7bbe2elevel0_row0\" class=\"row_heading level0 row0\" >gbc</th>\n",
       "                        <td id=\"T_917bc844_491d_11eb_aa62_ccb0da7bbe2erow0_col0\" class=\"data row0 col0\" >Gradient Boosting Classifier</td>\n",
       "                        <td id=\"T_917bc844_491d_11eb_aa62_ccb0da7bbe2erow0_col1\" class=\"data row0 col1\" >0.8122</td>\n",
       "                        <td id=\"T_917bc844_491d_11eb_aa62_ccb0da7bbe2erow0_col2\" class=\"data row0 col2\" >0.8638</td>\n",
       "                        <td id=\"T_917bc844_491d_11eb_aa62_ccb0da7bbe2erow0_col3\" class=\"data row0 col3\" >0.6985</td>\n",
       "                        <td id=\"T_917bc844_491d_11eb_aa62_ccb0da7bbe2erow0_col4\" class=\"data row0 col4\" >0.8069</td>\n",
       "                        <td id=\"T_917bc844_491d_11eb_aa62_ccb0da7bbe2erow0_col5\" class=\"data row0 col5\" >0.7429</td>\n",
       "                        <td id=\"T_917bc844_491d_11eb_aa62_ccb0da7bbe2erow0_col6\" class=\"data row0 col6\" >0.5971</td>\n",
       "                        <td id=\"T_917bc844_491d_11eb_aa62_ccb0da7bbe2erow0_col7\" class=\"data row0 col7\" >0.6058</td>\n",
       "                        <td id=\"T_917bc844_491d_11eb_aa62_ccb0da7bbe2erow0_col8\" class=\"data row0 col8\" >0.1210</td>\n",
       "            </tr>\n",
       "            <tr>\n",
       "                        <th id=\"T_917bc844_491d_11eb_aa62_ccb0da7bbe2elevel0_row1\" class=\"row_heading level0 row1\" >catboost</th>\n",
       "                        <td id=\"T_917bc844_491d_11eb_aa62_ccb0da7bbe2erow1_col0\" class=\"data row1 col0\" >CatBoost Classifier</td>\n",
       "                        <td id=\"T_917bc844_491d_11eb_aa62_ccb0da7bbe2erow1_col1\" class=\"data row1 col1\" >0.8203</td>\n",
       "                        <td id=\"T_917bc844_491d_11eb_aa62_ccb0da7bbe2erow1_col2\" class=\"data row1 col2\" >0.8605</td>\n",
       "                        <td id=\"T_917bc844_491d_11eb_aa62_ccb0da7bbe2erow1_col3\" class=\"data row1 col3\" >0.7063</td>\n",
       "                        <td id=\"T_917bc844_491d_11eb_aa62_ccb0da7bbe2erow1_col4\" class=\"data row1 col4\" >0.8193</td>\n",
       "                        <td id=\"T_917bc844_491d_11eb_aa62_ccb0da7bbe2erow1_col5\" class=\"data row1 col5\" >0.7530</td>\n",
       "                        <td id=\"T_917bc844_491d_11eb_aa62_ccb0da7bbe2erow1_col6\" class=\"data row1 col6\" >0.6138</td>\n",
       "                        <td id=\"T_917bc844_491d_11eb_aa62_ccb0da7bbe2erow1_col7\" class=\"data row1 col7\" >0.6227</td>\n",
       "                        <td id=\"T_917bc844_491d_11eb_aa62_ccb0da7bbe2erow1_col8\" class=\"data row1 col8\" >2.6130</td>\n",
       "            </tr>\n",
       "            <tr>\n",
       "                        <th id=\"T_917bc844_491d_11eb_aa62_ccb0da7bbe2elevel0_row2\" class=\"row_heading level0 row2\" >lightgbm</th>\n",
       "                        <td id=\"T_917bc844_491d_11eb_aa62_ccb0da7bbe2erow2_col0\" class=\"data row2 col0\" >Light Gradient Boosting Machine</td>\n",
       "                        <td id=\"T_917bc844_491d_11eb_aa62_ccb0da7bbe2erow2_col1\" class=\"data row2 col1\" >0.7977</td>\n",
       "                        <td id=\"T_917bc844_491d_11eb_aa62_ccb0da7bbe2erow2_col2\" class=\"data row2 col2\" >0.8516</td>\n",
       "                        <td id=\"T_917bc844_491d_11eb_aa62_ccb0da7bbe2erow2_col3\" class=\"data row2 col3\" >0.7062</td>\n",
       "                        <td id=\"T_917bc844_491d_11eb_aa62_ccb0da7bbe2erow2_col4\" class=\"data row2 col4\" >0.7688</td>\n",
       "                        <td id=\"T_917bc844_491d_11eb_aa62_ccb0da7bbe2erow2_col5\" class=\"data row2 col5\" >0.7304</td>\n",
       "                        <td id=\"T_917bc844_491d_11eb_aa62_ccb0da7bbe2erow2_col6\" class=\"data row2 col6\" >0.5699</td>\n",
       "                        <td id=\"T_917bc844_491d_11eb_aa62_ccb0da7bbe2erow2_col7\" class=\"data row2 col7\" >0.5763</td>\n",
       "                        <td id=\"T_917bc844_491d_11eb_aa62_ccb0da7bbe2erow2_col8\" class=\"data row2 col8\" >0.1490</td>\n",
       "            </tr>\n",
       "            <tr>\n",
       "                        <th id=\"T_917bc844_491d_11eb_aa62_ccb0da7bbe2elevel0_row3\" class=\"row_heading level0 row3\" >xgboost</th>\n",
       "                        <td id=\"T_917bc844_491d_11eb_aa62_ccb0da7bbe2erow3_col0\" class=\"data row3 col0\" >Extreme Gradient Boosting</td>\n",
       "                        <td id=\"T_917bc844_491d_11eb_aa62_ccb0da7bbe2erow3_col1\" class=\"data row3 col1\" >0.7769</td>\n",
       "                        <td id=\"T_917bc844_491d_11eb_aa62_ccb0da7bbe2erow3_col2\" class=\"data row3 col2\" >0.8487</td>\n",
       "                        <td id=\"T_917bc844_491d_11eb_aa62_ccb0da7bbe2erow3_col3\" class=\"data row3 col3\" >0.7023</td>\n",
       "                        <td id=\"T_917bc844_491d_11eb_aa62_ccb0da7bbe2erow3_col4\" class=\"data row3 col4\" >0.7348</td>\n",
       "                        <td id=\"T_917bc844_491d_11eb_aa62_ccb0da7bbe2erow3_col5\" class=\"data row3 col5\" >0.7105</td>\n",
       "                        <td id=\"T_917bc844_491d_11eb_aa62_ccb0da7bbe2erow3_col6\" class=\"data row3 col6\" >0.5303</td>\n",
       "                        <td id=\"T_917bc844_491d_11eb_aa62_ccb0da7bbe2erow3_col7\" class=\"data row3 col7\" >0.5381</td>\n",
       "                        <td id=\"T_917bc844_491d_11eb_aa62_ccb0da7bbe2erow3_col8\" class=\"data row3 col8\" >0.5290</td>\n",
       "            </tr>\n",
       "            <tr>\n",
       "                        <th id=\"T_917bc844_491d_11eb_aa62_ccb0da7bbe2elevel0_row4\" class=\"row_heading level0 row4\" >lr</th>\n",
       "                        <td id=\"T_917bc844_491d_11eb_aa62_ccb0da7bbe2erow4_col0\" class=\"data row4 col0\" >Logistic Regression</td>\n",
       "                        <td id=\"T_917bc844_491d_11eb_aa62_ccb0da7bbe2erow4_col1\" class=\"data row4 col1\" >0.8123</td>\n",
       "                        <td id=\"T_917bc844_491d_11eb_aa62_ccb0da7bbe2erow4_col2\" class=\"data row4 col2\" >0.8482</td>\n",
       "                        <td id=\"T_917bc844_491d_11eb_aa62_ccb0da7bbe2erow4_col3\" class=\"data row4 col3\" >0.7272</td>\n",
       "                        <td id=\"T_917bc844_491d_11eb_aa62_ccb0da7bbe2erow4_col4\" class=\"data row4 col4\" >0.7829</td>\n",
       "                        <td id=\"T_917bc844_491d_11eb_aa62_ccb0da7bbe2erow4_col5\" class=\"data row4 col5\" >0.7501</td>\n",
       "                        <td id=\"T_917bc844_491d_11eb_aa62_ccb0da7bbe2erow4_col6\" class=\"data row4 col6\" >0.6007</td>\n",
       "                        <td id=\"T_917bc844_491d_11eb_aa62_ccb0da7bbe2erow4_col7\" class=\"data row4 col7\" >0.6057</td>\n",
       "                        <td id=\"T_917bc844_491d_11eb_aa62_ccb0da7bbe2erow4_col8\" class=\"data row4 col8\" >1.0670</td>\n",
       "            </tr>\n",
       "            <tr>\n",
       "                        <th id=\"T_917bc844_491d_11eb_aa62_ccb0da7bbe2elevel0_row5\" class=\"row_heading level0 row5\" >lda</th>\n",
       "                        <td id=\"T_917bc844_491d_11eb_aa62_ccb0da7bbe2erow5_col0\" class=\"data row5 col0\" >Linear Discriminant Analysis</td>\n",
       "                        <td id=\"T_917bc844_491d_11eb_aa62_ccb0da7bbe2erow5_col1\" class=\"data row5 col1\" >0.7978</td>\n",
       "                        <td id=\"T_917bc844_491d_11eb_aa62_ccb0da7bbe2erow5_col2\" class=\"data row5 col2\" >0.8413</td>\n",
       "                        <td id=\"T_917bc844_491d_11eb_aa62_ccb0da7bbe2erow5_col3\" class=\"data row5 col3\" >0.6985</td>\n",
       "                        <td id=\"T_917bc844_491d_11eb_aa62_ccb0da7bbe2erow5_col4\" class=\"data row5 col4\" >0.7714</td>\n",
       "                        <td id=\"T_917bc844_491d_11eb_aa62_ccb0da7bbe2erow5_col5\" class=\"data row5 col5\" >0.7270</td>\n",
       "                        <td id=\"T_917bc844_491d_11eb_aa62_ccb0da7bbe2erow5_col6\" class=\"data row5 col6\" >0.5681</td>\n",
       "                        <td id=\"T_917bc844_491d_11eb_aa62_ccb0da7bbe2erow5_col7\" class=\"data row5 col7\" >0.5757</td>\n",
       "                        <td id=\"T_917bc844_491d_11eb_aa62_ccb0da7bbe2erow5_col8\" class=\"data row5 col8\" >0.0230</td>\n",
       "            </tr>\n",
       "            <tr>\n",
       "                        <th id=\"T_917bc844_491d_11eb_aa62_ccb0da7bbe2elevel0_row6\" class=\"row_heading level0 row6\" >ada</th>\n",
       "                        <td id=\"T_917bc844_491d_11eb_aa62_ccb0da7bbe2erow6_col0\" class=\"data row6 col0\" >Ada Boost Classifier</td>\n",
       "                        <td id=\"T_917bc844_491d_11eb_aa62_ccb0da7bbe2erow6_col1\" class=\"data row6 col1\" >0.7946</td>\n",
       "                        <td id=\"T_917bc844_491d_11eb_aa62_ccb0da7bbe2erow6_col2\" class=\"data row6 col2\" >0.8310</td>\n",
       "                        <td id=\"T_917bc844_491d_11eb_aa62_ccb0da7bbe2erow6_col3\" class=\"data row6 col3\" >0.7312</td>\n",
       "                        <td id=\"T_917bc844_491d_11eb_aa62_ccb0da7bbe2erow6_col4\" class=\"data row6 col4\" >0.7419</td>\n",
       "                        <td id=\"T_917bc844_491d_11eb_aa62_ccb0da7bbe2erow6_col5\" class=\"data row6 col5\" >0.7352</td>\n",
       "                        <td id=\"T_917bc844_491d_11eb_aa62_ccb0da7bbe2erow6_col6\" class=\"data row6 col6\" >0.5677</td>\n",
       "                        <td id=\"T_917bc844_491d_11eb_aa62_ccb0da7bbe2erow6_col7\" class=\"data row6 col7\" >0.5691</td>\n",
       "                        <td id=\"T_917bc844_491d_11eb_aa62_ccb0da7bbe2erow6_col8\" class=\"data row6 col8\" >0.1290</td>\n",
       "            </tr>\n",
       "            <tr>\n",
       "                        <th id=\"T_917bc844_491d_11eb_aa62_ccb0da7bbe2elevel0_row7\" class=\"row_heading level0 row7\" >knn</th>\n",
       "                        <td id=\"T_917bc844_491d_11eb_aa62_ccb0da7bbe2erow7_col0\" class=\"data row7 col0\" >K Neighbors Classifier</td>\n",
       "                        <td id=\"T_917bc844_491d_11eb_aa62_ccb0da7bbe2erow7_col1\" class=\"data row7 col1\" >0.7673</td>\n",
       "                        <td id=\"T_917bc844_491d_11eb_aa62_ccb0da7bbe2erow7_col2\" class=\"data row7 col2\" >0.8308</td>\n",
       "                        <td id=\"T_917bc844_491d_11eb_aa62_ccb0da7bbe2erow7_col3\" class=\"data row7 col3\" >0.6533</td>\n",
       "                        <td id=\"T_917bc844_491d_11eb_aa62_ccb0da7bbe2erow7_col4\" class=\"data row7 col4\" >0.7306</td>\n",
       "                        <td id=\"T_917bc844_491d_11eb_aa62_ccb0da7bbe2erow7_col5\" class=\"data row7 col5\" >0.6846</td>\n",
       "                        <td id=\"T_917bc844_491d_11eb_aa62_ccb0da7bbe2erow7_col6\" class=\"data row7 col6\" >0.5023</td>\n",
       "                        <td id=\"T_917bc844_491d_11eb_aa62_ccb0da7bbe2erow7_col7\" class=\"data row7 col7\" >0.5083</td>\n",
       "                        <td id=\"T_917bc844_491d_11eb_aa62_ccb0da7bbe2erow7_col8\" class=\"data row7 col8\" >0.0390</td>\n",
       "            </tr>\n",
       "            <tr>\n",
       "                        <th id=\"T_917bc844_491d_11eb_aa62_ccb0da7bbe2elevel0_row8\" class=\"row_heading level0 row8\" >rf</th>\n",
       "                        <td id=\"T_917bc844_491d_11eb_aa62_ccb0da7bbe2erow8_col0\" class=\"data row8 col0\" >Random Forest Classifier</td>\n",
       "                        <td id=\"T_917bc844_491d_11eb_aa62_ccb0da7bbe2erow8_col1\" class=\"data row8 col1\" >0.7737</td>\n",
       "                        <td id=\"T_917bc844_491d_11eb_aa62_ccb0da7bbe2erow8_col2\" class=\"data row8 col2\" >0.8296</td>\n",
       "                        <td id=\"T_917bc844_491d_11eb_aa62_ccb0da7bbe2erow8_col3\" class=\"data row8 col3\" >0.6942</td>\n",
       "                        <td id=\"T_917bc844_491d_11eb_aa62_ccb0da7bbe2erow8_col4\" class=\"data row8 col4\" >0.7240</td>\n",
       "                        <td id=\"T_917bc844_491d_11eb_aa62_ccb0da7bbe2erow8_col5\" class=\"data row8 col5\" >0.7056</td>\n",
       "                        <td id=\"T_917bc844_491d_11eb_aa62_ccb0da7bbe2erow8_col6\" class=\"data row8 col6\" >0.5225</td>\n",
       "                        <td id=\"T_917bc844_491d_11eb_aa62_ccb0da7bbe2erow8_col7\" class=\"data row8 col7\" >0.5257</td>\n",
       "                        <td id=\"T_917bc844_491d_11eb_aa62_ccb0da7bbe2erow8_col8\" class=\"data row8 col8\" >0.3110</td>\n",
       "            </tr>\n",
       "            <tr>\n",
       "                        <th id=\"T_917bc844_491d_11eb_aa62_ccb0da7bbe2elevel0_row9\" class=\"row_heading level0 row9\" >et</th>\n",
       "                        <td id=\"T_917bc844_491d_11eb_aa62_ccb0da7bbe2erow9_col0\" class=\"data row9 col0\" >Extra Trees Classifier</td>\n",
       "                        <td id=\"T_917bc844_491d_11eb_aa62_ccb0da7bbe2erow9_col1\" class=\"data row9 col1\" >0.7577</td>\n",
       "                        <td id=\"T_917bc844_491d_11eb_aa62_ccb0da7bbe2erow9_col2\" class=\"data row9 col2\" >0.7925</td>\n",
       "                        <td id=\"T_917bc844_491d_11eb_aa62_ccb0da7bbe2erow9_col3\" class=\"data row9 col3\" >0.6735</td>\n",
       "                        <td id=\"T_917bc844_491d_11eb_aa62_ccb0da7bbe2erow9_col4\" class=\"data row9 col4\" >0.7046</td>\n",
       "                        <td id=\"T_917bc844_491d_11eb_aa62_ccb0da7bbe2erow9_col5\" class=\"data row9 col5\" >0.6850</td>\n",
       "                        <td id=\"T_917bc844_491d_11eb_aa62_ccb0da7bbe2erow9_col6\" class=\"data row9 col6\" >0.4889</td>\n",
       "                        <td id=\"T_917bc844_491d_11eb_aa62_ccb0da7bbe2erow9_col7\" class=\"data row9 col7\" >0.4925</td>\n",
       "                        <td id=\"T_917bc844_491d_11eb_aa62_ccb0da7bbe2erow9_col8\" class=\"data row9 col8\" >0.2700</td>\n",
       "            </tr>\n",
       "            <tr>\n",
       "                        <th id=\"T_917bc844_491d_11eb_aa62_ccb0da7bbe2elevel0_row10\" class=\"row_heading level0 row10\" >dt</th>\n",
       "                        <td id=\"T_917bc844_491d_11eb_aa62_ccb0da7bbe2erow10_col0\" class=\"data row10 col0\" >Decision Tree Classifier</td>\n",
       "                        <td id=\"T_917bc844_491d_11eb_aa62_ccb0da7bbe2erow10_col1\" class=\"data row10 col1\" >0.7593</td>\n",
       "                        <td id=\"T_917bc844_491d_11eb_aa62_ccb0da7bbe2erow10_col2\" class=\"data row10 col2\" >0.7543</td>\n",
       "                        <td id=\"T_917bc844_491d_11eb_aa62_ccb0da7bbe2erow10_col3\" class=\"data row10 col3\" >0.6857</td>\n",
       "                        <td id=\"T_917bc844_491d_11eb_aa62_ccb0da7bbe2erow10_col4\" class=\"data row10 col4\" >0.7014</td>\n",
       "                        <td id=\"T_917bc844_491d_11eb_aa62_ccb0da7bbe2erow10_col5\" class=\"data row10 col5\" >0.6889</td>\n",
       "                        <td id=\"T_917bc844_491d_11eb_aa62_ccb0da7bbe2erow10_col6\" class=\"data row10 col6\" >0.4935</td>\n",
       "                        <td id=\"T_917bc844_491d_11eb_aa62_ccb0da7bbe2erow10_col7\" class=\"data row10 col7\" >0.4972</td>\n",
       "                        <td id=\"T_917bc844_491d_11eb_aa62_ccb0da7bbe2erow10_col8\" class=\"data row10 col8\" >0.0240</td>\n",
       "            </tr>\n",
       "            <tr>\n",
       "                        <th id=\"T_917bc844_491d_11eb_aa62_ccb0da7bbe2elevel0_row11\" class=\"row_heading level0 row11\" >nb</th>\n",
       "                        <td id=\"T_917bc844_491d_11eb_aa62_ccb0da7bbe2erow11_col0\" class=\"data row11 col0\" >Naive Bayes</td>\n",
       "                        <td id=\"T_917bc844_491d_11eb_aa62_ccb0da7bbe2erow11_col1\" class=\"data row11 col1\" >0.4318</td>\n",
       "                        <td id=\"T_917bc844_491d_11eb_aa62_ccb0da7bbe2erow11_col2\" class=\"data row11 col2\" >0.7047</td>\n",
       "                        <td id=\"T_917bc844_491d_11eb_aa62_ccb0da7bbe2erow11_col3\" class=\"data row11 col3\" >0.9672</td>\n",
       "                        <td id=\"T_917bc844_491d_11eb_aa62_ccb0da7bbe2erow11_col4\" class=\"data row11 col4\" >0.4065</td>\n",
       "                        <td id=\"T_917bc844_491d_11eb_aa62_ccb0da7bbe2erow11_col5\" class=\"data row11 col5\" >0.5724</td>\n",
       "                        <td id=\"T_917bc844_491d_11eb_aa62_ccb0da7bbe2erow11_col6\" class=\"data row11 col6\" >0.0418</td>\n",
       "                        <td id=\"T_917bc844_491d_11eb_aa62_ccb0da7bbe2erow11_col7\" class=\"data row11 col7\" >0.1014</td>\n",
       "                        <td id=\"T_917bc844_491d_11eb_aa62_ccb0da7bbe2erow11_col8\" class=\"data row11 col8\" >0.0220</td>\n",
       "            </tr>\n",
       "            <tr>\n",
       "                        <th id=\"T_917bc844_491d_11eb_aa62_ccb0da7bbe2elevel0_row12\" class=\"row_heading level0 row12\" >qda</th>\n",
       "                        <td id=\"T_917bc844_491d_11eb_aa62_ccb0da7bbe2erow12_col0\" class=\"data row12 col0\" >Quadratic Discriminant Analysis</td>\n",
       "                        <td id=\"T_917bc844_491d_11eb_aa62_ccb0da7bbe2erow12_col1\" class=\"data row12 col1\" >0.5167</td>\n",
       "                        <td id=\"T_917bc844_491d_11eb_aa62_ccb0da7bbe2erow12_col2\" class=\"data row12 col2\" >0.5809</td>\n",
       "                        <td id=\"T_917bc844_491d_11eb_aa62_ccb0da7bbe2erow12_col3\" class=\"data row12 col3\" >0.8812</td>\n",
       "                        <td id=\"T_917bc844_491d_11eb_aa62_ccb0da7bbe2erow12_col4\" class=\"data row12 col4\" >0.4531</td>\n",
       "                        <td id=\"T_917bc844_491d_11eb_aa62_ccb0da7bbe2erow12_col5\" class=\"data row12 col5\" >0.5933</td>\n",
       "                        <td id=\"T_917bc844_491d_11eb_aa62_ccb0da7bbe2erow12_col6\" class=\"data row12 col6\" >0.1452</td>\n",
       "                        <td id=\"T_917bc844_491d_11eb_aa62_ccb0da7bbe2erow12_col7\" class=\"data row12 col7\" >0.1702</td>\n",
       "                        <td id=\"T_917bc844_491d_11eb_aa62_ccb0da7bbe2erow12_col8\" class=\"data row12 col8\" >0.0330</td>\n",
       "            </tr>\n",
       "            <tr>\n",
       "                        <th id=\"T_917bc844_491d_11eb_aa62_ccb0da7bbe2elevel0_row13\" class=\"row_heading level0 row13\" >svm</th>\n",
       "                        <td id=\"T_917bc844_491d_11eb_aa62_ccb0da7bbe2erow13_col0\" class=\"data row13 col0\" >SVM - Linear Kernel</td>\n",
       "                        <td id=\"T_917bc844_491d_11eb_aa62_ccb0da7bbe2erow13_col1\" class=\"data row13 col1\" >0.7464</td>\n",
       "                        <td id=\"T_917bc844_491d_11eb_aa62_ccb0da7bbe2erow13_col2\" class=\"data row13 col2\" >0.0000</td>\n",
       "                        <td id=\"T_917bc844_491d_11eb_aa62_ccb0da7bbe2erow13_col3\" class=\"data row13 col3\" >0.5390</td>\n",
       "                        <td id=\"T_917bc844_491d_11eb_aa62_ccb0da7bbe2erow13_col4\" class=\"data row13 col4\" >0.7527</td>\n",
       "                        <td id=\"T_917bc844_491d_11eb_aa62_ccb0da7bbe2erow13_col5\" class=\"data row13 col5\" >0.6114</td>\n",
       "                        <td id=\"T_917bc844_491d_11eb_aa62_ccb0da7bbe2erow13_col6\" class=\"data row13 col6\" >0.4363</td>\n",
       "                        <td id=\"T_917bc844_491d_11eb_aa62_ccb0da7bbe2erow13_col7\" class=\"data row13 col7\" >0.4606</td>\n",
       "                        <td id=\"T_917bc844_491d_11eb_aa62_ccb0da7bbe2erow13_col8\" class=\"data row13 col8\" >0.0530</td>\n",
       "            </tr>\n",
       "            <tr>\n",
       "                        <th id=\"T_917bc844_491d_11eb_aa62_ccb0da7bbe2elevel0_row14\" class=\"row_heading level0 row14\" >ridge</th>\n",
       "                        <td id=\"T_917bc844_491d_11eb_aa62_ccb0da7bbe2erow14_col0\" class=\"data row14 col0\" >Ridge Classifier</td>\n",
       "                        <td id=\"T_917bc844_491d_11eb_aa62_ccb0da7bbe2erow14_col1\" class=\"data row14 col1\" >0.8042</td>\n",
       "                        <td id=\"T_917bc844_491d_11eb_aa62_ccb0da7bbe2erow14_col2\" class=\"data row14 col2\" >0.0000</td>\n",
       "                        <td id=\"T_917bc844_491d_11eb_aa62_ccb0da7bbe2erow14_col3\" class=\"data row14 col3\" >0.7027</td>\n",
       "                        <td id=\"T_917bc844_491d_11eb_aa62_ccb0da7bbe2erow14_col4\" class=\"data row14 col4\" >0.7819</td>\n",
       "                        <td id=\"T_917bc844_491d_11eb_aa62_ccb0da7bbe2erow14_col5\" class=\"data row14 col5\" >0.7344</td>\n",
       "                        <td id=\"T_917bc844_491d_11eb_aa62_ccb0da7bbe2erow14_col6\" class=\"data row14 col6\" >0.5811</td>\n",
       "                        <td id=\"T_917bc844_491d_11eb_aa62_ccb0da7bbe2erow14_col7\" class=\"data row14 col7\" >0.5885</td>\n",
       "                        <td id=\"T_917bc844_491d_11eb_aa62_ccb0da7bbe2erow14_col8\" class=\"data row14 col8\" >0.0240</td>\n",
       "            </tr>\n",
       "    </tbody></table>"
      ],
      "text/plain": [
       "<pandas.io.formats.style.Styler at 0x18d2974c880>"
      ]
     },
     "metadata": {},
     "output_type": "display_data"
    }
   ],
   "source": [
    "best_5 = compare_models(sort = 'AUC', n_select = 5)"
   ]
  },
  {
   "cell_type": "code",
   "execution_count": 89,
   "metadata": {},
   "outputs": [
    {
     "data": {
      "text/html": [
       "<style  type=\"text/css\" >\n",
       "#T_a12b01b7_491d_11eb_8fa4_ccb0da7bbe2erow5_col0,#T_a12b01b7_491d_11eb_8fa4_ccb0da7bbe2erow5_col1,#T_a12b01b7_491d_11eb_8fa4_ccb0da7bbe2erow5_col2,#T_a12b01b7_491d_11eb_8fa4_ccb0da7bbe2erow5_col3,#T_a12b01b7_491d_11eb_8fa4_ccb0da7bbe2erow5_col4,#T_a12b01b7_491d_11eb_8fa4_ccb0da7bbe2erow5_col5,#T_a12b01b7_491d_11eb_8fa4_ccb0da7bbe2erow5_col6{\n",
       "            background:  yellow;\n",
       "        }</style><table id=\"T_a12b01b7_491d_11eb_8fa4_ccb0da7bbe2e\" ><thead>    <tr>        <th class=\"blank level0\" ></th>        <th class=\"col_heading level0 col0\" >Accuracy</th>        <th class=\"col_heading level0 col1\" >AUC</th>        <th class=\"col_heading level0 col2\" >Recall</th>        <th class=\"col_heading level0 col3\" >Prec.</th>        <th class=\"col_heading level0 col4\" >F1</th>        <th class=\"col_heading level0 col5\" >Kappa</th>        <th class=\"col_heading level0 col6\" >MCC</th>    </tr></thead><tbody>\n",
       "                <tr>\n",
       "                        <th id=\"T_a12b01b7_491d_11eb_8fa4_ccb0da7bbe2elevel0_row0\" class=\"row_heading level0 row0\" >0</th>\n",
       "                        <td id=\"T_a12b01b7_491d_11eb_8fa4_ccb0da7bbe2erow0_col0\" class=\"data row0 col0\" >0.8400</td>\n",
       "                        <td id=\"T_a12b01b7_491d_11eb_8fa4_ccb0da7bbe2erow0_col1\" class=\"data row0 col1\" >0.8869</td>\n",
       "                        <td id=\"T_a12b01b7_491d_11eb_8fa4_ccb0da7bbe2erow0_col2\" class=\"data row0 col2\" >0.7551</td>\n",
       "                        <td id=\"T_a12b01b7_491d_11eb_8fa4_ccb0da7bbe2erow0_col3\" class=\"data row0 col3\" >0.8222</td>\n",
       "                        <td id=\"T_a12b01b7_491d_11eb_8fa4_ccb0da7bbe2erow0_col4\" class=\"data row0 col4\" >0.7872</td>\n",
       "                        <td id=\"T_a12b01b7_491d_11eb_8fa4_ccb0da7bbe2erow0_col5\" class=\"data row0 col5\" >0.6594</td>\n",
       "                        <td id=\"T_a12b01b7_491d_11eb_8fa4_ccb0da7bbe2erow0_col6\" class=\"data row0 col6\" >0.6609</td>\n",
       "            </tr>\n",
       "            <tr>\n",
       "                        <th id=\"T_a12b01b7_491d_11eb_8fa4_ccb0da7bbe2elevel0_row1\" class=\"row_heading level0 row1\" >1</th>\n",
       "                        <td id=\"T_a12b01b7_491d_11eb_8fa4_ccb0da7bbe2erow1_col0\" class=\"data row1 col0\" >0.7760</td>\n",
       "                        <td id=\"T_a12b01b7_491d_11eb_8fa4_ccb0da7bbe2erow1_col1\" class=\"data row1 col1\" >0.8198</td>\n",
       "                        <td id=\"T_a12b01b7_491d_11eb_8fa4_ccb0da7bbe2erow1_col2\" class=\"data row1 col2\" >0.7143</td>\n",
       "                        <td id=\"T_a12b01b7_491d_11eb_8fa4_ccb0da7bbe2erow1_col3\" class=\"data row1 col3\" >0.7143</td>\n",
       "                        <td id=\"T_a12b01b7_491d_11eb_8fa4_ccb0da7bbe2erow1_col4\" class=\"data row1 col4\" >0.7143</td>\n",
       "                        <td id=\"T_a12b01b7_491d_11eb_8fa4_ccb0da7bbe2erow1_col5\" class=\"data row1 col5\" >0.5301</td>\n",
       "                        <td id=\"T_a12b01b7_491d_11eb_8fa4_ccb0da7bbe2erow1_col6\" class=\"data row1 col6\" >0.5301</td>\n",
       "            </tr>\n",
       "            <tr>\n",
       "                        <th id=\"T_a12b01b7_491d_11eb_8fa4_ccb0da7bbe2elevel0_row2\" class=\"row_heading level0 row2\" >2</th>\n",
       "                        <td id=\"T_a12b01b7_491d_11eb_8fa4_ccb0da7bbe2erow2_col0\" class=\"data row2 col0\" >0.8640</td>\n",
       "                        <td id=\"T_a12b01b7_491d_11eb_8fa4_ccb0da7bbe2erow2_col1\" class=\"data row2 col1\" >0.9160</td>\n",
       "                        <td id=\"T_a12b01b7_491d_11eb_8fa4_ccb0da7bbe2erow2_col2\" class=\"data row2 col2\" >0.8367</td>\n",
       "                        <td id=\"T_a12b01b7_491d_11eb_8fa4_ccb0da7bbe2erow2_col3\" class=\"data row2 col3\" >0.8200</td>\n",
       "                        <td id=\"T_a12b01b7_491d_11eb_8fa4_ccb0da7bbe2erow2_col4\" class=\"data row2 col4\" >0.8283</td>\n",
       "                        <td id=\"T_a12b01b7_491d_11eb_8fa4_ccb0da7bbe2erow2_col5\" class=\"data row2 col5\" >0.7157</td>\n",
       "                        <td id=\"T_a12b01b7_491d_11eb_8fa4_ccb0da7bbe2erow2_col6\" class=\"data row2 col6\" >0.7158</td>\n",
       "            </tr>\n",
       "            <tr>\n",
       "                        <th id=\"T_a12b01b7_491d_11eb_8fa4_ccb0da7bbe2elevel0_row3\" class=\"row_heading level0 row3\" >3</th>\n",
       "                        <td id=\"T_a12b01b7_491d_11eb_8fa4_ccb0da7bbe2erow3_col0\" class=\"data row3 col0\" >0.7581</td>\n",
       "                        <td id=\"T_a12b01b7_491d_11eb_8fa4_ccb0da7bbe2erow3_col1\" class=\"data row3 col1\" >0.8091</td>\n",
       "                        <td id=\"T_a12b01b7_491d_11eb_8fa4_ccb0da7bbe2erow3_col2\" class=\"data row3 col2\" >0.5714</td>\n",
       "                        <td id=\"T_a12b01b7_491d_11eb_8fa4_ccb0da7bbe2erow3_col3\" class=\"data row3 col3\" >0.7568</td>\n",
       "                        <td id=\"T_a12b01b7_491d_11eb_8fa4_ccb0da7bbe2erow3_col4\" class=\"data row3 col4\" >0.6512</td>\n",
       "                        <td id=\"T_a12b01b7_491d_11eb_8fa4_ccb0da7bbe2erow3_col5\" class=\"data row3 col5\" >0.4714</td>\n",
       "                        <td id=\"T_a12b01b7_491d_11eb_8fa4_ccb0da7bbe2erow3_col6\" class=\"data row3 col6\" >0.4823</td>\n",
       "            </tr>\n",
       "            <tr>\n",
       "                        <th id=\"T_a12b01b7_491d_11eb_8fa4_ccb0da7bbe2elevel0_row4\" class=\"row_heading level0 row4\" >4</th>\n",
       "                        <td id=\"T_a12b01b7_491d_11eb_8fa4_ccb0da7bbe2erow4_col0\" class=\"data row4 col0\" >0.8387</td>\n",
       "                        <td id=\"T_a12b01b7_491d_11eb_8fa4_ccb0da7bbe2erow4_col1\" class=\"data row4 col1\" >0.8517</td>\n",
       "                        <td id=\"T_a12b01b7_491d_11eb_8fa4_ccb0da7bbe2erow4_col2\" class=\"data row4 col2\" >0.6735</td>\n",
       "                        <td id=\"T_a12b01b7_491d_11eb_8fa4_ccb0da7bbe2erow4_col3\" class=\"data row4 col3\" >0.8919</td>\n",
       "                        <td id=\"T_a12b01b7_491d_11eb_8fa4_ccb0da7bbe2erow4_col4\" class=\"data row4 col4\" >0.7674</td>\n",
       "                        <td id=\"T_a12b01b7_491d_11eb_8fa4_ccb0da7bbe2erow4_col5\" class=\"data row4 col5\" >0.6476</td>\n",
       "                        <td id=\"T_a12b01b7_491d_11eb_8fa4_ccb0da7bbe2erow4_col6\" class=\"data row4 col6\" >0.6626</td>\n",
       "            </tr>\n",
       "            <tr>\n",
       "                        <th id=\"T_a12b01b7_491d_11eb_8fa4_ccb0da7bbe2elevel0_row5\" class=\"row_heading level0 row5\" >Mean</th>\n",
       "                        <td id=\"T_a12b01b7_491d_11eb_8fa4_ccb0da7bbe2erow5_col0\" class=\"data row5 col0\" >0.8154</td>\n",
       "                        <td id=\"T_a12b01b7_491d_11eb_8fa4_ccb0da7bbe2erow5_col1\" class=\"data row5 col1\" >0.8567</td>\n",
       "                        <td id=\"T_a12b01b7_491d_11eb_8fa4_ccb0da7bbe2erow5_col2\" class=\"data row5 col2\" >0.7102</td>\n",
       "                        <td id=\"T_a12b01b7_491d_11eb_8fa4_ccb0da7bbe2erow5_col3\" class=\"data row5 col3\" >0.8010</td>\n",
       "                        <td id=\"T_a12b01b7_491d_11eb_8fa4_ccb0da7bbe2erow5_col4\" class=\"data row5 col4\" >0.7497</td>\n",
       "                        <td id=\"T_a12b01b7_491d_11eb_8fa4_ccb0da7bbe2erow5_col5\" class=\"data row5 col5\" >0.6049</td>\n",
       "                        <td id=\"T_a12b01b7_491d_11eb_8fa4_ccb0da7bbe2erow5_col6\" class=\"data row5 col6\" >0.6104</td>\n",
       "            </tr>\n",
       "            <tr>\n",
       "                        <th id=\"T_a12b01b7_491d_11eb_8fa4_ccb0da7bbe2elevel0_row6\" class=\"row_heading level0 row6\" >SD</th>\n",
       "                        <td id=\"T_a12b01b7_491d_11eb_8fa4_ccb0da7bbe2erow6_col0\" class=\"data row6 col0\" >0.0409</td>\n",
       "                        <td id=\"T_a12b01b7_491d_11eb_8fa4_ccb0da7bbe2erow6_col1\" class=\"data row6 col1\" >0.0402</td>\n",
       "                        <td id=\"T_a12b01b7_491d_11eb_8fa4_ccb0da7bbe2erow6_col2\" class=\"data row6 col2\" >0.0879</td>\n",
       "                        <td id=\"T_a12b01b7_491d_11eb_8fa4_ccb0da7bbe2erow6_col3\" class=\"data row6 col3\" >0.0609</td>\n",
       "                        <td id=\"T_a12b01b7_491d_11eb_8fa4_ccb0da7bbe2erow6_col4\" class=\"data row6 col4\" >0.0614</td>\n",
       "                        <td id=\"T_a12b01b7_491d_11eb_8fa4_ccb0da7bbe2erow6_col5\" class=\"data row6 col5\" >0.0900</td>\n",
       "                        <td id=\"T_a12b01b7_491d_11eb_8fa4_ccb0da7bbe2erow6_col6\" class=\"data row6 col6\" >0.0886</td>\n",
       "            </tr>\n",
       "    </tbody></table>"
      ],
      "text/plain": [
       "<pandas.io.formats.style.Styler at 0x18d2ac97fa0>"
      ]
     },
     "metadata": {},
     "output_type": "display_data"
    }
   ],
   "source": [
    "blended = blend_models(estimator_list = best_5, fold = 5, method = 'soft') # soft voting"
   ]
  },
  {
   "cell_type": "code",
   "execution_count": 90,
   "metadata": {},
   "outputs": [],
   "source": [
    "final_model = finalize_model(blended)"
   ]
  },
  {
   "cell_type": "code",
   "execution_count": 92,
   "metadata": {},
   "outputs": [],
   "source": [
    "predictions = predict_model(final_model, data = test_x)"
   ]
  },
  {
   "cell_type": "code",
   "execution_count": 93,
   "metadata": {
    "scrolled": true
   },
   "outputs": [
    {
     "data": {
      "text/html": [
       "<div>\n",
       "<style scoped>\n",
       "    .dataframe tbody tr th:only-of-type {\n",
       "        vertical-align: middle;\n",
       "    }\n",
       "\n",
       "    .dataframe tbody tr th {\n",
       "        vertical-align: top;\n",
       "    }\n",
       "\n",
       "    .dataframe thead th {\n",
       "        text-align: right;\n",
       "    }\n",
       "</style>\n",
       "<table border=\"1\" class=\"dataframe\">\n",
       "  <thead>\n",
       "    <tr style=\"text-align: right;\">\n",
       "      <th></th>\n",
       "      <th>Age</th>\n",
       "      <th>SibSp</th>\n",
       "      <th>Parch</th>\n",
       "      <th>Fare</th>\n",
       "      <th>Embarked_0.0</th>\n",
       "      <th>Embarked_1.0</th>\n",
       "      <th>Embarked_2.0</th>\n",
       "      <th>Sex_1</th>\n",
       "      <th>Sex_2</th>\n",
       "      <th>name_num_0</th>\n",
       "      <th>name_num_1</th>\n",
       "      <th>name_num_2</th>\n",
       "      <th>name_num_3</th>\n",
       "      <th>Pclass_1</th>\n",
       "      <th>Pclass_2</th>\n",
       "      <th>Pclass_3</th>\n",
       "      <th>Family</th>\n",
       "      <th>Label</th>\n",
       "      <th>Score</th>\n",
       "    </tr>\n",
       "  </thead>\n",
       "  <tbody>\n",
       "    <tr>\n",
       "      <th>891</th>\n",
       "      <td>0.407407</td>\n",
       "      <td>0</td>\n",
       "      <td>0</td>\n",
       "      <td>-0.283372</td>\n",
       "      <td>0</td>\n",
       "      <td>0</td>\n",
       "      <td>1</td>\n",
       "      <td>1</td>\n",
       "      <td>0</td>\n",
       "      <td>1</td>\n",
       "      <td>0</td>\n",
       "      <td>0</td>\n",
       "      <td>0</td>\n",
       "      <td>0</td>\n",
       "      <td>0</td>\n",
       "      <td>1</td>\n",
       "      <td>0</td>\n",
       "      <td>0.0</td>\n",
       "      <td>0.9398</td>\n",
       "    </tr>\n",
       "    <tr>\n",
       "      <th>892</th>\n",
       "      <td>1.333333</td>\n",
       "      <td>1</td>\n",
       "      <td>0</td>\n",
       "      <td>-0.318839</td>\n",
       "      <td>1</td>\n",
       "      <td>0</td>\n",
       "      <td>0</td>\n",
       "      <td>0</td>\n",
       "      <td>1</td>\n",
       "      <td>0</td>\n",
       "      <td>0</td>\n",
       "      <td>1</td>\n",
       "      <td>0</td>\n",
       "      <td>0</td>\n",
       "      <td>0</td>\n",
       "      <td>1</td>\n",
       "      <td>1</td>\n",
       "      <td>0.0</td>\n",
       "      <td>0.7817</td>\n",
       "    </tr>\n",
       "    <tr>\n",
       "      <th>893</th>\n",
       "      <td>2.444444</td>\n",
       "      <td>0</td>\n",
       "      <td>0</td>\n",
       "      <td>-0.203886</td>\n",
       "      <td>0</td>\n",
       "      <td>0</td>\n",
       "      <td>1</td>\n",
       "      <td>1</td>\n",
       "      <td>0</td>\n",
       "      <td>1</td>\n",
       "      <td>0</td>\n",
       "      <td>0</td>\n",
       "      <td>0</td>\n",
       "      <td>0</td>\n",
       "      <td>1</td>\n",
       "      <td>0</td>\n",
       "      <td>0</td>\n",
       "      <td>0.0</td>\n",
       "      <td>0.8574</td>\n",
       "    </tr>\n",
       "    <tr>\n",
       "      <th>894</th>\n",
       "      <td>-0.148148</td>\n",
       "      <td>0</td>\n",
       "      <td>0</td>\n",
       "      <td>-0.247729</td>\n",
       "      <td>1</td>\n",
       "      <td>0</td>\n",
       "      <td>0</td>\n",
       "      <td>1</td>\n",
       "      <td>0</td>\n",
       "      <td>1</td>\n",
       "      <td>0</td>\n",
       "      <td>0</td>\n",
       "      <td>0</td>\n",
       "      <td>0</td>\n",
       "      <td>0</td>\n",
       "      <td>1</td>\n",
       "      <td>0</td>\n",
       "      <td>0.0</td>\n",
       "      <td>0.6751</td>\n",
       "    </tr>\n",
       "    <tr>\n",
       "      <th>895</th>\n",
       "      <td>-0.518519</td>\n",
       "      <td>1</td>\n",
       "      <td>1</td>\n",
       "      <td>-0.092676</td>\n",
       "      <td>1</td>\n",
       "      <td>0</td>\n",
       "      <td>0</td>\n",
       "      <td>0</td>\n",
       "      <td>1</td>\n",
       "      <td>0</td>\n",
       "      <td>0</td>\n",
       "      <td>1</td>\n",
       "      <td>0</td>\n",
       "      <td>0</td>\n",
       "      <td>0</td>\n",
       "      <td>1</td>\n",
       "      <td>2</td>\n",
       "      <td>1.0</td>\n",
       "      <td>0.6168</td>\n",
       "    </tr>\n",
       "    <tr>\n",
       "      <th>...</th>\n",
       "      <td>...</td>\n",
       "      <td>...</td>\n",
       "      <td>...</td>\n",
       "      <td>...</td>\n",
       "      <td>...</td>\n",
       "      <td>...</td>\n",
       "      <td>...</td>\n",
       "      <td>...</td>\n",
       "      <td>...</td>\n",
       "      <td>...</td>\n",
       "      <td>...</td>\n",
       "      <td>...</td>\n",
       "      <td>...</td>\n",
       "      <td>...</td>\n",
       "      <td>...</td>\n",
       "      <td>...</td>\n",
       "      <td>...</td>\n",
       "      <td>...</td>\n",
       "      <td>...</td>\n",
       "    </tr>\n",
       "    <tr>\n",
       "      <th>1304</th>\n",
       "      <td>0.000000</td>\n",
       "      <td>0</td>\n",
       "      <td>0</td>\n",
       "      <td>-0.273927</td>\n",
       "      <td>1</td>\n",
       "      <td>0</td>\n",
       "      <td>0</td>\n",
       "      <td>1</td>\n",
       "      <td>0</td>\n",
       "      <td>1</td>\n",
       "      <td>0</td>\n",
       "      <td>0</td>\n",
       "      <td>0</td>\n",
       "      <td>0</td>\n",
       "      <td>0</td>\n",
       "      <td>1</td>\n",
       "      <td>0</td>\n",
       "      <td>0.0</td>\n",
       "      <td>0.9230</td>\n",
       "    </tr>\n",
       "    <tr>\n",
       "      <th>1305</th>\n",
       "      <td>0.740741</td>\n",
       "      <td>0</td>\n",
       "      <td>0</td>\n",
       "      <td>4.039736</td>\n",
       "      <td>0</td>\n",
       "      <td>1</td>\n",
       "      <td>0</td>\n",
       "      <td>0</td>\n",
       "      <td>1</td>\n",
       "      <td>0</td>\n",
       "      <td>0</td>\n",
       "      <td>1</td>\n",
       "      <td>0</td>\n",
       "      <td>1</td>\n",
       "      <td>0</td>\n",
       "      <td>0</td>\n",
       "      <td>0</td>\n",
       "      <td>1.0</td>\n",
       "      <td>0.9802</td>\n",
       "    </tr>\n",
       "    <tr>\n",
       "      <th>1306</th>\n",
       "      <td>0.703704</td>\n",
       "      <td>0</td>\n",
       "      <td>0</td>\n",
       "      <td>-0.308146</td>\n",
       "      <td>1</td>\n",
       "      <td>0</td>\n",
       "      <td>0</td>\n",
       "      <td>1</td>\n",
       "      <td>0</td>\n",
       "      <td>1</td>\n",
       "      <td>0</td>\n",
       "      <td>0</td>\n",
       "      <td>0</td>\n",
       "      <td>0</td>\n",
       "      <td>0</td>\n",
       "      <td>1</td>\n",
       "      <td>0</td>\n",
       "      <td>0.0</td>\n",
       "      <td>0.9625</td>\n",
       "    </tr>\n",
       "    <tr>\n",
       "      <th>1307</th>\n",
       "      <td>0.000000</td>\n",
       "      <td>0</td>\n",
       "      <td>0</td>\n",
       "      <td>-0.273927</td>\n",
       "      <td>1</td>\n",
       "      <td>0</td>\n",
       "      <td>0</td>\n",
       "      <td>1</td>\n",
       "      <td>0</td>\n",
       "      <td>1</td>\n",
       "      <td>0</td>\n",
       "      <td>0</td>\n",
       "      <td>0</td>\n",
       "      <td>0</td>\n",
       "      <td>0</td>\n",
       "      <td>1</td>\n",
       "      <td>0</td>\n",
       "      <td>0.0</td>\n",
       "      <td>0.9230</td>\n",
       "    </tr>\n",
       "    <tr>\n",
       "      <th>1308</th>\n",
       "      <td>-1.851852</td>\n",
       "      <td>1</td>\n",
       "      <td>1</td>\n",
       "      <td>0.338083</td>\n",
       "      <td>0</td>\n",
       "      <td>1</td>\n",
       "      <td>0</td>\n",
       "      <td>1</td>\n",
       "      <td>0</td>\n",
       "      <td>1</td>\n",
       "      <td>0</td>\n",
       "      <td>0</td>\n",
       "      <td>0</td>\n",
       "      <td>0</td>\n",
       "      <td>0</td>\n",
       "      <td>1</td>\n",
       "      <td>2</td>\n",
       "      <td>1.0</td>\n",
       "      <td>0.8422</td>\n",
       "    </tr>\n",
       "  </tbody>\n",
       "</table>\n",
       "<p>418 rows × 19 columns</p>\n",
       "</div>"
      ],
      "text/plain": [
       "           Age  SibSp  Parch      Fare  Embarked_0.0  Embarked_1.0  \\\n",
       "891   0.407407      0      0 -0.283372             0             0   \n",
       "892   1.333333      1      0 -0.318839             1             0   \n",
       "893   2.444444      0      0 -0.203886             0             0   \n",
       "894  -0.148148      0      0 -0.247729             1             0   \n",
       "895  -0.518519      1      1 -0.092676             1             0   \n",
       "...        ...    ...    ...       ...           ...           ...   \n",
       "1304  0.000000      0      0 -0.273927             1             0   \n",
       "1305  0.740741      0      0  4.039736             0             1   \n",
       "1306  0.703704      0      0 -0.308146             1             0   \n",
       "1307  0.000000      0      0 -0.273927             1             0   \n",
       "1308 -1.851852      1      1  0.338083             0             1   \n",
       "\n",
       "      Embarked_2.0  Sex_1  Sex_2  name_num_0  name_num_1  name_num_2  \\\n",
       "891              1      1      0           1           0           0   \n",
       "892              0      0      1           0           0           1   \n",
       "893              1      1      0           1           0           0   \n",
       "894              0      1      0           1           0           0   \n",
       "895              0      0      1           0           0           1   \n",
       "...            ...    ...    ...         ...         ...         ...   \n",
       "1304             0      1      0           1           0           0   \n",
       "1305             0      0      1           0           0           1   \n",
       "1306             0      1      0           1           0           0   \n",
       "1307             0      1      0           1           0           0   \n",
       "1308             0      1      0           1           0           0   \n",
       "\n",
       "      name_num_3  Pclass_1  Pclass_2  Pclass_3  Family Label   Score  \n",
       "891            0         0         0         1       0   0.0  0.9398  \n",
       "892            0         0         0         1       1   0.0  0.7817  \n",
       "893            0         0         1         0       0   0.0  0.8574  \n",
       "894            0         0         0         1       0   0.0  0.6751  \n",
       "895            0         0         0         1       2   1.0  0.6168  \n",
       "...          ...       ...       ...       ...     ...   ...     ...  \n",
       "1304           0         0         0         1       0   0.0  0.9230  \n",
       "1305           0         1         0         0       0   1.0  0.9802  \n",
       "1306           0         0         0         1       0   0.0  0.9625  \n",
       "1307           0         0         0         1       0   0.0  0.9230  \n",
       "1308           0         0         0         1       2   1.0  0.8422  \n",
       "\n",
       "[418 rows x 19 columns]"
      ]
     },
     "execution_count": 93,
     "metadata": {},
     "output_type": "execute_result"
    }
   ],
   "source": [
    "predictions"
   ]
  },
  {
   "cell_type": "code",
   "execution_count": 105,
   "metadata": {},
   "outputs": [],
   "source": [
    "predictions = predictions.reset_index(drop=True)"
   ]
  },
  {
   "cell_type": "code",
   "execution_count": 106,
   "metadata": {},
   "outputs": [],
   "source": [
    "submission['Survived'] = predictions['Score']"
   ]
  },
  {
   "cell_type": "code",
   "execution_count": 107,
   "metadata": {},
   "outputs": [],
   "source": [
    "submission.to_csv('automl_auc.csv',index=False)"
   ]
  },
  {
   "cell_type": "code",
   "execution_count": 108,
   "metadata": {
    "scrolled": false
   },
   "outputs": [
    {
     "data": {
      "text/html": [
       "<div>\n",
       "<style scoped>\n",
       "    .dataframe tbody tr th:only-of-type {\n",
       "        vertical-align: middle;\n",
       "    }\n",
       "\n",
       "    .dataframe tbody tr th {\n",
       "        vertical-align: top;\n",
       "    }\n",
       "\n",
       "    .dataframe thead th {\n",
       "        text-align: right;\n",
       "    }\n",
       "</style>\n",
       "<table border=\"1\" class=\"dataframe\">\n",
       "  <thead>\n",
       "    <tr style=\"text-align: right;\">\n",
       "      <th></th>\n",
       "      <th>PassengerId</th>\n",
       "      <th>Survived</th>\n",
       "    </tr>\n",
       "  </thead>\n",
       "  <tbody>\n",
       "    <tr>\n",
       "      <th>0</th>\n",
       "      <td>892</td>\n",
       "      <td>0.9398</td>\n",
       "    </tr>\n",
       "    <tr>\n",
       "      <th>1</th>\n",
       "      <td>893</td>\n",
       "      <td>0.7817</td>\n",
       "    </tr>\n",
       "    <tr>\n",
       "      <th>2</th>\n",
       "      <td>894</td>\n",
       "      <td>0.8574</td>\n",
       "    </tr>\n",
       "    <tr>\n",
       "      <th>3</th>\n",
       "      <td>895</td>\n",
       "      <td>0.6751</td>\n",
       "    </tr>\n",
       "    <tr>\n",
       "      <th>4</th>\n",
       "      <td>896</td>\n",
       "      <td>0.6168</td>\n",
       "    </tr>\n",
       "    <tr>\n",
       "      <th>...</th>\n",
       "      <td>...</td>\n",
       "      <td>...</td>\n",
       "    </tr>\n",
       "    <tr>\n",
       "      <th>413</th>\n",
       "      <td>1305</td>\n",
       "      <td>0.9230</td>\n",
       "    </tr>\n",
       "    <tr>\n",
       "      <th>414</th>\n",
       "      <td>1306</td>\n",
       "      <td>0.9802</td>\n",
       "    </tr>\n",
       "    <tr>\n",
       "      <th>415</th>\n",
       "      <td>1307</td>\n",
       "      <td>0.9625</td>\n",
       "    </tr>\n",
       "    <tr>\n",
       "      <th>416</th>\n",
       "      <td>1308</td>\n",
       "      <td>0.9230</td>\n",
       "    </tr>\n",
       "    <tr>\n",
       "      <th>417</th>\n",
       "      <td>1309</td>\n",
       "      <td>0.8422</td>\n",
       "    </tr>\n",
       "  </tbody>\n",
       "</table>\n",
       "<p>418 rows × 2 columns</p>\n",
       "</div>"
      ],
      "text/plain": [
       "     PassengerId  Survived\n",
       "0            892    0.9398\n",
       "1            893    0.7817\n",
       "2            894    0.8574\n",
       "3            895    0.6751\n",
       "4            896    0.6168\n",
       "..           ...       ...\n",
       "413         1305    0.9230\n",
       "414         1306    0.9802\n",
       "415         1307    0.9625\n",
       "416         1308    0.9230\n",
       "417         1309    0.8422\n",
       "\n",
       "[418 rows x 2 columns]"
      ]
     },
     "execution_count": 108,
     "metadata": {},
     "output_type": "execute_result"
    }
   ],
   "source": [
    "why=pd.read_csv('automl_auc.csv')\n",
    "why"
   ]
  },
  {
   "cell_type": "code",
   "execution_count": null,
   "metadata": {},
   "outputs": [],
   "source": [
    "# df_train.drop(df_train.loc[df_train['Fare']>500].index, inplace=True)"
   ]
  },
  {
   "cell_type": "code",
   "execution_count": null,
   "metadata": {},
   "outputs": [],
   "source": [
    "# df.drop(df.loc[df['Fare']>500].index, inplace=True)"
   ]
  },
  {
   "cell_type": "code",
   "execution_count": null,
   "metadata": {
    "scrolled": true
   },
   "outputs": [],
   "source": [
    "# plt.figure(figsize=(20,5))\n",
    "# boxplot=df_train.boxplot(column=['Fare'],vert=0)"
   ]
  },
  {
   "cell_type": "code",
   "execution_count": null,
   "metadata": {},
   "outputs": [],
   "source": [
    "# plt.figure(figsize=(20,5))\n",
    "# boxplot=df_test.boxplot(column=['Fare'],vert=0)"
   ]
  }
 ],
 "metadata": {
  "kernelspec": {
   "display_name": "Python 3",
   "language": "python",
   "name": "python3"
  },
  "language_info": {
   "codemirror_mode": {
    "name": "ipython",
    "version": 3
   },
   "file_extension": ".py",
   "mimetype": "text/x-python",
   "name": "python",
   "nbconvert_exporter": "python",
   "pygments_lexer": "ipython3",
   "version": "3.8.5"
  }
 },
 "nbformat": 4,
 "nbformat_minor": 2
}
