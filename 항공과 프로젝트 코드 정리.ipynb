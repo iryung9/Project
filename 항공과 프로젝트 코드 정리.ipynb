{
 "cells": [
  {
   "cell_type": "code",
   "execution_count": null,
   "metadata": {},
   "outputs": [],
   "source": [
    "import pycaret\n",
    "import missingno as msno\n",
    "import pandas as pd\n",
    "import numpy as np\n",
    "import matplotlib as mpl\n",
    "import matplotlib.pylab as plt\n",
    "\n",
    "import os\n",
    "import pandas as pd\n",
    "import numpy as np\n",
    "import seaborn as sns\n",
    "\n",
    "plt.rcParams[\"font.family\"]=\"Malgun Gothic\"\n",
    "plt.rcParams[\"font.size\"]=12\n",
    "plt.rcParams[\"figure.figsize\"]=(14,4)\n",
    "mpl.rcParams[\"axes.unicode_minus\"]=False\n",
    "\n",
    "import time\n",
    "import statsmodels.api as sm"
   ]
  },
  {
   "cell_type": "code",
   "execution_count": null,
   "metadata": {},
   "outputs": [],
   "source": [
    "pd.set_option('display.max_row', 500)\n",
    "pd.set_option('display.max_columns', 100)"
   ]
  },
  {
   "cell_type": "code",
   "execution_count": null,
   "metadata": {},
   "outputs": [],
   "source": [
    "df=pd.read_csv('datafile.csv',encoding='ANSI')"
   ]
  },
  {
   "cell_type": "markdown",
   "metadata": {},
   "source": [
    "# EDA"
   ]
  },
  {
   "cell_type": "code",
   "execution_count": null,
   "metadata": {},
   "outputs": [],
   "source": [
    "df.head()"
   ]
  },
  {
   "cell_type": "code",
   "execution_count": null,
   "metadata": {},
   "outputs": [],
   "source": [
    "df.describe()"
   ]
  },
  {
   "cell_type": "code",
   "execution_count": null,
   "metadata": {},
   "outputs": [],
   "source": [
    "df.columns"
   ]
  },
  {
   "cell_type": "code",
   "execution_count": null,
   "metadata": {},
   "outputs": [],
   "source": [
    "plt.figure(figsize=[15,7])\n",
    "boxplot=df.boxplot(column=[\n",
    "       'VIP', '계기비행(교육)', '계기비행(야간)', '수색(주간)', '시험비행', '주간비행',\n",
    "    '계기비행(주간)', '구명벌투하', '구조(주간)', '기타', '불법조업단속', '비상절차(훈련)',\n",
    "       '수색(야간)', '야간비행', '야간비행(교육)', '오염군탐색', '오염적발', '정비(행정이동)', '조명탄투하',\n",
    "       '타기관지원', '합동훈련', '해상안전'],vert=0)"
   ]
  },
  {
   "cell_type": "code",
   "execution_count": null,
   "metadata": {},
   "outputs": [],
   "source": [
    "plt.figure(figsize=[15,3])\n",
    "boxplot=df.boxplot(column=['계획', '긴급', '비계획', '자체', '공군', '외주'],vert=0)"
   ]
  },
  {
   "cell_type": "code",
   "execution_count": null,
   "metadata": {},
   "outputs": [],
   "source": [
    "plt.figure(figsize=[15,1])\n",
    "boxplot=df.boxplot(column=['정비대금'],vert=0)"
   ]
  },
  {
   "cell_type": "code",
   "execution_count": null,
   "metadata": {},
   "outputs": [],
   "source": [
    "plt.figure(figsize=[15,1])\n",
    "boxplot=df.boxplot(column=['불가동일수'],vert=0)"
   ]
  },
  {
   "cell_type": "code",
   "execution_count": null,
   "metadata": {},
   "outputs": [],
   "source": [
    "import matplotlib.pyplot as plt\n",
    "\n",
    "df.hist(bins=50,figsize=(20,20))\n",
    "plt.show()"
   ]
  },
  {
   "cell_type": "markdown",
   "metadata": {},
   "source": [
    "- 이상치 제거 필요 : 정비대금, 불가동 일수"
   ]
  },
  {
   "cell_type": "markdown",
   "metadata": {},
   "source": [
    "### 비행실적 시각화 위해 NaN으로 바꿈"
   ]
  },
  {
   "cell_type": "code",
   "execution_count": null,
   "metadata": {},
   "outputs": [],
   "source": [
    "df = df.replace(0, np.NaN)"
   ]
  },
  {
   "cell_type": "code",
   "execution_count": null,
   "metadata": {},
   "outputs": [],
   "source": [
    "msno.bar(df)"
   ]
  },
  {
   "cell_type": "markdown",
   "metadata": {},
   "source": [
    "- 3년간 건수<br>\n",
    "0 : 주간비행, 야간비행, 오염적발<br>\n",
    "1 : 계기비행(야간), 계기비행(주간), 구명벌투하, 구조, 비상절차(훈련), 야간비행(교육), 오염군탐색, 타기관지원<br>\n",
    "-> 분석에서 제거<br>"
   ]
  },
  {
   "cell_type": "code",
   "execution_count": null,
   "metadata": {},
   "outputs": [],
   "source": [
    "df_1=df.drop(['주간비행', '야간비행', '오염적발','계기비행(야간)', '계기비행(주간)', \n",
    "              '구명벌투하', '구조(주간)', '비상절차(훈련)', '야간비행(교육)', '오염군탐색', '타기관지원'],axis=1)"
   ]
  },
  {
   "cell_type": "code",
   "execution_count": null,
   "metadata": {},
   "outputs": [],
   "source": [
    "msno.bar(df_1)"
   ]
  },
  {
   "cell_type": "code",
   "execution_count": null,
   "metadata": {},
   "outputs": [],
   "source": [
    "df_2 = df_1.replace(np.NaN,0)"
   ]
  },
  {
   "cell_type": "code",
   "execution_count": null,
   "metadata": {},
   "outputs": [],
   "source": [
    "#다시 0으로 변환됐는지 확인\n",
    "msno.bar(df_2)"
   ]
  },
  {
   "cell_type": "code",
   "execution_count": null,
   "metadata": {},
   "outputs": [],
   "source": [
    "heatmap_data = df[['년도', '분기', '계획', '긴급', '비계획', '자체', '공군', '외주', '정비대금','불가동일수', 'VIP', '계기비행(교육)', '수색(주간)', \n",
    " '시험비행','해상경비', '기타', '불법조업단속','수색(야간)','정비(행정이동)', '조명탄투하','합동훈련', '해상안전']]"
   ]
  },
  {
   "cell_type": "code",
   "execution_count": null,
   "metadata": {},
   "outputs": [],
   "source": [
    "heatmap_data = df[['정비대금','비계획','외주','자체','해상안전','계획']]"
   ]
  },
  {
   "cell_type": "code",
   "execution_count": null,
   "metadata": {},
   "outputs": [],
   "source": [
    "colormap = plt.cm.PuBu \n",
    "plt.figure(figsize=(10,10)) \n",
    "plt.title(\"Person Correlation of Features\", y = 1.05, size = 15) \n",
    "sns.heatmap(heatmap_data.astype(float).corr(), linewidths = 0.1, vmax = 1.0, square = True, cmap = colormap, linecolor = \"white\", annot = True, annot_kws = {\"size\" : 16})"
   ]
  },
  {
   "cell_type": "code",
   "execution_count": null,
   "metadata": {},
   "outputs": [],
   "source": [
    "corr_matrix=df_2.corr()\n",
    "corr_matrix['정비대금'].sort_values(ascending=False)"
   ]
  },
  {
   "cell_type": "code",
   "execution_count": null,
   "metadata": {},
   "outputs": [],
   "source": [
    "#corr>0.2 변수들로 scatter matrix\n",
    "\n",
    "from pandas.plotting import scatter_matrix\n",
    "\n",
    "attributes=['정비대금','비계획','외주','자체','해상안전','계획']\n",
    "scatter_matrix(df_2[attributes],figsize=(12,8))"
   ]
  },
  {
   "cell_type": "code",
   "execution_count": null,
   "metadata": {},
   "outputs": [],
   "source": [
    "sns.distplot(df['계획'],label='계획')\n",
    "sns.distplot(df['긴급'],label='긴급')\n",
    "sns.distplot(df['비계획'],label='비계획')\n",
    "plt.xlabel('분기별 건수')\n",
    "plt.ylabel('발생 빈도')\n",
    "plt.legend()"
   ]
  },
  {
   "cell_type": "code",
   "execution_count": null,
   "metadata": {},
   "outputs": [],
   "source": [
    "sns.distplot(df['자체'],label='자체')\n",
    "sns.distplot(df['공군'],label='공군')\n",
    "sns.distplot(df['외주'],label='외주')\n",
    "plt.xlabel('분기별 건수')\n",
    "plt.ylabel('발생 빈도')\n",
    "plt.legend()"
   ]
  },
  {
   "cell_type": "code",
   "execution_count": null,
   "metadata": {},
   "outputs": [],
   "source": [
    "sns.distplot(df['불가동일수'])"
   ]
  },
  {
   "cell_type": "code",
   "execution_count": null,
   "metadata": {},
   "outputs": [],
   "source": [
    "ratio = [106,10,59]\n",
    "labels = ['계획', '긴급', '비계획']\n",
    "explode = [0.1,0.1,0.1]\n",
    "colors = ['#ff9999', '#ffc000', '#8fd9b6']\n",
    "\n",
    "plt.pie(ratio, labels=labels, autopct='%.1f%%', startangle=260, counterclock=False, \n",
    "        explode=explode, shadow=True,colors=colors)\n",
    "plt.show()"
   ]
  },
  {
   "cell_type": "code",
   "execution_count": null,
   "metadata": {},
   "outputs": [],
   "source": [
    "ratio = [101,19,53]\n",
    "labels = ['자체', '공군', '외주']\n",
    "explode = [0.1,0.1,0.1]\n",
    "colors = ['#ffc000', '#8fd9b6', '#d395d0']\n",
    "\n",
    "plt.pie(ratio, labels=labels, autopct='%.1f%%', startangle=260, counterclock=False, \n",
    "        explode=explode, shadow=True,colors=colors)\n",
    "plt.show()"
   ]
  },
  {
   "cell_type": "code",
   "execution_count": null,
   "metadata": {},
   "outputs": [],
   "source": [
    "sns.distplot(df['정비대금'],bins=60)"
   ]
  },
  {
   "cell_type": "markdown",
   "metadata": {},
   "source": [
    "- EDA 끝"
   ]
  },
  {
   "cell_type": "markdown",
   "metadata": {},
   "source": [
    "# 더미변수화"
   ]
  },
  {
   "cell_type": "code",
   "execution_count": null,
   "metadata": {},
   "outputs": [],
   "source": [
    "df_2.info()"
   ]
  },
  {
   "cell_type": "code",
   "execution_count": null,
   "metadata": {},
   "outputs": [],
   "source": [
    "df_dummy=pd.get_dummies(data=df_2,columns=['기종','호기','년도','분기'])"
   ]
  },
  {
   "cell_type": "code",
   "execution_count": null,
   "metadata": {},
   "outputs": [],
   "source": [
    "df_dummy.head()"
   ]
  },
  {
   "cell_type": "code",
   "execution_count": null,
   "metadata": {},
   "outputs": [],
   "source": [
    "df_dummy.info()"
   ]
  },
  {
   "cell_type": "code",
   "execution_count": null,
   "metadata": {},
   "outputs": [],
   "source": [
    "df=df_dummy"
   ]
  },
  {
   "cell_type": "markdown",
   "metadata": {},
   "source": [
    "# 변수 스케일링"
   ]
  },
  {
   "cell_type": "code",
   "execution_count": null,
   "metadata": {},
   "outputs": [],
   "source": [
    "colnames=['정비대금',\n",
    "       '불가동일수', 'VIP', '계기비행(교육)', '계기비행(야간)', '수색(주간)', '시험비행', '주간비행',\n",
    "       '해상경비', '계기비행(주간)', '구명벌투하', '구조(주간)', '기타', '불법조업단속', '비상절차(훈련)',\n",
    "       '수색(야간)', '야간비행', '야간비행(교육)', '오염군탐색', '오염적발', '정비(행정이동)', '조명탄투하',\n",
    "       '타기관지원', '합동훈련', '해상안전']"
   ]
  },
  {
   "cell_type": "code",
   "execution_count": null,
   "metadata": {},
   "outputs": [],
   "source": [
    "df_cat=df.iloc[:,:10]\n",
    "df_fl=df.iloc[:,10:]"
   ]
  },
  {
   "cell_type": "code",
   "execution_count": null,
   "metadata": {},
   "outputs": [],
   "source": [
    "from sklearn.model_selection import train_test_split\n",
    "from pycaret.regression import *"
   ]
  },
  {
   "cell_type": "markdown",
   "metadata": {},
   "source": [
    "# MinMax Scaler"
   ]
  },
  {
   "cell_type": "code",
   "execution_count": null,
   "metadata": {},
   "outputs": [],
   "source": [
    "from sklearn.preprocessing import MinMaxScaler\n",
    "scaler=MinMaxScaler()\n",
    "\n",
    "new_colnames=[i+'_mms' for i in colnames]\n",
    "df_mms=pd.concat([df_cat,pd.DataFrame(scaler.fit_transform(df_fl[colnames]),columns=new_colnames)],axis=1)"
   ]
  },
  {
   "cell_type": "code",
   "execution_count": null,
   "metadata": {},
   "outputs": [],
   "source": [
    "train,test=train_test_split(df_mms,test_size=0.2,random_state=42)\n",
    "exp1=setup(train,target='정비대금_mms',train_size=0.8)"
   ]
  },
  {
   "cell_type": "code",
   "execution_count": null,
   "metadata": {},
   "outputs": [],
   "source": [
    "best_5=compare_models(sort='RMSE',n_select=1)"
   ]
  },
  {
   "cell_type": "markdown",
   "metadata": {},
   "source": [
    "# Robust Scaler"
   ]
  },
  {
   "cell_type": "code",
   "execution_count": null,
   "metadata": {},
   "outputs": [],
   "source": [
    "from sklearn.preprocessing import RobustScaler\n",
    "scaler=RobustScaler()\n",
    "\n",
    "new_colnames=[i+'_rs' for i in colnames]\n",
    "df_rs=pd.concat([df_cat,pd.DataFrame(scaler.fit_transform(df_fl[colnames]),columns=new_colnames)],axis=1)"
   ]
  },
  {
   "cell_type": "code",
   "execution_count": null,
   "metadata": {},
   "outputs": [],
   "source": [
    "train,test=train_test_split(df_rs,test_size=0.2,random_state=42)\n",
    "exp1=setup(train,target='정비대금_rs',train_size=0.8)"
   ]
  },
  {
   "cell_type": "code",
   "execution_count": null,
   "metadata": {},
   "outputs": [],
   "source": [
    "best_5=compare_models(sort='RMSE',n_select=1)"
   ]
  },
  {
   "cell_type": "markdown",
   "metadata": {},
   "source": [
    "# Standard Scaler"
   ]
  },
  {
   "cell_type": "code",
   "execution_count": null,
   "metadata": {},
   "outputs": [],
   "source": [
    "from sklearn.preprocessing import StandardScaler\n",
    "scaler=StandardScaler()\n",
    "\n",
    "new_colnames=[i+'_ss' for i in colnames]\n",
    "df_ss=pd.concat([df_cat,pd.DataFrame(scaler.fit_transform(df_fl[colnames]),columns=new_colnames)],axis=1)"
   ]
  },
  {
   "cell_type": "code",
   "execution_count": null,
   "metadata": {},
   "outputs": [],
   "source": [
    "train,test=train_test_split(df_ss,test_size=0.2,random_state=42)\n",
    "exp1=setup(train,target='정비대금_ss',train_size=0.8)"
   ]
  },
  {
   "cell_type": "code",
   "execution_count": null,
   "metadata": {},
   "outputs": [],
   "source": [
    "best_5=compare_models(sort='R2',n_select=1)"
   ]
  },
  {
   "cell_type": "code",
   "execution_count": null,
   "metadata": {},
   "outputs": [],
   "source": [
    "knn=create_model('knn',cross_validation=False) #KNN"
   ]
  },
  {
   "cell_type": "code",
   "execution_count": null,
   "metadata": {},
   "outputs": [],
   "source": [
    "rf=create_model('rf',cross_validation=False) #RF"
   ]
  },
  {
   "cell_type": "code",
   "execution_count": null,
   "metadata": {},
   "outputs": [],
   "source": [
    "blender_specific = blend_models(estimator_list = [rf,knn], optimize = 'R2')"
   ]
  },
  {
   "cell_type": "markdown",
   "metadata": {},
   "source": [
    "# plot_model"
   ]
  },
  {
   "cell_type": "code",
   "execution_count": null,
   "metadata": {},
   "outputs": [],
   "source": [
    "plot_model(blender_specific)"
   ]
  },
  {
   "cell_type": "code",
   "execution_count": null,
   "metadata": {},
   "outputs": [],
   "source": [
    "plot_model(blender_specific, plot='error')"
   ]
  },
  {
   "cell_type": "code",
   "execution_count": null,
   "metadata": {},
   "outputs": [],
   "source": [
    "plot_model(rf)"
   ]
  },
  {
   "cell_type": "code",
   "execution_count": null,
   "metadata": {},
   "outputs": [],
   "source": [
    "plot_model(rf, plot='error')"
   ]
  },
  {
   "cell_type": "code",
   "execution_count": null,
   "metadata": {},
   "outputs": [],
   "source": [
    "plot_model(rf, plot='feature')"
   ]
  },
  {
   "cell_type": "code",
   "execution_count": null,
   "metadata": {},
   "outputs": [],
   "source": [
    "plot_model(knn)"
   ]
  },
  {
   "cell_type": "code",
   "execution_count": null,
   "metadata": {},
   "outputs": [],
   "source": [
    "plot_model(knn, plot='error')"
   ]
  },
  {
   "cell_type": "markdown",
   "metadata": {},
   "source": [
    "# Text Mining"
   ]
  },
  {
   "cell_type": "code",
   "execution_count": null,
   "metadata": {},
   "outputs": [],
   "source": [
    "textfile=pd.read_csv('자체.csv',encoding='ANSI')"
   ]
  },
  {
   "cell_type": "code",
   "execution_count": null,
   "metadata": {},
   "outputs": [],
   "source": [
    "df=textfile['정비명']"
   ]
  },
  {
   "cell_type": "code",
   "execution_count": null,
   "metadata": {},
   "outputs": [],
   "source": [
    "df.to_csv('자체정비.txt',index=False)"
   ]
  },
  {
   "cell_type": "code",
   "execution_count": null,
   "metadata": {},
   "outputs": [],
   "source": [
    "file=open('자체정비.txt', 'rt', encoding='UTF8')\n",
    " \n",
    "text = file.read() \n",
    " \n",
    "wordList = text.split()\n",
    " \n",
    "wordCount = {} \n",
    " \n",
    "for word in wordList:\n",
    " \n",
    "    # Get 명령어를 통해, Dictionary에 Key가 없으면 0리턴\n",
    " \n",
    "    wordCount[word] = wordCount.get(word, 0) + 1 \n",
    "    \n",
    "    keys = sorted(wordCount.keys())\n",
    " \n",
    "for word in keys:\n",
    " \n",
    "    print(word + ':' + str(wordCount[word])) "
   ]
  }
 ],
 "metadata": {
  "kernelspec": {
   "display_name": "Python 3",
   "language": "python",
   "name": "python3"
  },
  "language_info": {
   "codemirror_mode": {
    "name": "ipython",
    "version": 3
   },
   "file_extension": ".py",
   "mimetype": "text/x-python",
   "name": "python",
   "nbconvert_exporter": "python",
   "pygments_lexer": "ipython3",
   "version": "3.8.3"
  }
 },
 "nbformat": 4,
 "nbformat_minor": 4
}
